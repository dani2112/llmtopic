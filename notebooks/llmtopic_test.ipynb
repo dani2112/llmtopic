{
 "cells": [
  {
   "cell_type": "code",
   "execution_count": 1,
   "id": "7fa94964-476e-4142-80ea-a00f65b130d1",
   "metadata": {},
   "outputs": [],
   "source": [
    "%load_ext autoreload\n",
    "%autoreload 2"
   ]
  },
  {
   "cell_type": "code",
   "execution_count": 2,
   "id": "ac6dac79-a1ae-48a3-a0a3-c0f553a98e65",
   "metadata": {},
   "outputs": [
    {
     "name": "stderr",
     "output_type": "stream",
     "text": [
      "/home/daniel/private_code/llmtopic/.venv/lib/python3.11/site-packages/tqdm/auto.py:21: TqdmWarning: IProgress not found. Please update jupyter and ipywidgets. See https://ipywidgets.readthedocs.io/en/stable/user_install.html\n",
      "  from .autonotebook import tqdm as notebook_tqdm\n"
     ]
    }
   ],
   "source": [
    "from datasets import load_dataset"
   ]
  },
  {
   "cell_type": "code",
   "execution_count": 3,
   "id": "488bc2b6-4a52-489a-941f-3b0e2958f1d7",
   "metadata": {},
   "outputs": [],
   "source": [
    "d = load_dataset(\"yelp_polarity\")\n",
    "dt = d[\"train\"]"
   ]
  },
  {
   "cell_type": "code",
   "execution_count": 4,
   "id": "f4941f48-1005-4310-b5d4-1ee8789ae9b2",
   "metadata": {},
   "outputs": [],
   "source": [
    "from llmtopic import LLMTopic"
   ]
  },
  {
   "cell_type": "code",
   "execution_count": 5,
   "id": "de97c717-3536-423d-b848-5dd39b9930d4",
   "metadata": {},
   "outputs": [
    {
     "name": "stderr",
     "output_type": "stream",
     "text": [
      "IOPub data rate exceeded.\n",
      "The Jupyter server will temporarily stop sending output\n",
      "to the client in order to avoid crashing it.\n",
      "To change this limit, set the config variable\n",
      "`--ServerApp.iopub_data_rate_limit`.\n",
      "\n",
      "Current values:\n",
      "ServerApp.iopub_data_rate_limit=1000000.0 (bytes/sec)\n",
      "ServerApp.rate_limit_window=3.0 (secs)\n",
      "\n"
     ]
    }
   ],
   "source": [
    "lt = LLMTopic(model_path=\"../models/dolphin-2_6-phi-2.Q4_K_M.gguf\", n_ctx=2048)"
   ]
  },
  {
   "cell_type": "code",
   "execution_count": 6,
   "id": "a14d5e67-6d75-4eb8-8805-31b68603c475",
   "metadata": {},
   "outputs": [
    {
     "name": "stderr",
     "output_type": "stream",
     "text": [
      "Processing samples:   0%|                           | 0/500 [00:00<?, ?sample/s]"
     ]
    },
    {
     "name": "stdout",
     "output_type": "stream",
     "text": [
      "Warning: The document was truncated to fit the length limit.\n"
     ]
    },
    {
     "name": "stderr",
     "output_type": "stream",
     "text": [
      "Processing samples:   0%|                   | 1/500 [00:00<04:08,  2.01sample/s]"
     ]
    },
    {
     "name": "stdout",
     "output_type": "stream",
     "text": [
      "Warning: The document was truncated to fit the length limit.\n"
     ]
    },
    {
     "name": "stderr",
     "output_type": "stream",
     "text": [
      "Processing samples:   0%|                   | 2/500 [00:00<03:38,  2.28sample/s]"
     ]
    },
    {
     "name": "stdout",
     "output_type": "stream",
     "text": [
      "Warning: The document was truncated to fit the length limit.\n"
     ]
    },
    {
     "name": "stderr",
     "output_type": "stream",
     "text": [
      "Processing samples:   1%|▏                  | 4/500 [00:01<03:24,  2.42sample/s]"
     ]
    },
    {
     "name": "stdout",
     "output_type": "stream",
     "text": [
      "Warning: The document was truncated to fit the length limit.\n"
     ]
    },
    {
     "name": "stderr",
     "output_type": "stream",
     "text": [
      "Processing samples:   1%|▏                  | 5/500 [00:02<03:35,  2.30sample/s]"
     ]
    },
    {
     "name": "stdout",
     "output_type": "stream",
     "text": [
      "Warning: The document was truncated to fit the length limit.\n"
     ]
    },
    {
     "name": "stderr",
     "output_type": "stream",
     "text": [
      "Processing samples:   1%|▎                  | 7/500 [00:03<03:51,  2.13sample/s]"
     ]
    },
    {
     "name": "stdout",
     "output_type": "stream",
     "text": [
      "Warning: The document was truncated to fit the length limit.\n"
     ]
    },
    {
     "name": "stderr",
     "output_type": "stream",
     "text": [
      "Processing samples:   2%|▎                  | 8/500 [00:03<03:26,  2.38sample/s]"
     ]
    },
    {
     "name": "stdout",
     "output_type": "stream",
     "text": [
      "Warning: The document was truncated to fit the length limit.\n"
     ]
    },
    {
     "name": "stderr",
     "output_type": "stream",
     "text": [
      "Processing samples:   2%|▎                  | 9/500 [00:03<03:09,  2.59sample/s]"
     ]
    },
    {
     "name": "stdout",
     "output_type": "stream",
     "text": [
      "Warning: The document was truncated to fit the length limit.\n"
     ]
    },
    {
     "name": "stderr",
     "output_type": "stream",
     "text": [
      "Processing samples:   3%|▌                 | 14/500 [00:05<03:07,  2.60sample/s]"
     ]
    },
    {
     "name": "stdout",
     "output_type": "stream",
     "text": [
      "Warning: The document was truncated to fit the length limit.\n"
     ]
    },
    {
     "name": "stderr",
     "output_type": "stream",
     "text": [
      "Processing samples:   3%|▌                 | 17/500 [00:07<03:08,  2.56sample/s]"
     ]
    },
    {
     "name": "stdout",
     "output_type": "stream",
     "text": [
      "Warning: The document was truncated to fit the length limit.\n"
     ]
    },
    {
     "name": "stderr",
     "output_type": "stream",
     "text": [
      "Processing samples:   4%|▋                 | 20/500 [00:21<24:55,  3.12s/sample]"
     ]
    },
    {
     "name": "stdout",
     "output_type": "stream",
     "text": [
      "Warning: The document was truncated to fit the length limit.\n"
     ]
    },
    {
     "name": "stderr",
     "output_type": "stream",
     "text": [
      "Processing samples:   4%|▊                 | 22/500 [00:21<13:29,  1.69s/sample]"
     ]
    },
    {
     "name": "stdout",
     "output_type": "stream",
     "text": [
      "Warning: The document was truncated to fit the length limit.\n"
     ]
    },
    {
     "name": "stderr",
     "output_type": "stream",
     "text": [
      "Processing samples:   5%|▊                 | 23/500 [00:22<11:15,  1.42s/sample]"
     ]
    },
    {
     "name": "stdout",
     "output_type": "stream",
     "text": [
      "Warning: The document was truncated to fit the length limit.\n"
     ]
    },
    {
     "name": "stderr",
     "output_type": "stream",
     "text": [
      "Processing samples:   5%|▊                 | 24/500 [00:23<08:54,  1.12s/sample]"
     ]
    },
    {
     "name": "stdout",
     "output_type": "stream",
     "text": [
      "Warning: The document was truncated to fit the length limit.\n"
     ]
    },
    {
     "name": "stderr",
     "output_type": "stream",
     "text": [
      "Processing samples:   6%|█                 | 28/500 [00:24<04:16,  1.84sample/s]"
     ]
    },
    {
     "name": "stdout",
     "output_type": "stream",
     "text": [
      "Warning: The document was truncated to fit the length limit.\n"
     ]
    },
    {
     "name": "stderr",
     "output_type": "stream",
     "text": [
      "Processing samples:   7%|█▏                | 33/500 [00:26<03:13,  2.41sample/s]"
     ]
    },
    {
     "name": "stdout",
     "output_type": "stream",
     "text": [
      "Warning: The document was truncated to fit the length limit.\n"
     ]
    },
    {
     "name": "stderr",
     "output_type": "stream",
     "text": [
      "Processing samples:   7%|█▎                | 37/500 [00:28<02:54,  2.66sample/s]"
     ]
    },
    {
     "name": "stdout",
     "output_type": "stream",
     "text": [
      "Warning: The document was truncated to fit the length limit.\n"
     ]
    },
    {
     "name": "stderr",
     "output_type": "stream",
     "text": [
      "Processing samples:   8%|█▎                | 38/500 [00:28<02:50,  2.71sample/s]"
     ]
    },
    {
     "name": "stdout",
     "output_type": "stream",
     "text": [
      "Warning: The document was truncated to fit the length limit.\n"
     ]
    },
    {
     "name": "stderr",
     "output_type": "stream",
     "text": [
      "Processing samples:   8%|█▍                | 41/500 [00:29<03:19,  2.30sample/s]"
     ]
    },
    {
     "name": "stdout",
     "output_type": "stream",
     "text": [
      "Warning: The document was truncated to fit the length limit.\n"
     ]
    },
    {
     "name": "stderr",
     "output_type": "stream",
     "text": [
      "Processing samples:   8%|█▌                | 42/500 [00:30<03:23,  2.25sample/s]"
     ]
    },
    {
     "name": "stdout",
     "output_type": "stream",
     "text": [
      "Warning: The document was truncated to fit the length limit.\n"
     ]
    },
    {
     "name": "stderr",
     "output_type": "stream",
     "text": [
      "Processing samples:   9%|█▌                | 43/500 [00:30<02:57,  2.58sample/s]"
     ]
    },
    {
     "name": "stdout",
     "output_type": "stream",
     "text": [
      "Warning: The document was truncated to fit the length limit.\n"
     ]
    },
    {
     "name": "stderr",
     "output_type": "stream",
     "text": [
      "Processing samples:   9%|█▌                | 44/500 [00:31<02:59,  2.54sample/s]"
     ]
    },
    {
     "name": "stdout",
     "output_type": "stream",
     "text": [
      "Warning: The document was truncated to fit the length limit.\n"
     ]
    },
    {
     "name": "stderr",
     "output_type": "stream",
     "text": [
      "Processing samples:   9%|█▌                | 45/500 [00:31<03:02,  2.50sample/s]"
     ]
    },
    {
     "name": "stdout",
     "output_type": "stream",
     "text": [
      "Warning: The document was truncated to fit the length limit.\n"
     ]
    },
    {
     "name": "stderr",
     "output_type": "stream",
     "text": [
      "Processing samples:   9%|█▋                | 46/500 [00:31<02:48,  2.70sample/s]"
     ]
    },
    {
     "name": "stdout",
     "output_type": "stream",
     "text": [
      "Warning: The document was truncated to fit the length limit.\n"
     ]
    },
    {
     "name": "stderr",
     "output_type": "stream",
     "text": [
      "Processing samples:  10%|█▊                | 49/500 [00:32<02:41,  2.80sample/s]"
     ]
    },
    {
     "name": "stdout",
     "output_type": "stream",
     "text": [
      "Warning: The document was truncated to fit the length limit.\n"
     ]
    },
    {
     "name": "stderr",
     "output_type": "stream",
     "text": [
      "Processing samples:  10%|█▊                | 50/500 [00:33<03:07,  2.40sample/s]"
     ]
    },
    {
     "name": "stdout",
     "output_type": "stream",
     "text": [
      "Warning: The document was truncated to fit the length limit.\n"
     ]
    },
    {
     "name": "stderr",
     "output_type": "stream",
     "text": [
      "Processing samples:  10%|█▊                | 51/500 [00:33<02:46,  2.70sample/s]"
     ]
    },
    {
     "name": "stdout",
     "output_type": "stream",
     "text": [
      "Warning: The document was truncated to fit the length limit.\n"
     ]
    },
    {
     "name": "stderr",
     "output_type": "stream",
     "text": [
      "Processing samples:  10%|█▊                | 52/500 [00:34<02:54,  2.56sample/s]"
     ]
    },
    {
     "name": "stdout",
     "output_type": "stream",
     "text": [
      "Warning: The document was truncated to fit the length limit.\n"
     ]
    },
    {
     "name": "stderr",
     "output_type": "stream",
     "text": [
      "Processing samples:  11%|█▉                | 54/500 [00:34<02:48,  2.64sample/s]"
     ]
    },
    {
     "name": "stdout",
     "output_type": "stream",
     "text": [
      "Warning: The document was truncated to fit the length limit.\n"
     ]
    },
    {
     "name": "stderr",
     "output_type": "stream",
     "text": [
      "Processing samples:  11%|██                | 57/500 [00:35<02:55,  2.52sample/s]"
     ]
    },
    {
     "name": "stdout",
     "output_type": "stream",
     "text": [
      "Warning: The document was truncated to fit the length limit.\n"
     ]
    },
    {
     "name": "stderr",
     "output_type": "stream",
     "text": [
      "Processing samples:  12%|██                | 58/500 [00:36<02:49,  2.61sample/s]"
     ]
    },
    {
     "name": "stdout",
     "output_type": "stream",
     "text": [
      "Warning: The document was truncated to fit the length limit.\n"
     ]
    },
    {
     "name": "stderr",
     "output_type": "stream",
     "text": [
      "Processing samples:  12%|██                | 59/500 [00:36<02:46,  2.65sample/s]"
     ]
    },
    {
     "name": "stdout",
     "output_type": "stream",
     "text": [
      "Warning: The document was truncated to fit the length limit.\n"
     ]
    },
    {
     "name": "stderr",
     "output_type": "stream",
     "text": [
      "Processing samples:  13%|██▎               | 63/500 [00:38<02:52,  2.54sample/s]"
     ]
    },
    {
     "name": "stdout",
     "output_type": "stream",
     "text": [
      "Warning: The document was truncated to fit the length limit.\n"
     ]
    },
    {
     "name": "stderr",
     "output_type": "stream",
     "text": [
      "Processing samples:  13%|██▍               | 67/500 [00:39<02:32,  2.84sample/s]"
     ]
    },
    {
     "name": "stdout",
     "output_type": "stream",
     "text": [
      "Warning: The document was truncated to fit the length limit.\n"
     ]
    },
    {
     "name": "stderr",
     "output_type": "stream",
     "text": [
      "Processing samples:  14%|██▍               | 68/500 [00:40<02:19,  3.10sample/s]"
     ]
    },
    {
     "name": "stdout",
     "output_type": "stream",
     "text": [
      "Warning: The document was truncated to fit the length limit.\n"
     ]
    },
    {
     "name": "stderr",
     "output_type": "stream",
     "text": [
      "Processing samples:  14%|██▍               | 69/500 [00:40<02:15,  3.18sample/s]"
     ]
    },
    {
     "name": "stdout",
     "output_type": "stream",
     "text": [
      "Warning: The document was truncated to fit the length limit.\n"
     ]
    },
    {
     "name": "stderr",
     "output_type": "stream",
     "text": [
      "Processing samples:  14%|██▌               | 71/500 [00:41<02:33,  2.79sample/s]"
     ]
    },
    {
     "name": "stdout",
     "output_type": "stream",
     "text": [
      "Warning: The document was truncated to fit the length limit.\n"
     ]
    },
    {
     "name": "stderr",
     "output_type": "stream",
     "text": [
      "Processing samples:  16%|██▉               | 80/500 [00:44<02:24,  2.91sample/s]"
     ]
    },
    {
     "name": "stdout",
     "output_type": "stream",
     "text": [
      "Warning: The document was truncated to fit the length limit.\n"
     ]
    },
    {
     "name": "stderr",
     "output_type": "stream",
     "text": [
      "Processing samples:  16%|██▉               | 81/500 [00:44<02:26,  2.86sample/s]"
     ]
    },
    {
     "name": "stdout",
     "output_type": "stream",
     "text": [
      "Warning: The document was truncated to fit the length limit.\n"
     ]
    },
    {
     "name": "stderr",
     "output_type": "stream",
     "text": [
      "Processing samples:  17%|██▉               | 83/500 [00:45<02:33,  2.72sample/s]"
     ]
    },
    {
     "name": "stdout",
     "output_type": "stream",
     "text": [
      "Warning: The document was truncated to fit the length limit.\n"
     ]
    },
    {
     "name": "stderr",
     "output_type": "stream",
     "text": [
      "Processing samples:  17%|███               | 84/500 [00:45<02:38,  2.63sample/s]"
     ]
    },
    {
     "name": "stdout",
     "output_type": "stream",
     "text": [
      "Warning: The document was truncated to fit the length limit.\n"
     ]
    },
    {
     "name": "stderr",
     "output_type": "stream",
     "text": [
      "Processing samples:  17%|███▏              | 87/500 [00:46<02:27,  2.80sample/s]"
     ]
    },
    {
     "name": "stdout",
     "output_type": "stream",
     "text": [
      "Warning: The document was truncated to fit the length limit.\n"
     ]
    },
    {
     "name": "stderr",
     "output_type": "stream",
     "text": [
      "Processing samples:  18%|███▏              | 90/500 [00:48<02:27,  2.78sample/s]"
     ]
    },
    {
     "name": "stdout",
     "output_type": "stream",
     "text": [
      "Warning: The document was truncated to fit the length limit.\n"
     ]
    },
    {
     "name": "stderr",
     "output_type": "stream",
     "text": [
      "Processing samples:  18%|███▎              | 91/500 [00:48<02:22,  2.87sample/s]"
     ]
    },
    {
     "name": "stdout",
     "output_type": "stream",
     "text": [
      "Warning: The document was truncated to fit the length limit.\n"
     ]
    },
    {
     "name": "stderr",
     "output_type": "stream",
     "text": [
      "Processing samples:  18%|███▎              | 92/500 [00:48<02:20,  2.90sample/s]"
     ]
    },
    {
     "name": "stdout",
     "output_type": "stream",
     "text": [
      "Warning: The document was truncated to fit the length limit.\n"
     ]
    },
    {
     "name": "stderr",
     "output_type": "stream",
     "text": [
      "Processing samples:  19%|███▍              | 94/500 [00:49<02:21,  2.87sample/s]"
     ]
    },
    {
     "name": "stdout",
     "output_type": "stream",
     "text": [
      "Warning: The document was truncated to fit the length limit.\n"
     ]
    },
    {
     "name": "stderr",
     "output_type": "stream",
     "text": [
      "Processing samples:  19%|███▍              | 95/500 [00:49<02:15,  2.98sample/s]"
     ]
    },
    {
     "name": "stdout",
     "output_type": "stream",
     "text": [
      "Warning: The document was truncated to fit the length limit.\n"
     ]
    },
    {
     "name": "stderr",
     "output_type": "stream",
     "text": [
      "Processing samples:  19%|███▍              | 97/500 [00:50<02:29,  2.70sample/s]"
     ]
    },
    {
     "name": "stdout",
     "output_type": "stream",
     "text": [
      "Warning: The document was truncated to fit the length limit.\n"
     ]
    },
    {
     "name": "stderr",
     "output_type": "stream",
     "text": [
      "Processing samples:  20%|███▌              | 99/500 [00:51<02:30,  2.67sample/s]"
     ]
    },
    {
     "name": "stdout",
     "output_type": "stream",
     "text": [
      "Warning: The document was truncated to fit the length limit.\n"
     ]
    },
    {
     "name": "stderr",
     "output_type": "stream",
     "text": [
      "Processing samples:  20%|███▍             | 100/500 [00:51<02:24,  2.76sample/s]"
     ]
    },
    {
     "name": "stdout",
     "output_type": "stream",
     "text": [
      "Warning: The document was truncated to fit the length limit.\n"
     ]
    },
    {
     "name": "stderr",
     "output_type": "stream",
     "text": [
      "Processing samples:  21%|███▌             | 103/500 [00:53<02:39,  2.49sample/s]"
     ]
    },
    {
     "name": "stdout",
     "output_type": "stream",
     "text": [
      "Warning: The document was truncated to fit the length limit.\n"
     ]
    },
    {
     "name": "stderr",
     "output_type": "stream",
     "text": [
      "Processing samples:  21%|███▌             | 106/500 [00:53<02:10,  3.02sample/s]"
     ]
    },
    {
     "name": "stdout",
     "output_type": "stream",
     "text": [
      "Warning: The document was truncated to fit the length limit.\n"
     ]
    },
    {
     "name": "stderr",
     "output_type": "stream",
     "text": [
      "Processing samples:  21%|███▋             | 107/500 [00:54<02:26,  2.68sample/s]"
     ]
    },
    {
     "name": "stdout",
     "output_type": "stream",
     "text": [
      "Warning: The document was truncated to fit the length limit.\n"
     ]
    },
    {
     "name": "stderr",
     "output_type": "stream",
     "text": [
      "Processing samples:  22%|███▋             | 108/500 [00:54<02:29,  2.63sample/s]"
     ]
    },
    {
     "name": "stdout",
     "output_type": "stream",
     "text": [
      "Warning: The document was truncated to fit the length limit.\n"
     ]
    },
    {
     "name": "stderr",
     "output_type": "stream",
     "text": [
      "Processing samples:  22%|███▋             | 110/500 [00:55<02:37,  2.47sample/s]"
     ]
    },
    {
     "name": "stdout",
     "output_type": "stream",
     "text": [
      "Warning: The document was truncated to fit the length limit.\n"
     ]
    },
    {
     "name": "stderr",
     "output_type": "stream",
     "text": [
      "Processing samples:  22%|███▊             | 111/500 [00:56<02:40,  2.42sample/s]"
     ]
    },
    {
     "name": "stdout",
     "output_type": "stream",
     "text": [
      "Warning: The document was truncated to fit the length limit.\n"
     ]
    },
    {
     "name": "stderr",
     "output_type": "stream",
     "text": [
      "Processing samples:  23%|███▉             | 115/500 [00:57<02:26,  2.63sample/s]"
     ]
    },
    {
     "name": "stdout",
     "output_type": "stream",
     "text": [
      "Warning: The document was truncated to fit the length limit.\n"
     ]
    },
    {
     "name": "stderr",
     "output_type": "stream",
     "text": [
      "Processing samples:  23%|███▉             | 117/500 [00:58<02:30,  2.55sample/s]"
     ]
    },
    {
     "name": "stdout",
     "output_type": "stream",
     "text": [
      "Warning: The document was truncated to fit the length limit.\n"
     ]
    },
    {
     "name": "stderr",
     "output_type": "stream",
     "text": [
      "Processing samples:  24%|████             | 118/500 [00:58<02:41,  2.36sample/s]"
     ]
    },
    {
     "name": "stdout",
     "output_type": "stream",
     "text": [
      "Warning: The document was truncated to fit the length limit.\n"
     ]
    },
    {
     "name": "stderr",
     "output_type": "stream",
     "text": [
      "Processing samples:  24%|████             | 119/500 [00:59<02:29,  2.56sample/s]"
     ]
    },
    {
     "name": "stdout",
     "output_type": "stream",
     "text": [
      "Warning: The document was truncated to fit the length limit.\n"
     ]
    },
    {
     "name": "stderr",
     "output_type": "stream",
     "text": [
      "Processing samples:  24%|████             | 120/500 [00:59<02:20,  2.71sample/s]"
     ]
    },
    {
     "name": "stdout",
     "output_type": "stream",
     "text": [
      "Warning: The document was truncated to fit the length limit.\n"
     ]
    },
    {
     "name": "stderr",
     "output_type": "stream",
     "text": [
      "Processing samples:  24%|████             | 121/500 [00:59<02:17,  2.75sample/s]"
     ]
    },
    {
     "name": "stdout",
     "output_type": "stream",
     "text": [
      "Warning: The document was truncated to fit the length limit.\n"
     ]
    },
    {
     "name": "stderr",
     "output_type": "stream",
     "text": [
      "Processing samples:  25%|████▎            | 126/500 [01:01<02:12,  2.82sample/s]"
     ]
    },
    {
     "name": "stdout",
     "output_type": "stream",
     "text": [
      "Warning: The document was truncated to fit the length limit.\n"
     ]
    },
    {
     "name": "stderr",
     "output_type": "stream",
     "text": [
      "Processing samples:  25%|████▎            | 127/500 [01:02<02:21,  2.64sample/s]"
     ]
    },
    {
     "name": "stdout",
     "output_type": "stream",
     "text": [
      "Warning: The document was truncated to fit the length limit.\n"
     ]
    },
    {
     "name": "stderr",
     "output_type": "stream",
     "text": [
      "Processing samples:  26%|████▍            | 130/500 [01:03<02:11,  2.81sample/s]"
     ]
    },
    {
     "name": "stdout",
     "output_type": "stream",
     "text": [
      "Warning: The document was truncated to fit the length limit.\n"
     ]
    },
    {
     "name": "stderr",
     "output_type": "stream",
     "text": [
      "Processing samples:  27%|████▌            | 135/500 [01:05<01:58,  3.07sample/s]"
     ]
    },
    {
     "name": "stdout",
     "output_type": "stream",
     "text": [
      "Warning: The document was truncated to fit the length limit.\n"
     ]
    },
    {
     "name": "stderr",
     "output_type": "stream",
     "text": [
      "Processing samples:  27%|████▌            | 136/500 [01:05<02:21,  2.56sample/s]"
     ]
    },
    {
     "name": "stdout",
     "output_type": "stream",
     "text": [
      "Warning: The document was truncated to fit the length limit.\n"
     ]
    },
    {
     "name": "stderr",
     "output_type": "stream",
     "text": [
      "Processing samples:  28%|████▋            | 139/500 [01:07<02:52,  2.09sample/s]"
     ]
    },
    {
     "name": "stdout",
     "output_type": "stream",
     "text": [
      "Warning: The document was truncated to fit the length limit.\n"
     ]
    },
    {
     "name": "stderr",
     "output_type": "stream",
     "text": [
      "Processing samples:  28%|████▊            | 140/500 [01:07<02:32,  2.36sample/s]"
     ]
    },
    {
     "name": "stdout",
     "output_type": "stream",
     "text": [
      "Warning: The document was truncated to fit the length limit.\n"
     ]
    },
    {
     "name": "stderr",
     "output_type": "stream",
     "text": [
      "Processing samples:  29%|████▉            | 144/500 [01:09<02:15,  2.62sample/s]"
     ]
    },
    {
     "name": "stdout",
     "output_type": "stream",
     "text": [
      "Warning: The document was truncated to fit the length limit.\n"
     ]
    },
    {
     "name": "stderr",
     "output_type": "stream",
     "text": [
      "Processing samples:  29%|████▉            | 145/500 [01:09<02:20,  2.53sample/s]"
     ]
    },
    {
     "name": "stdout",
     "output_type": "stream",
     "text": [
      "Warning: The document was truncated to fit the length limit.\n"
     ]
    },
    {
     "name": "stderr",
     "output_type": "stream",
     "text": [
      "Processing samples:  30%|█████            | 148/500 [01:11<02:46,  2.11sample/s]"
     ]
    },
    {
     "name": "stdout",
     "output_type": "stream",
     "text": [
      "Warning: The document was truncated to fit the length limit.\n"
     ]
    },
    {
     "name": "stderr",
     "output_type": "stream",
     "text": [
      "Processing samples:  30%|█████            | 149/500 [01:11<02:29,  2.35sample/s]"
     ]
    },
    {
     "name": "stdout",
     "output_type": "stream",
     "text": [
      "Warning: The document was truncated to fit the length limit.\n"
     ]
    },
    {
     "name": "stderr",
     "output_type": "stream",
     "text": [
      "Processing samples:  31%|█████▏           | 153/500 [01:13<02:26,  2.37sample/s]"
     ]
    },
    {
     "name": "stdout",
     "output_type": "stream",
     "text": [
      "Warning: The document was truncated to fit the length limit.\n"
     ]
    },
    {
     "name": "stderr",
     "output_type": "stream",
     "text": [
      "Processing samples:  31%|█████▎           | 155/500 [01:13<02:07,  2.71sample/s]"
     ]
    },
    {
     "name": "stdout",
     "output_type": "stream",
     "text": [
      "Warning: The document was truncated to fit the length limit.\n"
     ]
    },
    {
     "name": "stderr",
     "output_type": "stream",
     "text": [
      "Processing samples:  31%|█████▎           | 157/500 [01:14<02:19,  2.46sample/s]"
     ]
    },
    {
     "name": "stdout",
     "output_type": "stream",
     "text": [
      "Warning: The document was truncated to fit the length limit.\n"
     ]
    },
    {
     "name": "stderr",
     "output_type": "stream",
     "text": [
      "Processing samples:  32%|█████▎           | 158/500 [01:14<02:08,  2.65sample/s]"
     ]
    },
    {
     "name": "stdout",
     "output_type": "stream",
     "text": [
      "Warning: The document was truncated to fit the length limit.\n"
     ]
    },
    {
     "name": "stderr",
     "output_type": "stream",
     "text": [
      "Processing samples:  32%|█████▍           | 160/500 [01:15<02:14,  2.53sample/s]"
     ]
    },
    {
     "name": "stdout",
     "output_type": "stream",
     "text": [
      "Warning: The document was truncated to fit the length limit.\n"
     ]
    },
    {
     "name": "stderr",
     "output_type": "stream",
     "text": [
      "Processing samples:  32%|█████▍           | 161/500 [01:16<02:24,  2.34sample/s]"
     ]
    },
    {
     "name": "stdout",
     "output_type": "stream",
     "text": [
      "Warning: The document was truncated to fit the length limit.\n"
     ]
    },
    {
     "name": "stderr",
     "output_type": "stream",
     "text": [
      "Processing samples:  32%|█████▌           | 162/500 [01:16<02:24,  2.34sample/s]"
     ]
    },
    {
     "name": "stdout",
     "output_type": "stream",
     "text": [
      "Warning: The document was truncated to fit the length limit.\n"
     ]
    },
    {
     "name": "stderr",
     "output_type": "stream",
     "text": [
      "Processing samples:  33%|█████▌           | 165/500 [01:18<02:31,  2.21sample/s]"
     ]
    },
    {
     "name": "stdout",
     "output_type": "stream",
     "text": [
      "Warning: The document was truncated to fit the length limit.\n"
     ]
    },
    {
     "name": "stderr",
     "output_type": "stream",
     "text": [
      "Processing samples:  34%|█████▋           | 168/500 [01:19<02:19,  2.38sample/s]"
     ]
    },
    {
     "name": "stdout",
     "output_type": "stream",
     "text": [
      "Warning: The document was truncated to fit the length limit.\n"
     ]
    },
    {
     "name": "stderr",
     "output_type": "stream",
     "text": [
      "Processing samples:  34%|█████▊           | 170/500 [01:20<02:21,  2.33sample/s]"
     ]
    },
    {
     "name": "stdout",
     "output_type": "stream",
     "text": [
      "Warning: The document was truncated to fit the length limit.\n"
     ]
    },
    {
     "name": "stderr",
     "output_type": "stream",
     "text": [
      "Processing samples:  34%|█████▊           | 171/500 [01:20<02:16,  2.41sample/s]"
     ]
    },
    {
     "name": "stdout",
     "output_type": "stream",
     "text": [
      "Warning: The document was truncated to fit the length limit.\n"
     ]
    },
    {
     "name": "stderr",
     "output_type": "stream",
     "text": [
      "Processing samples:  35%|██████           | 177/500 [01:22<01:47,  3.00sample/s]"
     ]
    },
    {
     "name": "stdout",
     "output_type": "stream",
     "text": [
      "Warning: The document was truncated to fit the length limit.\n"
     ]
    },
    {
     "name": "stderr",
     "output_type": "stream",
     "text": [
      "Processing samples:  36%|██████           | 178/500 [01:22<02:02,  2.64sample/s]"
     ]
    },
    {
     "name": "stdout",
     "output_type": "stream",
     "text": [
      "Warning: The document was truncated to fit the length limit.\n"
     ]
    },
    {
     "name": "stderr",
     "output_type": "stream",
     "text": [
      "Processing samples:  36%|██████           | 179/500 [01:23<01:56,  2.77sample/s]"
     ]
    },
    {
     "name": "stdout",
     "output_type": "stream",
     "text": [
      "Warning: The document was truncated to fit the length limit.\n"
     ]
    },
    {
     "name": "stderr",
     "output_type": "stream",
     "text": [
      "Processing samples:  36%|██████           | 180/500 [01:23<01:49,  2.93sample/s]"
     ]
    },
    {
     "name": "stdout",
     "output_type": "stream",
     "text": [
      "Warning: The document was truncated to fit the length limit.\n"
     ]
    },
    {
     "name": "stderr",
     "output_type": "stream",
     "text": [
      "Processing samples:  36%|██████▏          | 181/500 [01:23<01:51,  2.86sample/s]"
     ]
    },
    {
     "name": "stdout",
     "output_type": "stream",
     "text": [
      "Warning: The document was truncated to fit the length limit.\n"
     ]
    },
    {
     "name": "stderr",
     "output_type": "stream",
     "text": [
      "Processing samples:  37%|██████▏          | 183/500 [01:24<02:20,  2.26sample/s]"
     ]
    },
    {
     "name": "stdout",
     "output_type": "stream",
     "text": [
      "Warning: The document was truncated to fit the length limit.\n"
     ]
    },
    {
     "name": "stderr",
     "output_type": "stream",
     "text": [
      "Processing samples:  37%|██████▎          | 184/500 [01:25<02:06,  2.50sample/s]"
     ]
    },
    {
     "name": "stdout",
     "output_type": "stream",
     "text": [
      "Warning: The document was truncated to fit the length limit.\n"
     ]
    },
    {
     "name": "stderr",
     "output_type": "stream",
     "text": [
      "Processing samples:  37%|██████▎          | 185/500 [01:25<02:16,  2.30sample/s]"
     ]
    },
    {
     "name": "stdout",
     "output_type": "stream",
     "text": [
      "Warning: The document was truncated to fit the length limit.\n"
     ]
    },
    {
     "name": "stderr",
     "output_type": "stream",
     "text": [
      "Processing samples:  38%|██████▍          | 189/500 [01:27<02:02,  2.54sample/s]"
     ]
    },
    {
     "name": "stdout",
     "output_type": "stream",
     "text": [
      "Warning: The document was truncated to fit the length limit.\n"
     ]
    },
    {
     "name": "stderr",
     "output_type": "stream",
     "text": [
      "Processing samples:  39%|██████▌          | 193/500 [01:29<02:28,  2.06sample/s]"
     ]
    },
    {
     "name": "stdout",
     "output_type": "stream",
     "text": [
      "Warning: The document was truncated to fit the length limit.\n"
     ]
    },
    {
     "name": "stderr",
     "output_type": "stream",
     "text": [
      "Processing samples:  39%|██████▋          | 197/500 [01:31<02:02,  2.48sample/s]"
     ]
    },
    {
     "name": "stdout",
     "output_type": "stream",
     "text": [
      "Warning: The document was truncated to fit the length limit.\n"
     ]
    },
    {
     "name": "stderr",
     "output_type": "stream",
     "text": [
      "Processing samples:  40%|██████▋          | 198/500 [01:31<01:56,  2.58sample/s]"
     ]
    },
    {
     "name": "stdout",
     "output_type": "stream",
     "text": [
      "Warning: The document was truncated to fit the length limit.\n"
     ]
    },
    {
     "name": "stderr",
     "output_type": "stream",
     "text": [
      "Processing samples:  40%|██████▊          | 199/500 [01:32<01:59,  2.51sample/s]"
     ]
    },
    {
     "name": "stdout",
     "output_type": "stream",
     "text": [
      "Warning: The document was truncated to fit the length limit.\n"
     ]
    },
    {
     "name": "stderr",
     "output_type": "stream",
     "text": [
      "Processing samples:  41%|██████▉          | 203/500 [01:33<01:45,  2.81sample/s]"
     ]
    },
    {
     "name": "stdout",
     "output_type": "stream",
     "text": [
      "Warning: The document was truncated to fit the length limit.\n"
     ]
    },
    {
     "name": "stderr",
     "output_type": "stream",
     "text": [
      "Processing samples:  41%|███████          | 206/500 [01:34<01:49,  2.69sample/s]"
     ]
    },
    {
     "name": "stdout",
     "output_type": "stream",
     "text": [
      "Warning: The document was truncated to fit the length limit.\n"
     ]
    },
    {
     "name": "stderr",
     "output_type": "stream",
     "text": [
      "Processing samples:  42%|███████          | 209/500 [01:35<01:57,  2.47sample/s]"
     ]
    },
    {
     "name": "stdout",
     "output_type": "stream",
     "text": [
      "Warning: The document was truncated to fit the length limit.\n"
     ]
    },
    {
     "name": "stderr",
     "output_type": "stream",
     "text": [
      "Processing samples:  42%|███████▏         | 210/500 [01:36<02:01,  2.39sample/s]"
     ]
    },
    {
     "name": "stdout",
     "output_type": "stream",
     "text": [
      "Warning: The document was truncated to fit the length limit.\n"
     ]
    },
    {
     "name": "stderr",
     "output_type": "stream",
     "text": [
      "Processing samples:  43%|███████▎         | 214/500 [01:38<01:56,  2.46sample/s]"
     ]
    },
    {
     "name": "stdout",
     "output_type": "stream",
     "text": [
      "Warning: The document was truncated to fit the length limit.\n"
     ]
    },
    {
     "name": "stderr",
     "output_type": "stream",
     "text": [
      "Processing samples:  43%|███████▎         | 215/500 [01:38<01:52,  2.53sample/s]"
     ]
    },
    {
     "name": "stdout",
     "output_type": "stream",
     "text": [
      "Warning: The document was truncated to fit the length limit.\n"
     ]
    },
    {
     "name": "stderr",
     "output_type": "stream",
     "text": [
      "Processing samples:  44%|███████▍         | 218/500 [01:39<01:43,  2.72sample/s]"
     ]
    },
    {
     "name": "stdout",
     "output_type": "stream",
     "text": [
      "Warning: The document was truncated to fit the length limit.\n"
     ]
    },
    {
     "name": "stderr",
     "output_type": "stream",
     "text": [
      "Processing samples:  44%|███████▍         | 220/500 [01:40<01:40,  2.78sample/s]"
     ]
    },
    {
     "name": "stdout",
     "output_type": "stream",
     "text": [
      "Warning: The document was truncated to fit the length limit.\n"
     ]
    },
    {
     "name": "stderr",
     "output_type": "stream",
     "text": [
      "Processing samples:  44%|███████▌         | 221/500 [01:40<01:41,  2.76sample/s]"
     ]
    },
    {
     "name": "stdout",
     "output_type": "stream",
     "text": [
      "Warning: The document was truncated to fit the length limit.\n"
     ]
    },
    {
     "name": "stderr",
     "output_type": "stream",
     "text": [
      "Processing samples:  44%|███████▌         | 222/500 [01:41<01:48,  2.57sample/s]"
     ]
    },
    {
     "name": "stdout",
     "output_type": "stream",
     "text": [
      "Warning: The document was truncated to fit the length limit.\n"
     ]
    },
    {
     "name": "stderr",
     "output_type": "stream",
     "text": [
      "Processing samples:  45%|███████▋         | 227/500 [01:43<01:45,  2.60sample/s]"
     ]
    },
    {
     "name": "stdout",
     "output_type": "stream",
     "text": [
      "Warning: The document was truncated to fit the length limit.\n"
     ]
    },
    {
     "name": "stderr",
     "output_type": "stream",
     "text": [
      "Processing samples:  46%|███████▉         | 232/500 [01:44<01:40,  2.66sample/s]"
     ]
    },
    {
     "name": "stdout",
     "output_type": "stream",
     "text": [
      "Warning: The document was truncated to fit the length limit.\n"
     ]
    },
    {
     "name": "stderr",
     "output_type": "stream",
     "text": [
      "Processing samples:  47%|████████         | 236/500 [01:46<01:29,  2.95sample/s]"
     ]
    },
    {
     "name": "stdout",
     "output_type": "stream",
     "text": [
      "Warning: The document was truncated to fit the length limit.\n"
     ]
    },
    {
     "name": "stderr",
     "output_type": "stream",
     "text": [
      "Processing samples:  48%|████████         | 238/500 [01:47<01:48,  2.40sample/s]"
     ]
    },
    {
     "name": "stdout",
     "output_type": "stream",
     "text": [
      "Warning: The document was truncated to fit the length limit.\n"
     ]
    },
    {
     "name": "stderr",
     "output_type": "stream",
     "text": [
      "Processing samples:  48%|████████▏        | 239/500 [01:47<01:42,  2.54sample/s]"
     ]
    },
    {
     "name": "stdout",
     "output_type": "stream",
     "text": [
      "Warning: The document was truncated to fit the length limit.\n"
     ]
    },
    {
     "name": "stderr",
     "output_type": "stream",
     "text": [
      "Processing samples:  48%|████████▏        | 240/500 [01:47<01:35,  2.72sample/s]"
     ]
    },
    {
     "name": "stdout",
     "output_type": "stream",
     "text": [
      "Warning: The document was truncated to fit the length limit.\n"
     ]
    },
    {
     "name": "stderr",
     "output_type": "stream",
     "text": [
      "Processing samples:  49%|████████▎        | 243/500 [01:49<01:40,  2.57sample/s]"
     ]
    },
    {
     "name": "stdout",
     "output_type": "stream",
     "text": [
      "Warning: The document was truncated to fit the length limit.\n"
     ]
    },
    {
     "name": "stderr",
     "output_type": "stream",
     "text": [
      "Processing samples:  49%|████████▎        | 244/500 [01:49<01:32,  2.76sample/s]"
     ]
    },
    {
     "name": "stdout",
     "output_type": "stream",
     "text": [
      "Warning: The document was truncated to fit the length limit.\n"
     ]
    },
    {
     "name": "stderr",
     "output_type": "stream",
     "text": [
      "Processing samples:  49%|████████▎        | 245/500 [01:49<01:44,  2.44sample/s]"
     ]
    },
    {
     "name": "stdout",
     "output_type": "stream",
     "text": [
      "Warning: The document was truncated to fit the length limit.\n"
     ]
    },
    {
     "name": "stderr",
     "output_type": "stream",
     "text": [
      "Processing samples:  50%|████████▍        | 248/500 [01:51<01:35,  2.64sample/s]"
     ]
    },
    {
     "name": "stdout",
     "output_type": "stream",
     "text": [
      "Warning: The document was truncated to fit the length limit.\n"
     ]
    },
    {
     "name": "stderr",
     "output_type": "stream",
     "text": [
      "Processing samples:  50%|████████▌        | 252/500 [01:52<01:33,  2.66sample/s]"
     ]
    },
    {
     "name": "stdout",
     "output_type": "stream",
     "text": [
      "Warning: The document was truncated to fit the length limit.\n"
     ]
    },
    {
     "name": "stderr",
     "output_type": "stream",
     "text": [
      "Processing samples:  51%|████████▋        | 254/500 [01:53<01:36,  2.54sample/s]"
     ]
    },
    {
     "name": "stdout",
     "output_type": "stream",
     "text": [
      "Warning: The document was truncated to fit the length limit.\n"
     ]
    },
    {
     "name": "stderr",
     "output_type": "stream",
     "text": [
      "Processing samples:  51%|████████▋        | 255/500 [01:53<01:32,  2.65sample/s]"
     ]
    },
    {
     "name": "stdout",
     "output_type": "stream",
     "text": [
      "Warning: The document was truncated to fit the length limit.\n"
     ]
    },
    {
     "name": "stderr",
     "output_type": "stream",
     "text": [
      "Processing samples:  51%|████████▋        | 257/500 [01:54<01:20,  3.03sample/s]"
     ]
    },
    {
     "name": "stdout",
     "output_type": "stream",
     "text": [
      "Warning: The document was truncated to fit the length limit.\n"
     ]
    },
    {
     "name": "stderr",
     "output_type": "stream",
     "text": [
      "Processing samples:  52%|████████▊        | 259/500 [01:55<01:25,  2.80sample/s]"
     ]
    },
    {
     "name": "stdout",
     "output_type": "stream",
     "text": [
      "Warning: The document was truncated to fit the length limit.\n"
     ]
    },
    {
     "name": "stderr",
     "output_type": "stream",
     "text": [
      "Processing samples:  52%|████████▊        | 260/500 [01:55<01:32,  2.61sample/s]"
     ]
    },
    {
     "name": "stdout",
     "output_type": "stream",
     "text": [
      "Warning: The document was truncated to fit the length limit.\n"
     ]
    },
    {
     "name": "stderr",
     "output_type": "stream",
     "text": [
      "Processing samples:  52%|████████▉        | 262/500 [01:56<01:25,  2.78sample/s]"
     ]
    },
    {
     "name": "stdout",
     "output_type": "stream",
     "text": [
      "Warning: The document was truncated to fit the length limit.\n"
     ]
    },
    {
     "name": "stderr",
     "output_type": "stream",
     "text": [
      "Processing samples:  53%|████████▉        | 263/500 [01:56<01:22,  2.87sample/s]"
     ]
    },
    {
     "name": "stdout",
     "output_type": "stream",
     "text": [
      "Warning: The document was truncated to fit the length limit.\n"
     ]
    },
    {
     "name": "stderr",
     "output_type": "stream",
     "text": [
      "Processing samples:  54%|█████████        | 268/500 [02:10<04:50,  1.25s/sample]"
     ]
    },
    {
     "name": "stdout",
     "output_type": "stream",
     "text": [
      "Warning: The document was truncated to fit the length limit.\n"
     ]
    },
    {
     "name": "stderr",
     "output_type": "stream",
     "text": [
      "Processing samples:  54%|█████████▏       | 270/500 [02:11<03:05,  1.24sample/s]"
     ]
    },
    {
     "name": "stdout",
     "output_type": "stream",
     "text": [
      "Warning: The document was truncated to fit the length limit.\n"
     ]
    },
    {
     "name": "stderr",
     "output_type": "stream",
     "text": [
      "Processing samples:  56%|█████████▍       | 279/500 [02:15<01:28,  2.49sample/s]"
     ]
    },
    {
     "name": "stdout",
     "output_type": "stream",
     "text": [
      "Warning: The document was truncated to fit the length limit.\n"
     ]
    },
    {
     "name": "stderr",
     "output_type": "stream",
     "text": [
      "Processing samples:  56%|█████████▌       | 280/500 [02:15<01:22,  2.67sample/s]"
     ]
    },
    {
     "name": "stdout",
     "output_type": "stream",
     "text": [
      "Warning: The document was truncated to fit the length limit.\n"
     ]
    },
    {
     "name": "stderr",
     "output_type": "stream",
     "text": [
      "Processing samples:  57%|█████████▋       | 284/500 [02:16<01:15,  2.85sample/s]"
     ]
    },
    {
     "name": "stdout",
     "output_type": "stream",
     "text": [
      "Warning: The document was truncated to fit the length limit.\n"
     ]
    },
    {
     "name": "stderr",
     "output_type": "stream",
     "text": [
      "Processing samples:  57%|█████████▊       | 287/500 [02:18<01:14,  2.85sample/s]"
     ]
    },
    {
     "name": "stdout",
     "output_type": "stream",
     "text": [
      "Warning: The document was truncated to fit the length limit.\n"
     ]
    },
    {
     "name": "stderr",
     "output_type": "stream",
     "text": [
      "Processing samples:  58%|█████████▊       | 288/500 [02:18<01:28,  2.39sample/s]"
     ]
    },
    {
     "name": "stdout",
     "output_type": "stream",
     "text": [
      "Warning: The document was truncated to fit the length limit.\n"
     ]
    },
    {
     "name": "stderr",
     "output_type": "stream",
     "text": [
      "Processing samples:  58%|█████████▊       | 289/500 [02:18<01:20,  2.61sample/s]"
     ]
    },
    {
     "name": "stdout",
     "output_type": "stream",
     "text": [
      "Warning: The document was truncated to fit the length limit.\n"
     ]
    },
    {
     "name": "stderr",
     "output_type": "stream",
     "text": [
      "Processing samples:  59%|█████████▉       | 293/500 [02:20<01:11,  2.90sample/s]"
     ]
    },
    {
     "name": "stdout",
     "output_type": "stream",
     "text": [
      "Warning: The document was truncated to fit the length limit.\n"
     ]
    },
    {
     "name": "stderr",
     "output_type": "stream",
     "text": [
      "Processing samples:  59%|█████████▉       | 294/500 [02:20<01:14,  2.76sample/s]"
     ]
    },
    {
     "name": "stdout",
     "output_type": "stream",
     "text": [
      "Warning: The document was truncated to fit the length limit.\n"
     ]
    },
    {
     "name": "stderr",
     "output_type": "stream",
     "text": [
      "Processing samples:  59%|██████████       | 295/500 [02:20<01:15,  2.72sample/s]"
     ]
    },
    {
     "name": "stdout",
     "output_type": "stream",
     "text": [
      "Warning: The document was truncated to fit the length limit.\n"
     ]
    },
    {
     "name": "stderr",
     "output_type": "stream",
     "text": [
      "Processing samples:  59%|██████████       | 296/500 [02:21<01:12,  2.80sample/s]"
     ]
    },
    {
     "name": "stdout",
     "output_type": "stream",
     "text": [
      "Warning: The document was truncated to fit the length limit.\n"
     ]
    },
    {
     "name": "stderr",
     "output_type": "stream",
     "text": [
      "Processing samples:  59%|██████████       | 297/500 [02:21<01:10,  2.86sample/s]"
     ]
    },
    {
     "name": "stdout",
     "output_type": "stream",
     "text": [
      "Warning: The document was truncated to fit the length limit.\n"
     ]
    },
    {
     "name": "stderr",
     "output_type": "stream",
     "text": [
      "Processing samples:  60%|██████████▏      | 298/500 [02:22<01:14,  2.70sample/s]"
     ]
    },
    {
     "name": "stdout",
     "output_type": "stream",
     "text": [
      "Warning: The document was truncated to fit the length limit.\n"
     ]
    },
    {
     "name": "stderr",
     "output_type": "stream",
     "text": [
      "Processing samples:  60%|██████████▎      | 302/500 [02:23<01:14,  2.67sample/s]"
     ]
    },
    {
     "name": "stdout",
     "output_type": "stream",
     "text": [
      "Warning: The document was truncated to fit the length limit.\n"
     ]
    },
    {
     "name": "stderr",
     "output_type": "stream",
     "text": [
      "Processing samples:  62%|██████████▌      | 309/500 [02:26<01:41,  1.87sample/s]"
     ]
    },
    {
     "name": "stdout",
     "output_type": "stream",
     "text": [
      "Warning: The document was truncated to fit the length limit.\n"
     ]
    },
    {
     "name": "stderr",
     "output_type": "stream",
     "text": [
      "Processing samples:  62%|██████████▌      | 311/500 [02:27<01:15,  2.51sample/s]"
     ]
    },
    {
     "name": "stdout",
     "output_type": "stream",
     "text": [
      "Warning: The document was truncated to fit the length limit.\n"
     ]
    },
    {
     "name": "stderr",
     "output_type": "stream",
     "text": [
      "Processing samples:  62%|██████████▌      | 312/500 [02:27<01:11,  2.64sample/s]"
     ]
    },
    {
     "name": "stdout",
     "output_type": "stream",
     "text": [
      "Warning: The document was truncated to fit the length limit.\n"
     ]
    },
    {
     "name": "stderr",
     "output_type": "stream",
     "text": [
      "Processing samples:  63%|██████████▋      | 315/500 [02:29<01:23,  2.23sample/s]"
     ]
    },
    {
     "name": "stdout",
     "output_type": "stream",
     "text": [
      "Warning: The document was truncated to fit the length limit.\n"
     ]
    },
    {
     "name": "stderr",
     "output_type": "stream",
     "text": [
      "Processing samples:  64%|██████████▉      | 320/500 [02:30<01:08,  2.63sample/s]"
     ]
    },
    {
     "name": "stdout",
     "output_type": "stream",
     "text": [
      "Warning: The document was truncated to fit the length limit.\n"
     ]
    },
    {
     "name": "stderr",
     "output_type": "stream",
     "text": [
      "Processing samples:  64%|██████████▉      | 321/500 [02:31<01:07,  2.66sample/s]"
     ]
    },
    {
     "name": "stdout",
     "output_type": "stream",
     "text": [
      "Warning: The document was truncated to fit the length limit.\n"
     ]
    },
    {
     "name": "stderr",
     "output_type": "stream",
     "text": [
      "Processing samples:  64%|██████████▉      | 322/500 [02:31<01:02,  2.83sample/s]"
     ]
    },
    {
     "name": "stdout",
     "output_type": "stream",
     "text": [
      "Warning: The document was truncated to fit the length limit.\n"
     ]
    },
    {
     "name": "stderr",
     "output_type": "stream",
     "text": [
      "Processing samples:  65%|███████████      | 327/500 [02:33<01:01,  2.81sample/s]"
     ]
    },
    {
     "name": "stdout",
     "output_type": "stream",
     "text": [
      "Warning: The document was truncated to fit the length limit.\n"
     ]
    },
    {
     "name": "stderr",
     "output_type": "stream",
     "text": [
      "Processing samples:  66%|███████████▏     | 328/500 [02:33<01:04,  2.67sample/s]"
     ]
    },
    {
     "name": "stdout",
     "output_type": "stream",
     "text": [
      "Warning: The document was truncated to fit the length limit.\n"
     ]
    },
    {
     "name": "stderr",
     "output_type": "stream",
     "text": [
      "Processing samples:  66%|███████████▏     | 329/500 [02:34<01:04,  2.66sample/s]"
     ]
    },
    {
     "name": "stdout",
     "output_type": "stream",
     "text": [
      "Warning: The document was truncated to fit the length limit.\n"
     ]
    },
    {
     "name": "stderr",
     "output_type": "stream",
     "text": [
      "Processing samples:  67%|███████████▎     | 334/500 [02:36<00:57,  2.87sample/s]"
     ]
    },
    {
     "name": "stdout",
     "output_type": "stream",
     "text": [
      "Warning: The document was truncated to fit the length limit.\n"
     ]
    },
    {
     "name": "stderr",
     "output_type": "stream",
     "text": [
      "Processing samples:  68%|███████████▌     | 339/500 [02:38<00:59,  2.70sample/s]"
     ]
    },
    {
     "name": "stdout",
     "output_type": "stream",
     "text": [
      "Warning: The document was truncated to fit the length limit.\n"
     ]
    },
    {
     "name": "stderr",
     "output_type": "stream",
     "text": [
      "Processing samples:  68%|███████████▌     | 341/500 [02:38<01:03,  2.49sample/s]"
     ]
    },
    {
     "name": "stdout",
     "output_type": "stream",
     "text": [
      "Warning: The document was truncated to fit the length limit.\n"
     ]
    },
    {
     "name": "stderr",
     "output_type": "stream",
     "text": [
      "Processing samples:  69%|███████████▋     | 345/500 [02:40<00:55,  2.78sample/s]"
     ]
    },
    {
     "name": "stdout",
     "output_type": "stream",
     "text": [
      "Warning: The document was truncated to fit the length limit.\n"
     ]
    },
    {
     "name": "stderr",
     "output_type": "stream",
     "text": [
      "Processing samples:  70%|███████████▊     | 348/500 [02:41<00:54,  2.81sample/s]"
     ]
    },
    {
     "name": "stdout",
     "output_type": "stream",
     "text": [
      "Warning: The document was truncated to fit the length limit.\n"
     ]
    },
    {
     "name": "stderr",
     "output_type": "stream",
     "text": [
      "Processing samples:  70%|███████████▉     | 350/500 [02:42<01:03,  2.37sample/s]"
     ]
    },
    {
     "name": "stdout",
     "output_type": "stream",
     "text": [
      "Warning: The document was truncated to fit the length limit.\n"
     ]
    },
    {
     "name": "stderr",
     "output_type": "stream",
     "text": [
      "Processing samples:  70%|███████████▉     | 351/500 [02:42<00:58,  2.53sample/s]"
     ]
    },
    {
     "name": "stdout",
     "output_type": "stream",
     "text": [
      "Warning: The document was truncated to fit the length limit.\n"
     ]
    },
    {
     "name": "stderr",
     "output_type": "stream",
     "text": [
      "Processing samples:  71%|████████████     | 355/500 [02:44<00:55,  2.61sample/s]"
     ]
    },
    {
     "name": "stdout",
     "output_type": "stream",
     "text": [
      "Warning: The document was truncated to fit the length limit.\n"
     ]
    },
    {
     "name": "stderr",
     "output_type": "stream",
     "text": [
      "Processing samples:  71%|████████████     | 356/500 [02:44<00:56,  2.55sample/s]"
     ]
    },
    {
     "name": "stdout",
     "output_type": "stream",
     "text": [
      "Warning: The document was truncated to fit the length limit.\n"
     ]
    },
    {
     "name": "stderr",
     "output_type": "stream",
     "text": [
      "Processing samples:  71%|████████████▏    | 357/500 [02:45<00:57,  2.49sample/s]"
     ]
    },
    {
     "name": "stdout",
     "output_type": "stream",
     "text": [
      "Warning: The document was truncated to fit the length limit.\n"
     ]
    },
    {
     "name": "stderr",
     "output_type": "stream",
     "text": [
      "Processing samples:  72%|████████████▏    | 358/500 [02:45<01:00,  2.37sample/s]"
     ]
    },
    {
     "name": "stdout",
     "output_type": "stream",
     "text": [
      "Warning: The document was truncated to fit the length limit.\n"
     ]
    },
    {
     "name": "stderr",
     "output_type": "stream",
     "text": [
      "Processing samples:  73%|████████████▎    | 363/500 [02:47<01:04,  2.12sample/s]"
     ]
    },
    {
     "name": "stdout",
     "output_type": "stream",
     "text": [
      "Warning: The document was truncated to fit the length limit.\n"
     ]
    },
    {
     "name": "stderr",
     "output_type": "stream",
     "text": [
      "Processing samples:  73%|████████████▍    | 364/500 [02:48<00:58,  2.32sample/s]"
     ]
    },
    {
     "name": "stdout",
     "output_type": "stream",
     "text": [
      "Warning: The document was truncated to fit the length limit.\n"
     ]
    },
    {
     "name": "stderr",
     "output_type": "stream",
     "text": [
      "Processing samples:  73%|████████████▍    | 365/500 [02:48<01:02,  2.15sample/s]"
     ]
    },
    {
     "name": "stdout",
     "output_type": "stream",
     "text": [
      "Warning: The document was truncated to fit the length limit.\n"
     ]
    },
    {
     "name": "stderr",
     "output_type": "stream",
     "text": [
      "Processing samples:  73%|████████████▍    | 366/500 [02:48<00:55,  2.40sample/s]"
     ]
    },
    {
     "name": "stdout",
     "output_type": "stream",
     "text": [
      "Warning: The document was truncated to fit the length limit.\n"
     ]
    },
    {
     "name": "stderr",
     "output_type": "stream",
     "text": [
      "Processing samples:  73%|████████████▍    | 367/500 [02:49<00:52,  2.54sample/s]"
     ]
    },
    {
     "name": "stdout",
     "output_type": "stream",
     "text": [
      "Warning: The document was truncated to fit the length limit.\n"
     ]
    },
    {
     "name": "stderr",
     "output_type": "stream",
     "text": [
      "Processing samples:  74%|████████████▌    | 368/500 [02:49<00:49,  2.69sample/s]"
     ]
    },
    {
     "name": "stdout",
     "output_type": "stream",
     "text": [
      "Warning: The document was truncated to fit the length limit.\n"
     ]
    },
    {
     "name": "stderr",
     "output_type": "stream",
     "text": [
      "Processing samples:  74%|████████████▌    | 370/500 [02:50<00:57,  2.25sample/s]"
     ]
    },
    {
     "name": "stdout",
     "output_type": "stream",
     "text": [
      "Warning: The document was truncated to fit the length limit.\n"
     ]
    },
    {
     "name": "stderr",
     "output_type": "stream",
     "text": [
      "Processing samples:  74%|████████████▋    | 372/500 [02:51<00:50,  2.55sample/s]"
     ]
    },
    {
     "name": "stdout",
     "output_type": "stream",
     "text": [
      "Warning: The document was truncated to fit the length limit.\n"
     ]
    },
    {
     "name": "stderr",
     "output_type": "stream",
     "text": [
      "Processing samples:  75%|████████████▊    | 375/500 [02:52<00:49,  2.54sample/s]"
     ]
    },
    {
     "name": "stdout",
     "output_type": "stream",
     "text": [
      "Warning: The document was truncated to fit the length limit.\n"
     ]
    },
    {
     "name": "stderr",
     "output_type": "stream",
     "text": [
      "Processing samples:  75%|████████████▊    | 377/500 [02:53<00:44,  2.76sample/s]"
     ]
    },
    {
     "name": "stdout",
     "output_type": "stream",
     "text": [
      "Warning: The document was truncated to fit the length limit.\n"
     ]
    },
    {
     "name": "stderr",
     "output_type": "stream",
     "text": [
      "Processing samples:  76%|████████████▉    | 379/500 [02:54<00:49,  2.46sample/s]"
     ]
    },
    {
     "name": "stdout",
     "output_type": "stream",
     "text": [
      "Warning: The document was truncated to fit the length limit.\n"
     ]
    },
    {
     "name": "stderr",
     "output_type": "stream",
     "text": [
      "Processing samples:  76%|████████████▉    | 380/500 [02:54<00:49,  2.45sample/s]"
     ]
    },
    {
     "name": "stdout",
     "output_type": "stream",
     "text": [
      "Warning: The document was truncated to fit the length limit.\n"
     ]
    },
    {
     "name": "stderr",
     "output_type": "stream",
     "text": [
      "Processing samples:  76%|████████████▉    | 381/500 [02:54<00:44,  2.70sample/s]"
     ]
    },
    {
     "name": "stdout",
     "output_type": "stream",
     "text": [
      "Warning: The document was truncated to fit the length limit.\n"
     ]
    },
    {
     "name": "stderr",
     "output_type": "stream",
     "text": [
      "Processing samples:  76%|████████████▉    | 382/500 [02:55<00:39,  3.01sample/s]"
     ]
    },
    {
     "name": "stdout",
     "output_type": "stream",
     "text": [
      "Warning: The document was truncated to fit the length limit.\n"
     ]
    },
    {
     "name": "stderr",
     "output_type": "stream",
     "text": [
      "Processing samples:  77%|█████████████    | 386/500 [03:09<05:41,  2.99s/sample]"
     ]
    },
    {
     "name": "stdout",
     "output_type": "stream",
     "text": [
      "Warning: The document was truncated to fit the length limit.\n"
     ]
    },
    {
     "name": "stderr",
     "output_type": "stream",
     "text": [
      "Processing samples:  78%|█████████████▏   | 388/500 [03:09<03:01,  1.62s/sample]"
     ]
    },
    {
     "name": "stdout",
     "output_type": "stream",
     "text": [
      "Warning: The document was truncated to fit the length limit.\n"
     ]
    },
    {
     "name": "stderr",
     "output_type": "stream",
     "text": [
      "Processing samples:  78%|█████████████▎   | 390/500 [03:10<01:50,  1.00s/sample]"
     ]
    },
    {
     "name": "stdout",
     "output_type": "stream",
     "text": [
      "Warning: The document was truncated to fit the length limit.\n"
     ]
    },
    {
     "name": "stderr",
     "output_type": "stream",
     "text": [
      "Processing samples:  79%|█████████████▍   | 394/500 [03:12<01:01,  1.72sample/s]"
     ]
    },
    {
     "name": "stdout",
     "output_type": "stream",
     "text": [
      "Warning: The document was truncated to fit the length limit.\n"
     ]
    },
    {
     "name": "stderr",
     "output_type": "stream",
     "text": [
      "Processing samples:  79%|█████████████▍   | 396/500 [03:12<00:45,  2.27sample/s]"
     ]
    },
    {
     "name": "stdout",
     "output_type": "stream",
     "text": [
      "Warning: The document was truncated to fit the length limit.\n"
     ]
    },
    {
     "name": "stderr",
     "output_type": "stream",
     "text": [
      "Processing samples:  79%|█████████████▍   | 397/500 [03:13<00:44,  2.32sample/s]"
     ]
    },
    {
     "name": "stdout",
     "output_type": "stream",
     "text": [
      "Warning: The document was truncated to fit the length limit.\n"
     ]
    },
    {
     "name": "stderr",
     "output_type": "stream",
     "text": [
      "Processing samples:  81%|█████████████▊   | 406/500 [03:16<00:37,  2.51sample/s]"
     ]
    },
    {
     "name": "stdout",
     "output_type": "stream",
     "text": [
      "Warning: The document was truncated to fit the length limit.\n"
     ]
    },
    {
     "name": "stderr",
     "output_type": "stream",
     "text": [
      "Processing samples:  81%|█████████████▊   | 407/500 [03:17<00:37,  2.46sample/s]"
     ]
    },
    {
     "name": "stdout",
     "output_type": "stream",
     "text": [
      "Warning: The document was truncated to fit the length limit.\n"
     ]
    },
    {
     "name": "stderr",
     "output_type": "stream",
     "text": [
      "Processing samples:  83%|██████████████   | 413/500 [03:19<00:32,  2.70sample/s]"
     ]
    },
    {
     "name": "stdout",
     "output_type": "stream",
     "text": [
      "Warning: The document was truncated to fit the length limit.\n"
     ]
    },
    {
     "name": "stderr",
     "output_type": "stream",
     "text": [
      "Processing samples:  83%|██████████████   | 414/500 [03:19<00:31,  2.77sample/s]"
     ]
    },
    {
     "name": "stdout",
     "output_type": "stream",
     "text": [
      "Warning: The document was truncated to fit the length limit.\n"
     ]
    },
    {
     "name": "stderr",
     "output_type": "stream",
     "text": [
      "Processing samples:  83%|██████████████   | 415/500 [03:20<00:30,  2.75sample/s]"
     ]
    },
    {
     "name": "stdout",
     "output_type": "stream",
     "text": [
      "Warning: The document was truncated to fit the length limit.\n"
     ]
    },
    {
     "name": "stderr",
     "output_type": "stream",
     "text": [
      "Processing samples:  83%|██████████████▏  | 417/500 [03:20<00:33,  2.47sample/s]"
     ]
    },
    {
     "name": "stdout",
     "output_type": "stream",
     "text": [
      "Warning: The document was truncated to fit the length limit.\n"
     ]
    },
    {
     "name": "stderr",
     "output_type": "stream",
     "text": [
      "Processing samples:  84%|██████████████▎  | 421/500 [03:22<00:32,  2.45sample/s]"
     ]
    },
    {
     "name": "stdout",
     "output_type": "stream",
     "text": [
      "Warning: The document was truncated to fit the length limit.\n"
     ]
    },
    {
     "name": "stderr",
     "output_type": "stream",
     "text": [
      "Processing samples:  84%|██████████████▎  | 422/500 [03:23<00:34,  2.28sample/s]"
     ]
    },
    {
     "name": "stdout",
     "output_type": "stream",
     "text": [
      "Warning: The document was truncated to fit the length limit.\n"
     ]
    },
    {
     "name": "stderr",
     "output_type": "stream",
     "text": [
      "Processing samples:  85%|██████████████▍  | 424/500 [03:24<00:32,  2.32sample/s]"
     ]
    },
    {
     "name": "stdout",
     "output_type": "stream",
     "text": [
      "Warning: The document was truncated to fit the length limit.\n"
     ]
    },
    {
     "name": "stderr",
     "output_type": "stream",
     "text": [
      "Processing samples:  85%|██████████████▍  | 425/500 [03:24<00:30,  2.50sample/s]"
     ]
    },
    {
     "name": "stdout",
     "output_type": "stream",
     "text": [
      "Warning: The document was truncated to fit the length limit.\n"
     ]
    },
    {
     "name": "stderr",
     "output_type": "stream",
     "text": [
      "Processing samples:  86%|██████████████▋  | 431/500 [03:26<00:23,  2.91sample/s]"
     ]
    },
    {
     "name": "stdout",
     "output_type": "stream",
     "text": [
      "Warning: The document was truncated to fit the length limit.\n"
     ]
    },
    {
     "name": "stderr",
     "output_type": "stream",
     "text": [
      "Processing samples:  86%|██████████████▋  | 432/500 [03:26<00:23,  2.93sample/s]"
     ]
    },
    {
     "name": "stdout",
     "output_type": "stream",
     "text": [
      "Warning: The document was truncated to fit the length limit.\n"
     ]
    },
    {
     "name": "stderr",
     "output_type": "stream",
     "text": [
      "Processing samples:  87%|██████████████▊  | 434/500 [03:27<00:25,  2.62sample/s]"
     ]
    },
    {
     "name": "stdout",
     "output_type": "stream",
     "text": [
      "Warning: The document was truncated to fit the length limit.\n"
     ]
    },
    {
     "name": "stderr",
     "output_type": "stream",
     "text": [
      "Processing samples:  87%|██████████████▊  | 435/500 [03:28<00:27,  2.38sample/s]"
     ]
    },
    {
     "name": "stdout",
     "output_type": "stream",
     "text": [
      "Warning: The document was truncated to fit the length limit.\n"
     ]
    },
    {
     "name": "stderr",
     "output_type": "stream",
     "text": [
      "Processing samples:  87%|██████████████▊  | 436/500 [03:28<00:27,  2.32sample/s]"
     ]
    },
    {
     "name": "stdout",
     "output_type": "stream",
     "text": [
      "Warning: The document was truncated to fit the length limit.\n"
     ]
    },
    {
     "name": "stderr",
     "output_type": "stream",
     "text": [
      "Processing samples:  87%|██████████████▊  | 437/500 [03:29<00:27,  2.27sample/s]"
     ]
    },
    {
     "name": "stdout",
     "output_type": "stream",
     "text": [
      "Warning: The document was truncated to fit the length limit.\n"
     ]
    },
    {
     "name": "stderr",
     "output_type": "stream",
     "text": [
      "Processing samples:  88%|██████████████▉  | 440/500 [03:30<00:25,  2.33sample/s]"
     ]
    },
    {
     "name": "stdout",
     "output_type": "stream",
     "text": [
      "Warning: The document was truncated to fit the length limit.\n"
     ]
    },
    {
     "name": "stderr",
     "output_type": "stream",
     "text": [
      "Processing samples:  88%|███████████████  | 442/500 [03:43<02:59,  3.09s/sample]"
     ]
    },
    {
     "name": "stdout",
     "output_type": "stream",
     "text": [
      "Warning: The document was truncated to fit the length limit.\n"
     ]
    },
    {
     "name": "stderr",
     "output_type": "stream",
     "text": [
      "Processing samples:  89%|███████████████  | 443/500 [03:44<02:10,  2.29s/sample]"
     ]
    },
    {
     "name": "stdout",
     "output_type": "stream",
     "text": [
      "Warning: The document was truncated to fit the length limit.\n"
     ]
    },
    {
     "name": "stderr",
     "output_type": "stream",
     "text": [
      "Processing samples:  89%|███████████████  | 444/500 [03:44<01:34,  1.69s/sample]"
     ]
    },
    {
     "name": "stdout",
     "output_type": "stream",
     "text": [
      "Warning: The document was truncated to fit the length limit.\n"
     ]
    },
    {
     "name": "stderr",
     "output_type": "stream",
     "text": [
      "Processing samples:  89%|███████████████▏ | 445/500 [03:44<01:11,  1.29s/sample]"
     ]
    },
    {
     "name": "stdout",
     "output_type": "stream",
     "text": [
      "Warning: The document was truncated to fit the length limit.\n"
     ]
    },
    {
     "name": "stderr",
     "output_type": "stream",
     "text": [
      "Processing samples:  89%|███████████████▏ | 446/500 [03:45<00:53,  1.00sample/s]"
     ]
    },
    {
     "name": "stdout",
     "output_type": "stream",
     "text": [
      "Warning: The document was truncated to fit the length limit.\n"
     ]
    },
    {
     "name": "stderr",
     "output_type": "stream",
     "text": [
      "Processing samples:  90%|███████████████▎ | 449/500 [03:46<00:36,  1.39sample/s]"
     ]
    },
    {
     "name": "stdout",
     "output_type": "stream",
     "text": [
      "Warning: The document was truncated to fit the length limit.\n"
     ]
    },
    {
     "name": "stderr",
     "output_type": "stream",
     "text": [
      "Processing samples:  90%|███████████████▎ | 451/500 [03:47<00:28,  1.70sample/s]"
     ]
    },
    {
     "name": "stdout",
     "output_type": "stream",
     "text": [
      "Warning: The document was truncated to fit the length limit.\n"
     ]
    },
    {
     "name": "stderr",
     "output_type": "stream",
     "text": [
      "Processing samples:  91%|███████████████▍ | 453/500 [03:48<00:21,  2.14sample/s]"
     ]
    },
    {
     "name": "stdout",
     "output_type": "stream",
     "text": [
      "Warning: The document was truncated to fit the length limit.\n"
     ]
    },
    {
     "name": "stderr",
     "output_type": "stream",
     "text": [
      "Processing samples:  93%|███████████████▊ | 466/500 [03:53<00:11,  3.04sample/s]"
     ]
    },
    {
     "name": "stdout",
     "output_type": "stream",
     "text": [
      "Warning: The document was truncated to fit the length limit.\n"
     ]
    },
    {
     "name": "stderr",
     "output_type": "stream",
     "text": [
      "Processing samples:  94%|███████████████▉ | 470/500 [03:55<00:13,  2.15sample/s]"
     ]
    },
    {
     "name": "stdout",
     "output_type": "stream",
     "text": [
      "Warning: The document was truncated to fit the length limit.\n"
     ]
    },
    {
     "name": "stderr",
     "output_type": "stream",
     "text": [
      "Processing samples:  95%|████████████████▏| 476/500 [03:57<00:10,  2.23sample/s]"
     ]
    },
    {
     "name": "stdout",
     "output_type": "stream",
     "text": [
      "Warning: The document was truncated to fit the length limit.\n"
     ]
    },
    {
     "name": "stderr",
     "output_type": "stream",
     "text": [
      "Processing samples:  95%|████████████████▏| 477/500 [03:58<00:10,  2.16sample/s]"
     ]
    },
    {
     "name": "stdout",
     "output_type": "stream",
     "text": [
      "Warning: The document was truncated to fit the length limit.\n"
     ]
    },
    {
     "name": "stderr",
     "output_type": "stream",
     "text": [
      "Processing samples:  96%|████████████████▎| 481/500 [03:59<00:07,  2.61sample/s]"
     ]
    },
    {
     "name": "stdout",
     "output_type": "stream",
     "text": [
      "Warning: The document was truncated to fit the length limit.\n"
     ]
    },
    {
     "name": "stderr",
     "output_type": "stream",
     "text": [
      "Processing samples:  97%|████████████████▍| 485/500 [04:01<00:06,  2.49sample/s]"
     ]
    },
    {
     "name": "stdout",
     "output_type": "stream",
     "text": [
      "Warning: The document was truncated to fit the length limit.\n"
     ]
    },
    {
     "name": "stderr",
     "output_type": "stream",
     "text": [
      "Processing samples:  97%|████████████████▌| 486/500 [04:01<00:05,  2.62sample/s]"
     ]
    },
    {
     "name": "stdout",
     "output_type": "stream",
     "text": [
      "Warning: The document was truncated to fit the length limit.\n"
     ]
    },
    {
     "name": "stderr",
     "output_type": "stream",
     "text": [
      "Processing samples:  97%|████████████████▌| 487/500 [04:01<00:04,  2.73sample/s]"
     ]
    },
    {
     "name": "stdout",
     "output_type": "stream",
     "text": [
      "Warning: The document was truncated to fit the length limit.\n"
     ]
    },
    {
     "name": "stderr",
     "output_type": "stream",
     "text": [
      "Processing samples:  98%|████████████████▋| 489/500 [04:02<00:04,  2.62sample/s]"
     ]
    },
    {
     "name": "stdout",
     "output_type": "stream",
     "text": [
      "Warning: The document was truncated to fit the length limit.\n"
     ]
    },
    {
     "name": "stderr",
     "output_type": "stream",
     "text": [
      "Processing samples:  98%|████████████████▋| 492/500 [04:03<00:03,  2.57sample/s]"
     ]
    },
    {
     "name": "stdout",
     "output_type": "stream",
     "text": [
      "Warning: The document was truncated to fit the length limit.\n"
     ]
    },
    {
     "name": "stderr",
     "output_type": "stream",
     "text": [
      "Processing samples:  99%|████████████████▊| 495/500 [04:05<00:02,  2.47sample/s]"
     ]
    },
    {
     "name": "stdout",
     "output_type": "stream",
     "text": [
      "Warning: The document was truncated to fit the length limit.\n"
     ]
    },
    {
     "name": "stderr",
     "output_type": "stream",
     "text": [
      "Processing samples:  99%|████████████████▊| 496/500 [04:05<00:01,  2.36sample/s]"
     ]
    },
    {
     "name": "stdout",
     "output_type": "stream",
     "text": [
      "Warning: The document was truncated to fit the length limit.\n"
     ]
    },
    {
     "name": "stderr",
     "output_type": "stream",
     "text": [
      "Processing samples: 100%|█████████████████| 500/500 [04:07<00:00,  2.02sample/s]\n",
      "/home/daniel/private_code/llmtopic/llmtopic/llmtopic.py:44: FutureWarning: Downcasting object dtype arrays on .fillna, .ffill, .bfill is deprecated and will change in a future version. Call result.infer_objects(copy=False) instead. To opt-in to the future behavior, set `pd.set_option('future.no_silent_downcasting', True)`\n",
      "  ).fillna(0)\n"
     ]
    }
   ],
   "source": [
    "topics = lt.fit_transform(dt.to_pandas().sample(500)[\"text\"].values)"
   ]
  },
  {
   "cell_type": "code",
   "execution_count": 7,
   "id": "737e9a2b-ae91-432d-8770-31ef80984511",
   "metadata": {},
   "outputs": [
    {
     "data": {
      "text/html": [
       "<div>\n",
       "<style scoped>\n",
       "    .dataframe tbody tr th:only-of-type {\n",
       "        vertical-align: middle;\n",
       "    }\n",
       "\n",
       "    .dataframe tbody tr th {\n",
       "        vertical-align: top;\n",
       "    }\n",
       "\n",
       "    .dataframe thead th {\n",
       "        text-align: right;\n",
       "    }\n",
       "</style>\n",
       "<table border=\"1\" class=\"dataframe\">\n",
       "  <thead>\n",
       "    <tr style=\"text-align: right;\">\n",
       "      <th></th>\n",
       "      <th>Groupon special</th>\n",
       "      <th>Las Vegas</th>\n",
       "      <th>Unsatisfactory Customer Experience</th>\n",
       "      <th>Garlic flavor</th>\n",
       "      <th>PICTURES</th>\n",
       "      <th>Food preparation</th>\n",
       "      <th>Unappetizing taste</th>\n",
       "      <th>Sale</th>\n",
       "      <th>Knowledgeable about technology</th>\n",
       "      <th>Busy atmosphere</th>\n",
       "      <th>...</th>\n",
       "      <th>Chorizo Hash</th>\n",
       "      <th>Wife satisfaction</th>\n",
       "      <th>Bed comfort</th>\n",
       "      <th>Disappointment with food quality</th>\n",
       "      <th>Not any better than other Chinese places in the area</th>\n",
       "      <th>training issue</th>\n",
       "      <th>Jeff</th>\n",
       "      <th>Massage chairs</th>\n",
       "      <th>Would not return to the restaurant</th>\n",
       "      <th>Lunch and Dinner</th>\n",
       "    </tr>\n",
       "  </thead>\n",
       "  <tbody>\n",
       "    <tr>\n",
       "      <th>0</th>\n",
       "      <td>0</td>\n",
       "      <td>0</td>\n",
       "      <td>0</td>\n",
       "      <td>0</td>\n",
       "      <td>0</td>\n",
       "      <td>0</td>\n",
       "      <td>0</td>\n",
       "      <td>0</td>\n",
       "      <td>0</td>\n",
       "      <td>0</td>\n",
       "      <td>...</td>\n",
       "      <td>0</td>\n",
       "      <td>0</td>\n",
       "      <td>0</td>\n",
       "      <td>0</td>\n",
       "      <td>0</td>\n",
       "      <td>0</td>\n",
       "      <td>0</td>\n",
       "      <td>0</td>\n",
       "      <td>0</td>\n",
       "      <td>0</td>\n",
       "    </tr>\n",
       "    <tr>\n",
       "      <th>1</th>\n",
       "      <td>0</td>\n",
       "      <td>0</td>\n",
       "      <td>0</td>\n",
       "      <td>0</td>\n",
       "      <td>0</td>\n",
       "      <td>0</td>\n",
       "      <td>0</td>\n",
       "      <td>0</td>\n",
       "      <td>0</td>\n",
       "      <td>0</td>\n",
       "      <td>...</td>\n",
       "      <td>0</td>\n",
       "      <td>0</td>\n",
       "      <td>0</td>\n",
       "      <td>0</td>\n",
       "      <td>0</td>\n",
       "      <td>0</td>\n",
       "      <td>0</td>\n",
       "      <td>0</td>\n",
       "      <td>0</td>\n",
       "      <td>0</td>\n",
       "    </tr>\n",
       "    <tr>\n",
       "      <th>2</th>\n",
       "      <td>0</td>\n",
       "      <td>0</td>\n",
       "      <td>0</td>\n",
       "      <td>0</td>\n",
       "      <td>0</td>\n",
       "      <td>0</td>\n",
       "      <td>0</td>\n",
       "      <td>0</td>\n",
       "      <td>0</td>\n",
       "      <td>0</td>\n",
       "      <td>...</td>\n",
       "      <td>0</td>\n",
       "      <td>0</td>\n",
       "      <td>0</td>\n",
       "      <td>0</td>\n",
       "      <td>0</td>\n",
       "      <td>0</td>\n",
       "      <td>0</td>\n",
       "      <td>0</td>\n",
       "      <td>0</td>\n",
       "      <td>0</td>\n",
       "    </tr>\n",
       "    <tr>\n",
       "      <th>3</th>\n",
       "      <td>0</td>\n",
       "      <td>0</td>\n",
       "      <td>0</td>\n",
       "      <td>0</td>\n",
       "      <td>0</td>\n",
       "      <td>0</td>\n",
       "      <td>0</td>\n",
       "      <td>0</td>\n",
       "      <td>0</td>\n",
       "      <td>0</td>\n",
       "      <td>...</td>\n",
       "      <td>0</td>\n",
       "      <td>0</td>\n",
       "      <td>0</td>\n",
       "      <td>0</td>\n",
       "      <td>0</td>\n",
       "      <td>0</td>\n",
       "      <td>0</td>\n",
       "      <td>0</td>\n",
       "      <td>0</td>\n",
       "      <td>0</td>\n",
       "    </tr>\n",
       "    <tr>\n",
       "      <th>4</th>\n",
       "      <td>0</td>\n",
       "      <td>0</td>\n",
       "      <td>0</td>\n",
       "      <td>0</td>\n",
       "      <td>0</td>\n",
       "      <td>0</td>\n",
       "      <td>0</td>\n",
       "      <td>0</td>\n",
       "      <td>0</td>\n",
       "      <td>0</td>\n",
       "      <td>...</td>\n",
       "      <td>0</td>\n",
       "      <td>0</td>\n",
       "      <td>0</td>\n",
       "      <td>0</td>\n",
       "      <td>0</td>\n",
       "      <td>0</td>\n",
       "      <td>0</td>\n",
       "      <td>0</td>\n",
       "      <td>0</td>\n",
       "      <td>0</td>\n",
       "    </tr>\n",
       "    <tr>\n",
       "      <th>...</th>\n",
       "      <td>...</td>\n",
       "      <td>...</td>\n",
       "      <td>...</td>\n",
       "      <td>...</td>\n",
       "      <td>...</td>\n",
       "      <td>...</td>\n",
       "      <td>...</td>\n",
       "      <td>...</td>\n",
       "      <td>...</td>\n",
       "      <td>...</td>\n",
       "      <td>...</td>\n",
       "      <td>...</td>\n",
       "      <td>...</td>\n",
       "      <td>...</td>\n",
       "      <td>...</td>\n",
       "      <td>...</td>\n",
       "      <td>...</td>\n",
       "      <td>...</td>\n",
       "      <td>...</td>\n",
       "      <td>...</td>\n",
       "      <td>...</td>\n",
       "    </tr>\n",
       "    <tr>\n",
       "      <th>495</th>\n",
       "      <td>0</td>\n",
       "      <td>0</td>\n",
       "      <td>0</td>\n",
       "      <td>0</td>\n",
       "      <td>0</td>\n",
       "      <td>0</td>\n",
       "      <td>0</td>\n",
       "      <td>0</td>\n",
       "      <td>0</td>\n",
       "      <td>0</td>\n",
       "      <td>...</td>\n",
       "      <td>0</td>\n",
       "      <td>0</td>\n",
       "      <td>0</td>\n",
       "      <td>0</td>\n",
       "      <td>0</td>\n",
       "      <td>0</td>\n",
       "      <td>0</td>\n",
       "      <td>0</td>\n",
       "      <td>0</td>\n",
       "      <td>0</td>\n",
       "    </tr>\n",
       "    <tr>\n",
       "      <th>496</th>\n",
       "      <td>0</td>\n",
       "      <td>0</td>\n",
       "      <td>0</td>\n",
       "      <td>0</td>\n",
       "      <td>0</td>\n",
       "      <td>0</td>\n",
       "      <td>0</td>\n",
       "      <td>0</td>\n",
       "      <td>0</td>\n",
       "      <td>0</td>\n",
       "      <td>...</td>\n",
       "      <td>0</td>\n",
       "      <td>0</td>\n",
       "      <td>0</td>\n",
       "      <td>0</td>\n",
       "      <td>0</td>\n",
       "      <td>0</td>\n",
       "      <td>0</td>\n",
       "      <td>0</td>\n",
       "      <td>0</td>\n",
       "      <td>0</td>\n",
       "    </tr>\n",
       "    <tr>\n",
       "      <th>497</th>\n",
       "      <td>0</td>\n",
       "      <td>0</td>\n",
       "      <td>0</td>\n",
       "      <td>0</td>\n",
       "      <td>0</td>\n",
       "      <td>0</td>\n",
       "      <td>0</td>\n",
       "      <td>0</td>\n",
       "      <td>0</td>\n",
       "      <td>0</td>\n",
       "      <td>...</td>\n",
       "      <td>0</td>\n",
       "      <td>0</td>\n",
       "      <td>0</td>\n",
       "      <td>0</td>\n",
       "      <td>0</td>\n",
       "      <td>0</td>\n",
       "      <td>0</td>\n",
       "      <td>0</td>\n",
       "      <td>0</td>\n",
       "      <td>0</td>\n",
       "    </tr>\n",
       "    <tr>\n",
       "      <th>498</th>\n",
       "      <td>0</td>\n",
       "      <td>0</td>\n",
       "      <td>0</td>\n",
       "      <td>0</td>\n",
       "      <td>0</td>\n",
       "      <td>0</td>\n",
       "      <td>0</td>\n",
       "      <td>0</td>\n",
       "      <td>0</td>\n",
       "      <td>0</td>\n",
       "      <td>...</td>\n",
       "      <td>0</td>\n",
       "      <td>0</td>\n",
       "      <td>0</td>\n",
       "      <td>0</td>\n",
       "      <td>0</td>\n",
       "      <td>0</td>\n",
       "      <td>0</td>\n",
       "      <td>0</td>\n",
       "      <td>0</td>\n",
       "      <td>0</td>\n",
       "    </tr>\n",
       "    <tr>\n",
       "      <th>499</th>\n",
       "      <td>0</td>\n",
       "      <td>0</td>\n",
       "      <td>0</td>\n",
       "      <td>0</td>\n",
       "      <td>0</td>\n",
       "      <td>0</td>\n",
       "      <td>0</td>\n",
       "      <td>0</td>\n",
       "      <td>0</td>\n",
       "      <td>0</td>\n",
       "      <td>...</td>\n",
       "      <td>0</td>\n",
       "      <td>0</td>\n",
       "      <td>0</td>\n",
       "      <td>0</td>\n",
       "      <td>0</td>\n",
       "      <td>0</td>\n",
       "      <td>0</td>\n",
       "      <td>0</td>\n",
       "      <td>0</td>\n",
       "      <td>0</td>\n",
       "    </tr>\n",
       "  </tbody>\n",
       "</table>\n",
       "<p>500 rows × 1242 columns</p>\n",
       "</div>"
      ],
      "text/plain": [
       "     Groupon special  Las Vegas  Unsatisfactory Customer Experience  \\\n",
       "0                  0          0                                   0   \n",
       "1                  0          0                                   0   \n",
       "2                  0          0                                   0   \n",
       "3                  0          0                                   0   \n",
       "4                  0          0                                   0   \n",
       "..               ...        ...                                 ...   \n",
       "495                0          0                                   0   \n",
       "496                0          0                                   0   \n",
       "497                0          0                                   0   \n",
       "498                0          0                                   0   \n",
       "499                0          0                                   0   \n",
       "\n",
       "     Garlic flavor  PICTURES  Food preparation  Unappetizing taste  Sale  \\\n",
       "0                0         0                 0                   0     0   \n",
       "1                0         0                 0                   0     0   \n",
       "2                0         0                 0                   0     0   \n",
       "3                0         0                 0                   0     0   \n",
       "4                0         0                 0                   0     0   \n",
       "..             ...       ...               ...                 ...   ...   \n",
       "495              0         0                 0                   0     0   \n",
       "496              0         0                 0                   0     0   \n",
       "497              0         0                 0                   0     0   \n",
       "498              0         0                 0                   0     0   \n",
       "499              0         0                 0                   0     0   \n",
       "\n",
       "     Knowledgeable about technology  Busy atmosphere  ...  Chorizo Hash  \\\n",
       "0                                 0                0  ...             0   \n",
       "1                                 0                0  ...             0   \n",
       "2                                 0                0  ...             0   \n",
       "3                                 0                0  ...             0   \n",
       "4                                 0                0  ...             0   \n",
       "..                              ...              ...  ...           ...   \n",
       "495                               0                0  ...             0   \n",
       "496                               0                0  ...             0   \n",
       "497                               0                0  ...             0   \n",
       "498                               0                0  ...             0   \n",
       "499                               0                0  ...             0   \n",
       "\n",
       "     Wife satisfaction  Bed comfort  Disappointment with food quality  \\\n",
       "0                    0            0                                 0   \n",
       "1                    0            0                                 0   \n",
       "2                    0            0                                 0   \n",
       "3                    0            0                                 0   \n",
       "4                    0            0                                 0   \n",
       "..                 ...          ...                               ...   \n",
       "495                  0            0                                 0   \n",
       "496                  0            0                                 0   \n",
       "497                  0            0                                 0   \n",
       "498                  0            0                                 0   \n",
       "499                  0            0                                 0   \n",
       "\n",
       "     Not any better than other Chinese places in the area  training issue  \\\n",
       "0                                                    0                  0   \n",
       "1                                                    0                  0   \n",
       "2                                                    0                  0   \n",
       "3                                                    0                  0   \n",
       "4                                                    0                  0   \n",
       "..                                                 ...                ...   \n",
       "495                                                  0                  0   \n",
       "496                                                  0                  0   \n",
       "497                                                  0                  0   \n",
       "498                                                  0                  0   \n",
       "499                                                  0                  0   \n",
       "\n",
       "     Jeff  Massage chairs  Would not return to the restaurant  \\\n",
       "0       0               0                                   0   \n",
       "1       0               0                                   0   \n",
       "2       0               0                                   0   \n",
       "3       0               0                                   0   \n",
       "4       0               0                                   0   \n",
       "..    ...             ...                                 ...   \n",
       "495     0               0                                   0   \n",
       "496     0               0                                   0   \n",
       "497     0               0                                   0   \n",
       "498     0               0                                   0   \n",
       "499     0               0                                   0   \n",
       "\n",
       "     Lunch and Dinner  \n",
       "0                   0  \n",
       "1                   0  \n",
       "2                   0  \n",
       "3                   0  \n",
       "4                   0  \n",
       "..                ...  \n",
       "495                 0  \n",
       "496                 0  \n",
       "497                 0  \n",
       "498                 0  \n",
       "499                 0  \n",
       "\n",
       "[500 rows x 1242 columns]"
      ]
     },
     "execution_count": 7,
     "metadata": {},
     "output_type": "execute_result"
    }
   ],
   "source": [
    "lt.topic_matrix"
   ]
  },
  {
   "cell_type": "code",
   "execution_count": 8,
   "id": "499d85bb-6254-48e2-9f54-359aac2601b3",
   "metadata": {},
   "outputs": [
    {
     "name": "stderr",
     "output_type": "stream",
     "text": [
      "100%|██████████████████████████████████████████| 7/7 [00:00<00:00, 54270.11it/s]\n",
      "100%|███████████████████████████████████████████| 44/44 [00:01<00:00, 28.91it/s]\n",
      "100%|█████████████████████████████████████████| 240/240 [01:50<00:00,  2.17it/s]\n",
      "/home/daniel/private_code/llmtopic/llmtopic/llmtopic.py:44: FutureWarning: Downcasting object dtype arrays on .fillna, .ffill, .bfill is deprecated and will change in a future version. Call result.infer_objects(copy=False) instead. To opt-in to the future behavior, set `pd.set_option('future.no_silent_downcasting', True)`\n",
      "  ).fillna(0)\n"
     ]
    },
    {
     "data": {
      "text/plain": [
       "[['Amazing food', 'Roti appetizer', 'Chicken satay'],\n",
       " ['Best restaurant in Las Vegas',\n",
       "  'Excellent customer service',\n",
       "  'Amazing food'],\n",
       " ['Italian food', 'Friendly', 'Food quality'],\n",
       " ['Cold beers', 'Fried pickles', 'Banana pudding'],\n",
       " ['Wrong order', 'Disappointment with food', 'Not meeting expectations'],\n",
       " ['Trisha is the best massage therapist',\n",
       "  'Trisha provides a high quality massage',\n",
       "  'Trisha caters to the needs of aging baby boom'],\n",
       " ['Good Food', 'Hate', 'Event planning'],\n",
       " ['Large group accommodated', 'Thai Tea', 'Coconut Ice Cream'],\n",
       " ['New tap room', 'Food quality', 'Good beer'],\n",
       " ['Unsatisfactory macaroni el forno',\n",
       "  'Overcooked chicken marsala',\n",
       "  'Under seasoned meat sauce'],\n",
       " ['Superstore for wedding fans',\n",
       "  'Bridesmaids dresses galore',\n",
       "  'Staff friendly'],\n",
       " ['pulled pork sandwich', 'Brunswick stew', 'porky'],\n",
       " ['Food quality', 'Food quality', 'Counterperson rudeness'],\n",
       " ['Poor service', 'Lack of communication', 'Inconsistent food quality'],\n",
       " ['Poor customer satisfaction', 'Inadequate repairs', 'Chip quality'],\n",
       " ['Boutique', 'Food quality', 'Service'],\n",
       " ['Great vegetarian burger', 'Affordable service', 'Friendly atmosphere'],\n",
       " ['Pokey Sticks', 'Gumby Giveaway', 'Pizza quality'],\n",
       " ['subtractpoliticspoliticspoliticspoliticspoliticspoliticspoliticspoliticspolitics',\n",
       "  'subtractpoliticspoliticspoliticspoliticspoliticspoliticspoliticspoliticspolitics',\n",
       "  'subtractpoliticspoliticspoliticspoliticspoliticspoliticspoliticspoliticspolitics'],\n",
       " ['Chip quality', 'INQUIRIES', 'LIE'],\n",
       " ['Great place', 'Fast service', 'Affordable service'],\n",
       " ['Time share presentation', 'Service', 'Vacation property'],\n",
       " ['Aria as a new favorite Vegas hotel',\n",
       "  'Spacious rooms and well thought out design',\n",
       "  'Amazing food'],\n",
       " ['Upscale arcade and bowling',\n",
       "  'Clean and well maintained',\n",
       "  'Credit card point system'],\n",
       " ['Unfair gas receipt policy',\n",
       "  'Customer service issues',\n",
       "  'Negative experience with Dollar Car Rental'],\n",
       " ['Discusting place', 'Dirty walls', 'Unprofessional staff'],\n",
       " ['Unsatisfactory service',\n",
       "  'Time spent on unrelated topics',\n",
       "  'Customer dissatisfaction'],\n",
       " ['Customer satisfaction', 'Long wait times', 'Need for more staff'],\n",
       " ['Food quality', 'Naan freshness', 'Meat freshness'],\n",
       " ['Food quality', 'Affordable service', 'Location'],\n",
       " ['Head bouncer is an imbecile',\n",
       "  'Claimed to have worked with ID IDs for years',\n",
       "  'Denied entrance based on appearance'],\n",
       " ['Custom cake order', 'Pickup time', 'Service'],\n",
       " ['Enjoyed the night scene', 'Affordable drinks', 'Fast service'],\n",
       " ['Breakfast Burrito', 'Breakfast Burrito', 'Breakfast Burrito'],\n",
       " ['Carnegie Deli', 'Fast service', 'Food quality'],\n",
       " ['Customer dissatisfaction with location',\n",
       "  'Food quality',\n",
       "  'Ambience and service'],\n",
       " ['Customer service issues', 'Sales associate', 'Store experience'],\n",
       " ['Kitschy decor', 'Muddled flavors', 'Lack of fresh ingredients'],\n",
       " ['Breakfast Burrito', 'Perfectly savory and seasoned', 'Wonderful'],\n",
       " ['OHSO', 'Birthday party', 'Great atmosphere'],\n",
       " ['CamelBak water reservoirs',\n",
       "  'Friendly staff',\n",
       "  'Tonto recreation pass and stickers'],\n",
       " ['Shrimp Ceviche Tostada', 'Carne Asada Torta Norte', 'Wonderful'],\n",
       " ['Food quality', 'Affordable service', 'Service'],\n",
       " ['Classic place to eat', 'Good meal', 'High end steak house experience'],\n",
       " ['Excellent quality meats', 'Fresh produce', 'Excellent customer service'],\n",
       " ['Service', 'Atmosphere', 'Food quality'],\n",
       " ['Turkey Burger', 'Tastiest turkey burger', 'Trying other items on the menu'],\n",
       " ['Customer satisfaction', 'Chip quality', 'Service'],\n",
       " ['Exceptional service', 'Large group accommodated', 'Chip quality'],\n",
       " ['VIP HOST Thomas', 'Service', 'Excellent customer service'],\n",
       " ['Sushi', 'Service', 'Friendly staff'],\n",
       " ['Tom Colichio and Top Chef fan', 'High expectations', 'Food quality'],\n",
       " ['Empty place', 'Cold and dry BBQ', 'Crave for Eastern NC BBQ'],\n",
       " ['Bland food', 'Overpriced', 'Poor guacamole'],\n",
       " ['Food quality', 'Service speed', 'Pizza greasiness'],\n",
       " ['Bad experience', 'Dirty tables', 'Fast service'],\n",
       " ['Discontinuation of aerobics class',\n",
       "  'Fullness of the class on weekends',\n",
       "  'Excellent service and attentive staff'],\n",
       " ['Fresh local meat', 'Union County farm', 'High end steak house experience'],\n",
       " ['Customer satisfaction', 'Food quality', 'Service'],\n",
       " ['Excellent customer service',\n",
       "  'Room amenities and cleanliness',\n",
       "  'Proximity to airport and transportation options'],\n",
       " ['Out of town', 'Not pedestrian friendly', 'Big box jungle'],\n",
       " ['Excellent service and attentive staff',\n",
       "  'Excellent selection',\n",
       "  'Fantastic prices'],\n",
       " ['urchin', 'urchin', 'urchin'],\n",
       " ['Great atmosphere', 'Friendly staff', 'Good Food'],\n",
       " ['Customer dissatisfaction with pricing',\n",
       "  'Pizza quality',\n",
       "  'Unreasonable charges for combo meals'],\n",
       " ['xtremely delicious', 'xtremely satisfying', 'xtremely tempting'],\n",
       " ['Food', 'French Toast', 'Grilled cheese'],\n",
       " ['Decor', 'Food', 'Service'],\n",
       " ['Good Food', 'Excellent customer service', 'Cleveland Brown Bar'],\n",
       " ['Castle visit', 'Tour options', 'Affordable service'],\n",
       " ['Poor food quality',\n",
       "  'Unsatisfactory dining experience',\n",
       "  'Inappropriate target audience'],\n",
       " ['Comfy atmosphere', 'Good beer', 'Horrible pizza'],\n",
       " ['Raw beef issue', 'Asian food', 'Yard House options'],\n",
       " ['Poor customer service', 'Lack of responsibility', 'Blame game'],\n",
       " ['Expensive and not tasty', 'Chips and salsa', 'Never return'],\n",
       " ['ids', 'ids', 'ids'],\n",
       " ['Food quality', 'Service speed', 'Temperature of food'],\n",
       " ['Average meal', 'Questionable patrons', 'Cheap hooker'],\n",
       " ['Poor customer service', 'Affordable service', 'Lost customer experience'],\n",
       " ['Excellent customer service', 'Clean', 'Great milkshakes'],\n",
       " ['Chip quality', 'Locksmith scam', 'Home lockout'],\n",
       " ['Family Owned Salon',\n",
       "  'Excellent service and attentive staff',\n",
       "  'Chip quality'],\n",
       " ['Great frozen yogurt',\n",
       "  'Wide variety of flavored',\n",
       "  'Super friendly employees'],\n",
       " ['Authentic Mexican food', 'Chimichanga with green chile sauce', 'Must'],\n",
       " ['xtreme experience', 'xtreme quality', 'xtreme experience'],\n",
       " ['Poor service', 'Long waiting time', 'Disorganized management'],\n",
       " ['Food quality', 'Pricing for children', 'Customer satisfaction'],\n",
       " ['Amazing food', 'Riccota Gnocchi and braised short ribs', 'Service'],\n",
       " ['Good Food', 'Great prices', 'Lunchtime banh mi'],\n",
       " ['Hotel service', 'Room quality', 'Las Vegas attractions'],\n",
       " ['Food quality', 'Food safety', 'Customer satisfaction'],\n",
       " ['Happy Hour Margarita', 'Beer Price', 'Location'],\n",
       " ['Hot pot sweet and tangy soup', 'Pho', 'Che ba mau'],\n",
       " ['Food quality', 'Greens and vegetables', 'Avocado'],\n",
       " ['Poutine quality', 'Beer selection', 'Service'],\n",
       " ['Disappointment with menu changes',\n",
       "  'Affordable service',\n",
       "  'Mediocre food quality'],\n",
       " ['Las Vegas sign', 'Parking lot', 'People taking pictures'],\n",
       " ['Customer satisfaction', 'Hotel experience', 'MGM Grand'],\n",
       " ['Poor food quality', 'High prices', 'Unpleasant customer service'],\n",
       " ['Excellent breakfast', 'Lemon ricotta pancakes', 'Subpar service'],\n",
       " ['Enjoyed the vegetarian pizza',\n",
       "  'Great atmosphere',\n",
       "  'Happy with the portion sizes and leftovers'],\n",
       " ['Closure announcement',\n",
       "  'Customer dissatisfaction',\n",
       "  'Negative Referral Impact'],\n",
       " ['Encore Hotel', 'Room', 'Service'],\n",
       " ['Horrible job', 'Long waits', 'Breakfast Burrito'],\n",
       " ['Food', 'Decorations', 'Great atmosphere'],\n",
       " ['Service', 'Bad company', 'Rude operator'],\n",
       " ['Save money by repairing shoes',\n",
       "  'Save money by repairing shoes',\n",
       "  'Save money by repairing shoes'],\n",
       " ['Kid friendly atmosphere',\n",
       "  'Arcade and carnival games',\n",
       "  'Comfortable and clean rooms'],\n",
       " ['Buffalo wings', 'Cold wings', 'Unappetizing taste'],\n",
       " ['Caesars Palace map', 'Bacchanal buffet', 'Cold food'],\n",
       " ['Free VIP passes', 'Small dance floor', 'Bad music'],\n",
       " ['Fresh ice water with lemon slices',\n",
       "  'Blueberry Pancakes',\n",
       "  'Classic Eggs Benedict'],\n",
       " ['Italian food', 'Family', 'Olive oil'],\n",
       " ['Wait staff service',\n",
       "  'Fast check in process',\n",
       "  'DrDonnaMiller took time to answer questions'],\n",
       " ['Pull pork sandwich', 'Flavor', 'Service'],\n",
       " ['Disgusting restaurant', 'Freezer cold dumplings', 'Hair in the curry'],\n",
       " ['Unpleasant customer service', 'Negative experience', 'Recommendation'],\n",
       " ['Organic nails', 'Organic nails', 'Shawndy'],\n",
       " ['Cleaning', 'Driver side', 'Middle console'],\n",
       " ['Customer satisfaction', 'Line size', 'Variety of products'],\n",
       " ['Hostess attire', 'Seating availability', 'Food quality'],\n",
       " ['Customer dissatisfaction with baggage fees',\n",
       "  'Lack of options for checking in bags',\n",
       "  'Unsatisfactory flight experience'],\n",
       " ['Wrong temperature', 'Completely red', 'Lost business'],\n",
       " ['Grosse dreh', 'Combos', 'Laissez un peu de temps pour vu'],\n",
       " ['Service', 'Team', 'Customer satisfaction'],\n",
       " ['Ease of visit', 'Professionalism', 'Animal care'],\n",
       " ['Incorrect oil filter order',\n",
       "  'Overpriced oil change',\n",
       "  'Poor customer service'],\n",
       " ['Customer satisfaction', 'parking issue', 'Unsatisfactory service'],\n",
       " ['Transitory staff', 'Poor service', 'Lack of beer selection'],\n",
       " ['AYCE sushi', 'NoBueno', 'Affordable service'],\n",
       " ['New beds', 'Lotion on the floor', 'Unsatisfactory service'],\n",
       " ['Disappointment', 'Negative Referral Impact', 'Authentic Thai food'],\n",
       " ['Great menu selection', 'Food quality', 'Italian food'],\n",
       " ['Wonderful', 'Good Food', 'Bone marrow'],\n",
       " ['Good beer', 'Great atmosphere', 'Nocover charge'],\n",
       " ['Service left a lot to be desired',\n",
       "  'Hostess was not attentive',\n",
       "  'Food was mediocre'],\n",
       " ['Customer Service Disappointment',\n",
       "  'Unsatisfactory Stitching Experience',\n",
       "  'Negative Referral Impact'],\n",
       " ['Arrogant staff', 'Long waiting times', 'Fast service'],\n",
       " ['Cupcakes', 'Chip quality', 'Presentation'],\n",
       " ['Thanksgiving and Holidays', 'Service', 'Food'],\n",
       " ['Wait for tables', 'Marginal service', 'Underwhelming food'],\n",
       " ['Overpriced', 'Stale food', 'Empty'],\n",
       " ['Magnolia', 'Great meal', 'Buy one get one entree coupon'],\n",
       " ['Overpriced', 'Terrible customer service', 'Mediocre'],\n",
       " ['Beautiful private dining experience',\n",
       "  'Great atmosphere',\n",
       "  'Sabrina the banquet manager'],\n",
       " ['Grand Lux Cafe', 'Food', 'Las Vegas'],\n",
       " ['Pizza quality',\n",
       "  'Issues with management and billing practices',\n",
       "  'Dishonest practices'],\n",
       " ['brutaler Vorgeschmack', 'sinnloses Geld', 'rausschmei'],\n",
       " ['Overrated', 'Food quality', 'Customer dissatisfaction'],\n",
       " ['Family trip to Vegas', 'brunch', 'High end dining experience'],\n",
       " ['Exciting and diverse menu',\n",
       "  'Greens and vegetables',\n",
       "  'Aplenty of people agree'],\n",
       " ['Coupon not honored', 'Poor customer service', 'Cashier not caring'],\n",
       " ['Greek Woody Harrelson', 'Indoor fish market', 'Sushi chef'],\n",
       " ['Avoid', 'Avoid', 'Avoid'],\n",
       " ['Professionalism', 'Customer satisfaction', 'Talented stylist'],\n",
       " ['Exciting Nosh and Swig', 'Unique drinks', 'Expensive pricing'],\n",
       " ['Max Bar', 'Atmosph', 'Einrichtung'],\n",
       " ['BBQ shrimp', 'Jambalaya', 'Banana pudding'],\n",
       " ['Amazing food', 'Amazing experience', 'Upcoming neighborhood'],\n",
       " ['Cafe size', 'Unique drinks', 'Waiting Time'],\n",
       " ['TASTY BURGER', 'TERRIBLE SERVICE', 'NOT VALIDATING REGULAR VISITORS'],\n",
       " ['Dogs with Mega Esophagus', 'Good vet help', 'Helpful staff'],\n",
       " ['Service', 'Service', 'Rude behavior'],\n",
       " ['Hangover food', 'Swell lumberjack statue', 'Needed to eat'],\n",
       " ['Freshness of baked goods',\n",
       "  'Customer satisfaction',\n",
       "  'Language barriers in a French Bakery'],\n",
       " ['Pork butt', 'Supermarket', 'Jester'],\n",
       " ['Family owned restaurant', 'Las Vegas', 'Bento box'],\n",
       " ['Great pizza', 'Garlic flavor', 'Better than most in the neighborhood'],\n",
       " ['Poor food preparation',\n",
       "  'Cheap ingredients',\n",
       "  'Unsatisfactory customer experience'],\n",
       " ['Cool atmosphere',\n",
       "  'Good alcohol selection',\n",
       "  'Decent prices for burgers and sandwiches'],\n",
       " ['VIP experience', 'Great atmosphere', 'Drinks and pricing'],\n",
       " ['Office mat', 'Sale', 'Cashier'],\n",
       " ['NoCallNoShow', 'RequestedRefund', 'LivingSocial'],\n",
       " ['Staff', 'Decor', 'Food'],\n",
       " ['Adoption process', 'Meet and greet', 'Adoption fees'],\n",
       " ['Pepperoni pizza', 'Great sauce', 'Outdoor seating'],\n",
       " ['Vegas trip', 'Amazing experience', 'Close interaction with lions'],\n",
       " ['Best Vietnamese food in Las Vegas',\n",
       "  'Pho and spring rolls',\n",
       "  'Coffee quality'],\n",
       " ['Location selection', 'Beer selection', 'Checkout wait time'],\n",
       " ['Location', 'Yogurt place', 'Customer satisfaction'],\n",
       " ['Dirty hotel room', 'Noise level', 'Uncomfortable bed'],\n",
       " ['Poor service', 'Inaccurate food preparation', 'Groupon restrictions'],\n",
       " ['High expectations', 'Long wait', 'Disappointment with food quality'],\n",
       " ['Overpriced food', 'Service', 'Decor'],\n",
       " ['China Grill Mgmt sold stake in Red Square',\n",
       "  'Light Group takeover',\n",
       "  'Cavihour closure'],\n",
       " ['Unnecessary membership', 'Groupon distraction', 'Late fee issue'],\n",
       " ['Worst set up entrance', 'Ropes', 'Rude staff'],\n",
       " ['Chip quality', 'Inadequate repairs', 'Unsatisfactory Customer Experience'],\n",
       " ['Buca', 'Italian food', 'Wonderful'],\n",
       " ['Customer dissatisfaction with check in process',\n",
       "  'Cleanliness and maintenance issues in the motel',\n",
       "  'Unsatisfactory service'],\n",
       " ['Diversified menu', 'Appetizer experience', 'Chip quality'],\n",
       " ['Service speed', 'Uninterested chef', 'Expensive and not worth it'],\n",
       " ['Great atmosphere', 'Impersonation', 'Top of the hour'],\n",
       " ['Friendly', 'Cute cafe with art and natural light', 'Greens and vegetables'],\n",
       " ['Unreliable opening hours',\n",
       "  'Overly aggressive advertising',\n",
       "  'Poor food quality'],\n",
       " ['Food quality', 'Affordable service', 'Noise level'],\n",
       " ['Ooooh Bachi', 'Best burger place ever', 'Las Vegas'],\n",
       " ['Salsa quality', 'Chip quality', 'Margarita service'],\n",
       " ['Customer service dissatisfaction',\n",
       "  'Return policy confusion',\n",
       "  'Unsatisfactory service'],\n",
       " ['Order issues', 'Customer service issues', 'Poor management'],\n",
       " ['Not accommodating', 'Completely ignored', 'Complete waste of time'],\n",
       " ['Poor customer service', 'Tire leak', 'Tire repair'],\n",
       " ['Customer satisfaction', 'NoComplaints', 'Accommodations'],\n",
       " ['Food quality', 'Service', 'Food quality'],\n",
       " ['Delano Design dress', 'Unsatisfactory service', 'Service'],\n",
       " ['Amazing food', 'Busy atmosphere', 'High price point'],\n",
       " ['Disappointing meal', 'Mismatched cuisines', 'Unimpressive decor'],\n",
       " ['Bocho Roll', 'Spider Roll', 'Unagi'],\n",
       " ['Italian food', 'Good Food', 'Warmth and heart'],\n",
       " ['Deli offerings', 'Portion sizes', 'Affordable service'],\n",
       " ['Customer dissatisfaction with medical advice',\n",
       "  'Unsatisfactory service',\n",
       "  'Overpriced medical procedures'],\n",
       " ['Excellent customer service', 'Good Food', 'Spicy chicken YUM'],\n",
       " ['xtremely delicious food',\n",
       "  'xtreme experience',\n",
       "  'xtremely comfortable seating'],\n",
       " ['Breakfast Burrito', 'Wonderful', 'Weekly'],\n",
       " ['Wonderful', 'PICTURES', 'TUSCAN'],\n",
       " ['Sushi place', 'Best rolls', 'Sushi bar experience'],\n",
       " ['Small salon', 'Talkative stylist', 'Sensitive scalp reaction'],\n",
       " ['Customer satisfaction', 'Unsatisfactory experience', 'Heavy food'],\n",
       " ['Poor customer service', 'Overcooked burgers', 'Inefficient wait time'],\n",
       " ['customer dissatisfaction', 'Waiting Time', 'home wine drinking experience'],\n",
       " ['Poor service', 'Unsatisfactory results', 'Negative experience'],\n",
       " ['Customer dissatisfaction with wait time',\n",
       "  'Unsatisfactory food preparation',\n",
       "  'Negative dining experience'],\n",
       " ['Food quality', 'Freshness of ingredients', 'Takeout packaging'],\n",
       " ['Kiwi Quencher', 'Hefty piece of bread', 'Turkey and guacamole'],\n",
       " ['Best vegan donuts', 'Affordable service', 'Customer satisfaction'],\n",
       " ['Fresh', 'Service speed', 'Friendly'],\n",
       " ['Drive thru experience', 'Iced caramel macchiato', 'Fast service'],\n",
       " ['Italian food', 'Breakfast', 'Service'],\n",
       " ['Unimpressed with food quality',\n",
       "  'Disappointed with service',\n",
       "  'Would not return to the restaurant'],\n",
       " ['Horrible service', 'Nogoing here', 'One waitress and bartender'],\n",
       " ['Good pho', 'Lunchtime banh mi', 'Shaved ice'],\n",
       " ['Poor paint job', 'Fast service', 'Better quality at other salons'],\n",
       " ['Good Food', 'Huge portions', 'Reasonably priced'],\n",
       " ['Small room', 'NoSeating', 'NoCocktailTables'],\n",
       " ['Teppanyaki restaurant', 'Atmosphere', 'Calamari preparation'],\n",
       " ['Customer satisfaction',\n",
       "  'Negative Referral Impact',\n",
       "  'poor customer service'],\n",
       " ['Groupon transaction fees',\n",
       "  'Cash transactions preference',\n",
       "  'Client experience review'],\n",
       " ['Made to order custom donuts',\n",
       "  'Friendly staff',\n",
       "  'Fun and energetic environment'],\n",
       " ['Overpriced', 'Mediocre food', 'Lacking service'],\n",
       " ['roller coaster experience', 'neck restraint system', 'disappointment'],\n",
       " ['Super boring tourist trap',\n",
       "  'Overpriced and old news',\n",
       "  'Fancy messages and in any color'],\n",
       " ['Italian ice and custard', 'Variety of flavors', 'Comfortable seating'],\n",
       " ['Food quality', 'Freshness', 'Customer satisfaction'],\n",
       " ['Food quality', 'Service speed', 'Lunchtime banh mi'],\n",
       " ['Uncomfortable soar throats',\n",
       "  'Unnecessary strep throat test',\n",
       "  'Unhelpful receptionist'],\n",
       " ['Delivery Standards', 'Unappetizing Delivery', 'Customer Dissatisfaction'],\n",
       " ['Overrated garage refrigerator',\n",
       "  'Customer service issues',\n",
       "  'Poor communication'],\n",
       " ['WFgo', 'friendly staff', 'Chip quality'],\n",
       " ['Seating availability',\n",
       "  'Easy reservation process',\n",
       "  'High prices for drinks'],\n",
       " ['xtremely yummy',\n",
       "  'xtremely hangover size portions',\n",
       "  'xtremely yummy dinner'],\n",
       " ['Amazing food',\n",
       "  'Expensive but memorable meal',\n",
       "  'Cramped and mean owner or manager'],\n",
       " ['Amazing food', 'Excellent customer service', 'Customer satisfaction'],\n",
       " ['Wait staff service', 'Amazing food', 'Near perfect venue to watch games'],\n",
       " ['Helpful staff', 'Biggest Truck', 'Credit Card Payment'],\n",
       " ['Excellent service and attentive staff',\n",
       "  'Excellent T T Burger',\n",
       "  'Amazing food'],\n",
       " ['Takeout', 'Decor', 'Meals'],\n",
       " ['Groupon', 'Hours', 'Appointments'],\n",
       " ['High end steak house experience',\n",
       "  'Las Vegas Blvd views',\n",
       "  'Roof top lounge'],\n",
       " ['Amazing Poutine', 'Large Portions', 'Amazing food'],\n",
       " ['Food place mistakes', 'Customer dissatisfaction', 'Food quality'],\n",
       " ['Jeff', 'Service', 'Coupons'],\n",
       " ['Chorizo Hash', 'Snickers pancake', 'Imperial Palace'],\n",
       " ['Amazing experience', 'Brian McCauley', 'Used car'],\n",
       " ['subtractpoliticspoliticspoliticspoliticspoliticspoliticspoliticspoliticspolitics',\n",
       "  'subtractpoliticspoliticspoliticspoliticspoliticspoliticspoliticspoliticspolitics',\n",
       "  'subtractpoliticspoliticspoliticspoliticspoliticspoliticspoliticspoliticspolitics'],\n",
       " ['Good Food', 'Food quality', 'Excellent service and attentive staff'],\n",
       " ['Takeout pizza', 'Whole pizza', 'City pizza'],\n",
       " ['Decor', 'Food', 'Service'],\n",
       " ['Horrible management', 'Unprofessional', 'Outright rude'],\n",
       " ['Divas', 'The Open Door', 'Lingerie'],\n",
       " ['Service', 'Restraining Order Threat', 'Medical Accessibility'],\n",
       " ['Friendly staff', 'Good burgers', 'Pool table'],\n",
       " ['Amazing beef rib', 'Super cute place', 'Great prices'],\n",
       " ['Italian food', 'Affordable drinks', 'Friendly'],\n",
       " ['Bouncer harassment', 'Inadequate booth usage', 'Poor customer experience'],\n",
       " ['Poor customer service',\n",
       "  'Incompetent employees',\n",
       "  'Lack of useful information'],\n",
       " ['Fantastic place', 'Great atmosphere', 'Customer satisfaction'],\n",
       " ['Baggage fees', 'Chip quality', 'Southwest Airlines'],\n",
       " ['buffet at bellagio', 'holiday rate', 'Food quality'],\n",
       " ['Poor management', 'Understaffed', 'Dirty theatre'],\n",
       " ['Proof of age', 'Government ID', 'Customer satisfaction'],\n",
       " ['Freshness of sushi', 'Cleanliness and ambiance', 'Seating availability'],\n",
       " ['Carne Asada Torta Norte', 'Carnitas plate', 'Breakfast Burrito'],\n",
       " ['Value for money', 'Excellent customer service', 'Vibe'],\n",
       " ['Lighting system', 'Club', 'Decor'],\n",
       " ['Juicy burger', 'Service', 'Burger selection'],\n",
       " ['Indian food', 'Amazing food', 'Worth the drive'],\n",
       " ['Amazing food', 'Shrimp tacos', 'Salsa'],\n",
       " ['Exciting muscle car experience',\n",
       "  'GTX and Challenger',\n",
       "  'Las Vegas traffic and safety'],\n",
       " ['House salad', 'Service', 'Vanilla shake'],\n",
       " ['Best Buy', 'Helpful staff', 'Knowledgeable about technology'],\n",
       " ['Great value', 'Good pizza', 'Customer satisfaction'],\n",
       " ['Excellent customer service',\n",
       "  'Clean and inviting',\n",
       "  'Confused with Japanese decor'],\n",
       " ['Great breakfast',\n",
       "  'Corned beef hash and yogurt',\n",
       "  'Excellent customer service'],\n",
       " ['Thrifty Car Rental', 'Service', 'American Express Card'],\n",
       " ['Gross and filthy bathrooms', 'Food swimming in grease', 'Food safety'],\n",
       " ['Thin walls', 'Terrible view', 'Unfriendly staff'],\n",
       " ['Food quality', 'Expensive prices', 'Grumpy staff'],\n",
       " ['Decent craft beer selection', 'Oskar blues ipa', 'Coors light'],\n",
       " ['Atmosphere', 'Atmosphere', 'Atmosphere'],\n",
       " ['Overcooked food',\n",
       "  'Unsatisfactory dining experience',\n",
       "  'Negative Referral Impact'],\n",
       " ['Postino', 'Tuscan Tuna sandwich', 'Atmosphere'],\n",
       " ['Calamari', 'Tuna tar tar', 'Seared tuna'],\n",
       " ['Beautiful restaurant', 'Excellent customer service', 'Amazing onion soup'],\n",
       " ['Poor food quality', 'Affordable drinks', 'Unhelpful manager'],\n",
       " ['Customer dissatisfaction with service',\n",
       "  'Cashier Peter not respecting customer preferences',\n",
       "  'Manager Hedi not addressing customer concerns'],\n",
       " ['Favorite place to eat', 'Authentic food', 'Fast service'],\n",
       " ['Montreal bagels', 'Bagel varieties', 'Bagel quality'],\n",
       " ['Great pizza', 'Thin crust', 'Service speed'],\n",
       " ['Laissez un peu de temps pour vu',\n",
       "  'Laissez un peu de temps pour vu',\n",
       "  'Laissez un peu de temps pour vu'],\n",
       " ['Excellent service and attentive staff',\n",
       "  'Excellent customer service',\n",
       "  'Clean environment'],\n",
       " ['Service', 'Service speed', 'Nonstop'],\n",
       " ['Customer satisfaction', 'Kennel cough', 'Affordable service'],\n",
       " ['Great meat quality', 'Late arrival', 'Awesome cooooold japanese beer'],\n",
       " ['Customer satisfaction',\n",
       "  'Best landlord in a difficult time',\n",
       "  'Wishing the landlord and his family well'],\n",
       " ['Casual and dressy atmosphere', 'Italian food', 'Value for money'],\n",
       " ['Food quality', 'good prices', 'ambiance of the restaurant'],\n",
       " ['Amazing place', 'Unique signs', 'Knowledgeable guides'],\n",
       " ['Coffee quality', 'Downtown Phoenix', 'Coffee quality'],\n",
       " ['Friendly',\n",
       "  'Custom menu for my girlfriend on her birthday',\n",
       "  'Gem in Chandler'],\n",
       " ['Breakfast Burrito', 'Menu', 'Breakfast Burrito'],\n",
       " ['Excellent customer service', 'Red Neck Tacos', 'Baby back ribs'],\n",
       " ['Location and parking', 'Service', 'Sales'],\n",
       " ['Ill equipped for lunch crowd',\n",
       "  'Non existent ticketing system',\n",
       "  'Poor customer service'],\n",
       " ['Family and local suppliers',\n",
       "  'First rate ingredients and service',\n",
       "  'Pizza quality'],\n",
       " ['Ice cream quality', 'House salad', 'Service'],\n",
       " ['Rio Seafood Buffet', 'Indian food', 'Desserts'],\n",
       " ['Service', 'food', 'Good Food'],\n",
       " ['Unsatisfactory food quality',\n",
       "  'Poorly cooked tacos',\n",
       "  'Lack of culinary expertise'],\n",
       " ['dishonest service facility',\n",
       "  'Paul the habitual liar',\n",
       "  'poor customer service'],\n",
       " ['Poor customer service',\n",
       "  'Ignored customers',\n",
       "  'High end steak house experience'],\n",
       " ['All suite rooms', 'Pool area', 'Rio hotel'],\n",
       " ['Pub image change', 'Widescreen TV', 'Atmosphere'],\n",
       " ['Service', 'Food quality', 'Waiting Time'],\n",
       " ['Nice clean store', 'Would shop here anytime', 'Customer satisfaction'],\n",
       " ['Amazing seats', 'Bathrooms and bar', 'Stage proximity'],\n",
       " ['Asian food', 'Bento boxes', 'Sushi'],\n",
       " ['Overpriced',\n",
       "  'Not better than other Chinese places',\n",
       "  'Not any better than other Chinese places in the area'],\n",
       " ['Food quality', 'Driver behavior', 'Service'],\n",
       " ['Trip to Vegas', 'Chip quality', 'Full body sticks'],\n",
       " ['Sushi quality', 'Service', 'Value for money'],\n",
       " ['brunch', 'ManVsFoodFavorite', 'Good Food'],\n",
       " ['Cuban Restaurant', 'Downtown Area', 'Amazing food'],\n",
       " ['Undercooked fries',\n",
       "  'Disappointment with fries',\n",
       "  'Hot dog with ketchup and relish'],\n",
       " ['pork chop and Buffalo', 'mac and cheese', 'decor'],\n",
       " ['Customer satisfaction', 'Bar staff response', 'Police involvement'],\n",
       " ['Asian food', 'Good Food', 'Friendly'],\n",
       " ['Nuns Island', 'Lunch and Dinner', 'Great selection of pizzas'],\n",
       " ['Small yet interesting menu', 'Good beer', 'Good price point'],\n",
       " ['Incredible beer selection',\n",
       "  'Consistently so so food',\n",
       "  'Friendly and attentive waitstaff'],\n",
       " ['Amargosa Trail', 'Hiking in Henderson', 'Side trails in Boulder City'],\n",
       " ['Amazing food', 'Service speed', 'Rude hostess'],\n",
       " ['Hallmark Scams', 'Value for money', 'Amazon Price Comparison'],\n",
       " ['Lack of internet', 'Food quality', 'Noemployee discounts'],\n",
       " ['Order confirmation issues',\n",
       "  'Insulting excuses',\n",
       "  'Customer dissatisfaction'],\n",
       " ['subpar food', 'better soup based noodles', 'consider other places first'],\n",
       " ['Negative Referral Impact',\n",
       "  'Excellent service and attentive staff',\n",
       "  'Margarita Extra Pizza with beer'],\n",
       " ['Affordable service', 'Variety of meats and toppings', 'Fast service'],\n",
       " ['Menu change',\n",
       "  'Negative impact on food quality',\n",
       "  'Disappointment with closure of Big Dogs on Sahara'],\n",
       " ['Fast service', 'Heat Stroke', 'Arcade'],\n",
       " ['Asian stylists', 'Green Valley Ranch', 'Cliff barber shop'],\n",
       " ['Tourist trap', 'Upselling', 'Chip quality'],\n",
       " ['Spirit Airlines self check in confusion',\n",
       "  'Fort Lauderdale baggage handling',\n",
       "  'Unclear charges for water and soda'],\n",
       " ['Customer dissatisfaction with food quality',\n",
       "  'Long waiting time for orders',\n",
       "  'Unsatisfactory service'],\n",
       " ['Great beer selection', 'Fast service', 'Busy Friday night'],\n",
       " ['Best eyebrow waxing', 'Affordable service', 'Exceptional service'],\n",
       " ['Great flavor', 'Huge portions', 'Red sauce'],\n",
       " ['Food quality', 'Service', 'Gluten free options'],\n",
       " ['Best yoga studio', 'Unique classes', 'Affordable service'],\n",
       " ['Excellent service and attentive staff',\n",
       "  'Birthday celebration and special menu',\n",
       "  'Busman as the star of the show'],\n",
       " ['Waiter Break', 'Cold Food', 'Unavailable Dish'],\n",
       " ['Food quality', 'Service', 'Atmosphere'],\n",
       " ['brunch', 'Champagne included', 'Attentive waitress'],\n",
       " ['Laissez un peu de temps pour vu', 'LVat Wynn', 'Customer satisfaction'],\n",
       " ['Good Food', 'peasant food', 'Friendly'],\n",
       " ['Coffee quality', 'Food quality', 'Busyness of the place'],\n",
       " ['brunch', 'eggs Benedict', 'Customer satisfaction'],\n",
       " ['Great atmosphere', 'Affordable drinks', 'Busy nights'],\n",
       " ['Chip quality', 'Food safety', 'Poor service'],\n",
       " ['xtremely tasty burrito', 'xtreme experience', 'xtremely high cost'],\n",
       " ['Friendly', 'Overcooked pasta', 'Disappointment with food quality'],\n",
       " ['Amazing food', 'Excellent customer service', 'Will return'],\n",
       " ['Service', 'Food', 'Customer satisfaction'],\n",
       " ['Easy reservation process', 'Decor and location', 'Unique drinks'],\n",
       " ['Super friendly employees', 'Great atmosphere', 'Best casino around'],\n",
       " ['subtractpoliticspoliticspoliticspoliticspoliticspoliticspoliticspoliticspolitics',\n",
       "  'subtractpoliticspoliticspoliticspoliticspoliticspoliticspoliticspoliticspolitics',\n",
       "  'subtractpoliticspoliticspoliticspoliticspoliticspoliticspoliticspoliticspolitics'],\n",
       " ['Cheap food', 'Chip quality', 'Friendly staff'],\n",
       " ['Customer satisfaction',\n",
       "  'Customer dissatisfaction',\n",
       "  'Availability of products'],\n",
       " ['Customer satisfaction', 'Food quality', 'Service'],\n",
       " ['Rear end collision', 'Inconvenience', 'Service'],\n",
       " ['Service speed', 'French onion soup', 'Berry cobbler'],\n",
       " ['Pet food store', 'West Valley', 'Boarding and trust'],\n",
       " ['Arrogance of the chef tasting menu',\n",
       "  'Overly complex combination of simple ingredients',\n",
       "  'Impresses Phoenix residents'],\n",
       " ['Customer dissatisfaction with canned vegetables',\n",
       "  'Comparison to grocery store options',\n",
       "  'Recommendation for bringing own container to reduce waste'],\n",
       " ['Best Hookah Lounge', 'Shawrma', 'Recommendation'],\n",
       " ['Check in time', 'Service', 'Wait time'],\n",
       " ['Ambience', 'Decor', 'Service'],\n",
       " ['Handmade Mexican ice pops', 'Agua Vita', 'Pepinto Vita'],\n",
       " ['Pink eye', 'Establishment', 'Breakfast Burrito'],\n",
       " ['xtreme experience', 'xtremely poor quality', 'xtreme experience'],\n",
       " ['Pedi', 'Conversation', 'Massage chairs'],\n",
       " ['Comfort', 'Cute Factor', 'Service'],\n",
       " ['Security guard watching customers',\n",
       "  'Uncomfortable feeling due to security guard',\n",
       "  'Long wait for exchange due to employee'],\n",
       " ['Outstanding buttermilk donuts',\n",
       "  'Open all hours',\n",
       "  'Excellent customer service'],\n",
       " ['Food quality', 'Decor', 'Atmosphere'],\n",
       " ['French Onion Soup', 'Bistro business', 'Unsatisfactory service'],\n",
       " ['Dessert Experience', 'Prefixe Menu', 'Bathroom Design'],\n",
       " ['Rave is the best in Vegas',\n",
       "  'Comfortable seating',\n",
       "  'Excellent service and attentive staff'],\n",
       " ['Caribbean food', 'Amazing food', 'People'],\n",
       " ['Bed comfort', 'Room decor', 'Complimentary breakfast'],\n",
       " ['Caruso', 'Malt liquor', 'Ice beer'],\n",
       " ['Good Food', 'Excellent customer service', 'Birthday celebration'],\n",
       " ['Great atmosphere', 'Additional fees', 'Room conditions'],\n",
       " ['Customer dissatisfaction with sushi quality',\n",
       "  'Overcrowded dining experience',\n",
       "  'Clueless customers'],\n",
       " ['Suns games', 'Rattlers games', 'NCAA Sweet Sixteen'],\n",
       " ['Dirty casino', 'Poor quality food', 'Broken bathroom door'],\n",
       " ['Black bean veggie burger', 'Good beer', 'Service'],\n",
       " ['Fresh and clean scent', 'Variety of products', 'Family owned business'],\n",
       " ['Unimpressed with cupcake flavors',\n",
       "  'Unfavorable frosting texture',\n",
       "  'Disappointment with lack of French macaroons'],\n",
       " ['Good Food', 'Excellent service and attentive staff', 'Unique drinks'],\n",
       " ['Lunchtime banh mi', 'Table availability', 'Food quality'],\n",
       " ['Customer service issues', 'Service', 'Great atmosphere'],\n",
       " ['Customer service issues', 'Food quality', 'Groupon special'],\n",
       " ['LivingSocial deal', 'Groupon deal', 'Customer dissatisfaction'],\n",
       " ['Bad service', 'Overpriced burger joints', 'Week night'],\n",
       " ['Pizza quality', 'Friendly', 'Personalized experience'],\n",
       " ['VIB card', 'Diapers', 'Store items'],\n",
       " ['Sukiyaki', 'Fresh ingredients', 'Excellent customer service'],\n",
       " ['Stolen watch', 'Michael Kors watch', 'Stolen from car'],\n",
       " ['Service', 'Seafood linguine', 'Manager response'],\n",
       " ['Cashu', 'Tender', 'Too much salt'],\n",
       " ['Salsarita', 'Airport location', 'Customer satisfaction'],\n",
       " ['Service', 'Food', 'Rellano'],\n",
       " ['Customer satisfaction', 'Food preparation', 'Food safety'],\n",
       " ['Chicharones de queso', 'Carne Asada Torta Norte', 'Guacamole is amazing'],\n",
       " ['Customer satisfaction',\n",
       "  'Atmosphere and decor',\n",
       "  'Sushi chef and ordering process'],\n",
       " ['Beautiful casino hotel', 'Amazing rooms', 'Great atmosphere'],\n",
       " ['Value for money', 'Excellent portion sizes', 'Fast service'],\n",
       " ['Customer satisfaction',\n",
       "  'Issues with management and billing practices',\n",
       "  'Comparison to Embassy Suites'],\n",
       " ['Sushi place', 'Worst', 'Life'],\n",
       " ['Overpowering sweetness',\n",
       "  'Unsatisfactory boba texture',\n",
       "  'Poor customer service'],\n",
       " ['subtractpoliticspoliticspoliticspoliticspoliticspoliticspoliticspoliticspolitics',\n",
       "  'subtractpoliticspoliticspoliticspoliticspoliticspoliticspoliticspoliticspolitics',\n",
       "  'subtractpoliticspoliticspoliticspoliticspoliticspoliticspoliticspoliticspolitics'],\n",
       " ['Unsatisfactory service', 'Poor food quality', 'Unnecessary sample cup'],\n",
       " ['Dishonest business practices', 'Inadequate repairs', 'Affordable service'],\n",
       " ['Wait time', 'Seating', 'Food quality'],\n",
       " ['Malibu', 'Valet parking', 'Dirty martini'],\n",
       " ['Service speed', 'Flavors', 'Asparagus'],\n",
       " ['Unique show experience', 'Entertainment variety', 'Keeps audience engaged'],\n",
       " ['Unsatisfactory bridal hair style',\n",
       "  'Unsatisfactory bridal makeup',\n",
       "  'Unsatisfactory overall experience'],\n",
       " ['Authenticity of Mexican food',\n",
       "  'Stale corn tortillas in enchiladas',\n",
       "  'Guajillo salsa taste'],\n",
       " ['Private event', 'Good Food', 'Cash only'],\n",
       " ['Customer dissatisfaction with wait time',\n",
       "  'Unfriendly hostess',\n",
       "  'High food and service prices'],\n",
       " ['County Sherriffs office', 'Nonpayment of drink tax', 'PGH Cafe'],\n",
       " ['Bland food', 'Greasy food', 'Customer dissatisfaction'],\n",
       " ['Great location and storefront',\n",
       "  'Warmth and heart',\n",
       "  'Interesting flavors and crust'],\n",
       " ['Amazing cake', 'Good Food', 'Customer satisfaction'],\n",
       " ['mrlucky', 'slot machine', 'airport'],\n",
       " ['Amazing club',\n",
       "  'Excellent service and attentive staff',\n",
       "  'Unforgettable experience'],\n",
       " ['Food was cold', 'Service speed', 'Server lost debit card'],\n",
       " ['Local businesses doing well', 'Small joint ambiance', 'Pizza quality'],\n",
       " ['Emperor Buffet', 'Asian food', 'Sushi'],\n",
       " ['Ginza rice ball', 'Sushi fish', 'Sushi rice'],\n",
       " ['Applebee', 'Food quality', 'High prices'],\n",
       " ['Excellent customer service', 'Comfortable rooms', 'Helpful staff'],\n",
       " ['Ford Fusion', 'Service', 'National Parks in Utah'],\n",
       " ['Chip quality', 'Service', 'Food'],\n",
       " ['Food Marginal', 'Portions Small', 'Price High'],\n",
       " ['Organic nails', 'Unique Ruffle Frame Shelf', 'Organic nails'],\n",
       " ['Hillstone', 'Customer satisfaction', 'Disappointment'],\n",
       " ['Waited in long line', 'Decorations and ambiance', 'Food quality'],\n",
       " ['Pizza quality', 'Kid friendly atmosphere', 'Convenient location'],\n",
       " ['VIP staff', 'Light show', 'Great atmosphere'],\n",
       " ['Food quality', 'Free appetizer', 'Positive experience'],\n",
       " ['Chip quality', 'Loud and unpleasant', 'Unsatisfactory food'],\n",
       " ['New ownership', 'New menu', 'New indifference to food quality'],\n",
       " ['Yuzu', 'Amazing food', 'Nice and friendly staff'],\n",
       " ['Customer dissatisfaction with wait time',\n",
       "  'Unsatisfactory service',\n",
       "  'Importance of having multiple staff members at the counter'],\n",
       " ['Great atmosphere', 'Great atmosphere', 'Wait staff service'],\n",
       " ['Chip quality', 'Dressmaking courses', 'Staff expertise'],\n",
       " ['Food quality', 'Food quality', 'Cleanliness'],\n",
       " ['Service speed', 'Affordable drinks', 'Amazing food'],\n",
       " ['Poor customer service', 'Lack of cleanliness', 'Unprofessionalism'],\n",
       " ['Seattleite', 'Picky', 'Gluten free options'],\n",
       " ['Overpriced and underdelivered',\n",
       "  'Poor quality and customer dissatisfaction',\n",
       "  'Lack of customer service and response'],\n",
       " ['MAC store', 'False eyelashes', 'High end steak house experience'],\n",
       " ['Customer dissatisfaction with food quality',\n",
       "  'Lack of food options',\n",
       "  'Miscommunication about menu items'],\n",
       " ['Best find in Vegas',\n",
       "  'Fusion tacos',\n",
       "  'Excellent service and attentive staff'],\n",
       " ['First hand experience', 'Filthy dump', 'Yelp removed it'],\n",
       " ['Great interior of casino',\n",
       "  'Enjoyable breakfast at Greenbergs Deli',\n",
       "  'Nice rooms with cleanliness'],\n",
       " ['Waiting Time', 'Drive thru experience', 'Unsatisfactory service'],\n",
       " ['Customer satisfaction', 'Room amenities', 'Shower quality'],\n",
       " ['Negative Referral Impact',\n",
       "  'Out of everything',\n",
       "  'Check order before leaving'],\n",
       " ['Customer dissatisfaction with wait time',\n",
       "  'Unsatisfactory service',\n",
       "  'Unreliable staff'],\n",
       " ['Indian food', 'Bland food from other places', 'Indian food'],\n",
       " ['Customer dissatisfaction', 'Lack of followup', 'Management indifference'],\n",
       " ['Issues with management and billing practices',\n",
       "  'Customer Dissatisfaction',\n",
       "  'Control Panel Flaws'],\n",
       " ['Poor customer service', 'Helpful staff', 'Unhelpful staff'],\n",
       " ['Pizza quality', 'Cold pizza', 'Bland taste'],\n",
       " ['Amazing food', 'Service', 'Food mislabeling'],\n",
       " ['Best workouts', 'Helpful staff', 'Great atmosphere'],\n",
       " ['Starbucks experience', 'Food safety', 'Unique drinks']]"
      ]
     },
     "execution_count": 8,
     "metadata": {},
     "output_type": "execute_result"
    }
   ],
   "source": [
    "lt.summarize_topics()\n",
    "lt.topic_matrix"
   ]
  },
  {
   "cell_type": "code",
   "execution_count": 10,
   "id": "98bfdec7-c3b5-4eb6-91c0-8edc03c97fb1",
   "metadata": {},
   "outputs": [
    {
     "name": "stderr",
     "output_type": "stream",
     "text": [
      "100%|██████████████████████████████████████████| 4/4 [00:00<00:00, 71697.50it/s]\n",
      "100%|███████████████████████████████████████████| 36/36 [00:01<00:00, 22.99it/s]\n",
      "100%|█████████████████████████████████████████| 186/186 [01:24<00:00,  2.20it/s]\n",
      "/home/daniel/private_code/llmtopic/llmtopic/llmtopic.py:44: FutureWarning: Downcasting object dtype arrays on .fillna, .ffill, .bfill is deprecated and will change in a future version. Call result.infer_objects(copy=False) instead. To opt-in to the future behavior, set `pd.set_option('future.no_silent_downcasting', True)`\n",
      "  ).fillna(0)\n"
     ]
    },
    {
     "data": {
      "text/html": [
       "<div>\n",
       "<style scoped>\n",
       "    .dataframe tbody tr th:only-of-type {\n",
       "        vertical-align: middle;\n",
       "    }\n",
       "\n",
       "    .dataframe tbody tr th {\n",
       "        vertical-align: top;\n",
       "    }\n",
       "\n",
       "    .dataframe thead th {\n",
       "        text-align: right;\n",
       "    }\n",
       "</style>\n",
       "<table border=\"1\" class=\"dataframe\">\n",
       "  <thead>\n",
       "    <tr style=\"text-align: right;\">\n",
       "      <th></th>\n",
       "      <th>Groupon special</th>\n",
       "      <th>Police involvement</th>\n",
       "      <th>Takeout packaging</th>\n",
       "      <th>Fancy messages and in any color</th>\n",
       "      <th>Family trip to Vegas</th>\n",
       "      <th>Good price point</th>\n",
       "      <th>Las Vegas</th>\n",
       "      <th>holiday rate</th>\n",
       "      <th>Pho</th>\n",
       "      <th>Unsatisfactory Customer Experience</th>\n",
       "      <th>...</th>\n",
       "      <th>Hair in the curry</th>\n",
       "      <th>Massage chairs</th>\n",
       "      <th>Atmosphere and decor</th>\n",
       "      <th>Cavihour closure</th>\n",
       "      <th>Would not return to the restaurant</th>\n",
       "      <th>Family</th>\n",
       "      <th>Lunch and Dinner</th>\n",
       "      <th>Fantastic prices</th>\n",
       "      <th>Claimed to have worked with ID IDs for years</th>\n",
       "      <th>Waiting Time</th>\n",
       "    </tr>\n",
       "  </thead>\n",
       "  <tbody>\n",
       "    <tr>\n",
       "      <th>0</th>\n",
       "      <td>0</td>\n",
       "      <td>0</td>\n",
       "      <td>0</td>\n",
       "      <td>0</td>\n",
       "      <td>0</td>\n",
       "      <td>0</td>\n",
       "      <td>0</td>\n",
       "      <td>0</td>\n",
       "      <td>0</td>\n",
       "      <td>0</td>\n",
       "      <td>...</td>\n",
       "      <td>0</td>\n",
       "      <td>0</td>\n",
       "      <td>0</td>\n",
       "      <td>0</td>\n",
       "      <td>0</td>\n",
       "      <td>0</td>\n",
       "      <td>0</td>\n",
       "      <td>0</td>\n",
       "      <td>0</td>\n",
       "      <td>0</td>\n",
       "    </tr>\n",
       "    <tr>\n",
       "      <th>1</th>\n",
       "      <td>0</td>\n",
       "      <td>0</td>\n",
       "      <td>0</td>\n",
       "      <td>0</td>\n",
       "      <td>0</td>\n",
       "      <td>0</td>\n",
       "      <td>0</td>\n",
       "      <td>0</td>\n",
       "      <td>0</td>\n",
       "      <td>0</td>\n",
       "      <td>...</td>\n",
       "      <td>0</td>\n",
       "      <td>0</td>\n",
       "      <td>0</td>\n",
       "      <td>0</td>\n",
       "      <td>0</td>\n",
       "      <td>0</td>\n",
       "      <td>0</td>\n",
       "      <td>0</td>\n",
       "      <td>0</td>\n",
       "      <td>0</td>\n",
       "    </tr>\n",
       "    <tr>\n",
       "      <th>2</th>\n",
       "      <td>0</td>\n",
       "      <td>0</td>\n",
       "      <td>0</td>\n",
       "      <td>0</td>\n",
       "      <td>0</td>\n",
       "      <td>0</td>\n",
       "      <td>0</td>\n",
       "      <td>0</td>\n",
       "      <td>0</td>\n",
       "      <td>0</td>\n",
       "      <td>...</td>\n",
       "      <td>0</td>\n",
       "      <td>0</td>\n",
       "      <td>0</td>\n",
       "      <td>0</td>\n",
       "      <td>0</td>\n",
       "      <td>0</td>\n",
       "      <td>0</td>\n",
       "      <td>0</td>\n",
       "      <td>0</td>\n",
       "      <td>0</td>\n",
       "    </tr>\n",
       "    <tr>\n",
       "      <th>3</th>\n",
       "      <td>0</td>\n",
       "      <td>0</td>\n",
       "      <td>0</td>\n",
       "      <td>0</td>\n",
       "      <td>0</td>\n",
       "      <td>0</td>\n",
       "      <td>0</td>\n",
       "      <td>0</td>\n",
       "      <td>0</td>\n",
       "      <td>0</td>\n",
       "      <td>...</td>\n",
       "      <td>0</td>\n",
       "      <td>0</td>\n",
       "      <td>0</td>\n",
       "      <td>0</td>\n",
       "      <td>0</td>\n",
       "      <td>0</td>\n",
       "      <td>0</td>\n",
       "      <td>0</td>\n",
       "      <td>0</td>\n",
       "      <td>0</td>\n",
       "    </tr>\n",
       "    <tr>\n",
       "      <th>4</th>\n",
       "      <td>0</td>\n",
       "      <td>0</td>\n",
       "      <td>0</td>\n",
       "      <td>0</td>\n",
       "      <td>0</td>\n",
       "      <td>0</td>\n",
       "      <td>0</td>\n",
       "      <td>0</td>\n",
       "      <td>0</td>\n",
       "      <td>0</td>\n",
       "      <td>...</td>\n",
       "      <td>0</td>\n",
       "      <td>0</td>\n",
       "      <td>0</td>\n",
       "      <td>0</td>\n",
       "      <td>0</td>\n",
       "      <td>0</td>\n",
       "      <td>0</td>\n",
       "      <td>0</td>\n",
       "      <td>0</td>\n",
       "      <td>0</td>\n",
       "    </tr>\n",
       "    <tr>\n",
       "      <th>...</th>\n",
       "      <td>...</td>\n",
       "      <td>...</td>\n",
       "      <td>...</td>\n",
       "      <td>...</td>\n",
       "      <td>...</td>\n",
       "      <td>...</td>\n",
       "      <td>...</td>\n",
       "      <td>...</td>\n",
       "      <td>...</td>\n",
       "      <td>...</td>\n",
       "      <td>...</td>\n",
       "      <td>...</td>\n",
       "      <td>...</td>\n",
       "      <td>...</td>\n",
       "      <td>...</td>\n",
       "      <td>...</td>\n",
       "      <td>...</td>\n",
       "      <td>...</td>\n",
       "      <td>...</td>\n",
       "      <td>...</td>\n",
       "      <td>...</td>\n",
       "    </tr>\n",
       "    <tr>\n",
       "      <th>495</th>\n",
       "      <td>0</td>\n",
       "      <td>0</td>\n",
       "      <td>0</td>\n",
       "      <td>0</td>\n",
       "      <td>0</td>\n",
       "      <td>0</td>\n",
       "      <td>0</td>\n",
       "      <td>0</td>\n",
       "      <td>0</td>\n",
       "      <td>0</td>\n",
       "      <td>...</td>\n",
       "      <td>0</td>\n",
       "      <td>0</td>\n",
       "      <td>0</td>\n",
       "      <td>0</td>\n",
       "      <td>0</td>\n",
       "      <td>0</td>\n",
       "      <td>0</td>\n",
       "      <td>0</td>\n",
       "      <td>0</td>\n",
       "      <td>0</td>\n",
       "    </tr>\n",
       "    <tr>\n",
       "      <th>496</th>\n",
       "      <td>0</td>\n",
       "      <td>0</td>\n",
       "      <td>0</td>\n",
       "      <td>0</td>\n",
       "      <td>0</td>\n",
       "      <td>0</td>\n",
       "      <td>0</td>\n",
       "      <td>0</td>\n",
       "      <td>0</td>\n",
       "      <td>0</td>\n",
       "      <td>...</td>\n",
       "      <td>0</td>\n",
       "      <td>0</td>\n",
       "      <td>0</td>\n",
       "      <td>0</td>\n",
       "      <td>0</td>\n",
       "      <td>0</td>\n",
       "      <td>0</td>\n",
       "      <td>0</td>\n",
       "      <td>0</td>\n",
       "      <td>0</td>\n",
       "    </tr>\n",
       "    <tr>\n",
       "      <th>497</th>\n",
       "      <td>0</td>\n",
       "      <td>0</td>\n",
       "      <td>0</td>\n",
       "      <td>0</td>\n",
       "      <td>0</td>\n",
       "      <td>0</td>\n",
       "      <td>0</td>\n",
       "      <td>0</td>\n",
       "      <td>0</td>\n",
       "      <td>0</td>\n",
       "      <td>...</td>\n",
       "      <td>0</td>\n",
       "      <td>0</td>\n",
       "      <td>0</td>\n",
       "      <td>0</td>\n",
       "      <td>0</td>\n",
       "      <td>0</td>\n",
       "      <td>0</td>\n",
       "      <td>0</td>\n",
       "      <td>0</td>\n",
       "      <td>0</td>\n",
       "    </tr>\n",
       "    <tr>\n",
       "      <th>498</th>\n",
       "      <td>0</td>\n",
       "      <td>0</td>\n",
       "      <td>0</td>\n",
       "      <td>0</td>\n",
       "      <td>0</td>\n",
       "      <td>0</td>\n",
       "      <td>0</td>\n",
       "      <td>0</td>\n",
       "      <td>0</td>\n",
       "      <td>0</td>\n",
       "      <td>...</td>\n",
       "      <td>0</td>\n",
       "      <td>0</td>\n",
       "      <td>0</td>\n",
       "      <td>0</td>\n",
       "      <td>0</td>\n",
       "      <td>0</td>\n",
       "      <td>0</td>\n",
       "      <td>0</td>\n",
       "      <td>0</td>\n",
       "      <td>0</td>\n",
       "    </tr>\n",
       "    <tr>\n",
       "      <th>499</th>\n",
       "      <td>0</td>\n",
       "      <td>0</td>\n",
       "      <td>0</td>\n",
       "      <td>0</td>\n",
       "      <td>0</td>\n",
       "      <td>0</td>\n",
       "      <td>0</td>\n",
       "      <td>0</td>\n",
       "      <td>0</td>\n",
       "      <td>0</td>\n",
       "      <td>...</td>\n",
       "      <td>0</td>\n",
       "      <td>0</td>\n",
       "      <td>0</td>\n",
       "      <td>0</td>\n",
       "      <td>0</td>\n",
       "      <td>0</td>\n",
       "      <td>0</td>\n",
       "      <td>0</td>\n",
       "      <td>0</td>\n",
       "      <td>0</td>\n",
       "    </tr>\n",
       "  </tbody>\n",
       "</table>\n",
       "<p>500 rows × 895 columns</p>\n",
       "</div>"
      ],
      "text/plain": [
       "     Groupon special  Police involvement  Takeout packaging  \\\n",
       "0                  0                   0                  0   \n",
       "1                  0                   0                  0   \n",
       "2                  0                   0                  0   \n",
       "3                  0                   0                  0   \n",
       "4                  0                   0                  0   \n",
       "..               ...                 ...                ...   \n",
       "495                0                   0                  0   \n",
       "496                0                   0                  0   \n",
       "497                0                   0                  0   \n",
       "498                0                   0                  0   \n",
       "499                0                   0                  0   \n",
       "\n",
       "     Fancy messages and in any color  Family trip to Vegas  Good price point  \\\n",
       "0                                  0                     0                 0   \n",
       "1                                  0                     0                 0   \n",
       "2                                  0                     0                 0   \n",
       "3                                  0                     0                 0   \n",
       "4                                  0                     0                 0   \n",
       "..                               ...                   ...               ...   \n",
       "495                                0                     0                 0   \n",
       "496                                0                     0                 0   \n",
       "497                                0                     0                 0   \n",
       "498                                0                     0                 0   \n",
       "499                                0                     0                 0   \n",
       "\n",
       "     Las Vegas  holiday rate  Pho  Unsatisfactory Customer Experience  ...  \\\n",
       "0            0             0    0                                   0  ...   \n",
       "1            0             0    0                                   0  ...   \n",
       "2            0             0    0                                   0  ...   \n",
       "3            0             0    0                                   0  ...   \n",
       "4            0             0    0                                   0  ...   \n",
       "..         ...           ...  ...                                 ...  ...   \n",
       "495          0             0    0                                   0  ...   \n",
       "496          0             0    0                                   0  ...   \n",
       "497          0             0    0                                   0  ...   \n",
       "498          0             0    0                                   0  ...   \n",
       "499          0             0    0                                   0  ...   \n",
       "\n",
       "     Hair in the curry  Massage chairs  Atmosphere and decor  \\\n",
       "0                    0               0                     0   \n",
       "1                    0               0                     0   \n",
       "2                    0               0                     0   \n",
       "3                    0               0                     0   \n",
       "4                    0               0                     0   \n",
       "..                 ...             ...                   ...   \n",
       "495                  0               0                     0   \n",
       "496                  0               0                     0   \n",
       "497                  0               0                     0   \n",
       "498                  0               0                     0   \n",
       "499                  0               0                     0   \n",
       "\n",
       "     Cavihour closure  Would not return to the restaurant  Family  \\\n",
       "0                   0                                   0       0   \n",
       "1                   0                                   0       0   \n",
       "2                   0                                   0       0   \n",
       "3                   0                                   0       0   \n",
       "4                   0                                   0       0   \n",
       "..                ...                                 ...     ...   \n",
       "495                 0                                   0       0   \n",
       "496                 0                                   0       0   \n",
       "497                 0                                   0       0   \n",
       "498                 0                                   0       0   \n",
       "499                 0                                   0       0   \n",
       "\n",
       "     Lunch and Dinner  Fantastic prices  \\\n",
       "0                   0                 0   \n",
       "1                   0                 0   \n",
       "2                   0                 0   \n",
       "3                   0                 0   \n",
       "4                   0                 0   \n",
       "..                ...               ...   \n",
       "495                 0                 0   \n",
       "496                 0                 0   \n",
       "497                 0                 0   \n",
       "498                 0                 0   \n",
       "499                 0                 0   \n",
       "\n",
       "     Claimed to have worked with ID IDs for years  Waiting Time  \n",
       "0                                               0             0  \n",
       "1                                               0             0  \n",
       "2                                               0             0  \n",
       "3                                               0             0  \n",
       "4                                               0             0  \n",
       "..                                            ...           ...  \n",
       "495                                             0             0  \n",
       "496                                             0             0  \n",
       "497                                             0             0  \n",
       "498                                             0             0  \n",
       "499                                             0             0  \n",
       "\n",
       "[500 rows x 895 columns]"
      ]
     },
     "execution_count": 10,
     "metadata": {},
     "output_type": "execute_result"
    }
   ],
   "source": [
    "lt.summarize_topics()\n",
    "lt.topic_matrix.sum().sort_values()[::-1].head(20)"
   ]
  },
  {
   "cell_type": "code",
   "execution_count": 11,
   "id": "fb1cb456-70d6-412f-a57c-b7617cfaee3e",
   "metadata": {},
   "outputs": [
    {
     "data": {
      "text/plain": [
       "Service speed                            86\n",
       "Friendly staff                           46\n",
       "Food quality                             45\n",
       "Customer satisfaction                    37\n",
       "Waiting Time                             21\n",
       "Amazing food                             20\n",
       "Chip quality                             19\n",
       "Excellent customer service               19\n",
       "Great atmosphere                         17\n",
       "Good Food                                17\n",
       "Unsatisfactory service                   13\n",
       "Excellent service and attentive staff    12\n",
       "Poor customer service                    12\n",
       "Food                                     10\n",
       "Customer dissatisfaction                  9\n",
       "Unsatisfactory Customer Experience        9\n",
       "Decor                                     8\n",
       "Italian food                              8\n",
       "Pizza quality                             8\n",
       "Atmosphere                                7\n",
       "dtype: int64"
      ]
     },
     "execution_count": 11,
     "metadata": {},
     "output_type": "execute_result"
    }
   ],
   "source": [
    "lt.topic_matrix.sum().sort_values()[::-1].head(20)"
   ]
  },
  {
   "cell_type": "code",
   "execution_count": 8,
   "id": "bbcd2de1-635b-4b46-9bad-4b6b2abc35a2",
   "metadata": {},
   "outputs": [
    {
     "data": {
      "text/plain": [
       "[['GREAT food',\n",
       "  'Solid service',\n",
       "  'Would almost come here without a reason to travel'],\n",
       " ['Terrible service', 'Rude employees', 'Out of ingredients and bread issues'],\n",
       " ['Unhelpful and rude cash register manager',\n",
       "  'Friendly sales associate',\n",
       "  'Comparison to other retail stores'],\n",
       " ['Beer selection', 'Burger quality', 'Cocktail menu'],\n",
       " ['Fantasy tower remodel', 'Toilet quality', 'Mattress quality'],\n",
       " ['Construction issues',\n",
       "  'Room reservation problems',\n",
       "  'Customer service dissatisfaction'],\n",
       " ['Excellent staff', 'New York Style pizza', 'Match made in heaven'],\n",
       " ['Discount', 'Friendly staff', 'Tire rotation'],\n",
       " ['Arizona Car Wash Co', 'friendly people', 'thorough cleaning'],\n",
       " ['Friendly service', 'Incredible food', 'Tamales'],\n",
       " ['Seabass', 'Decent', 'Not recommended'],\n",
       " ['Table reservation confusion',\n",
       "  'VIP table experience',\n",
       "  'Excellent service and attention to detail'],\n",
       " ['Michael', 'Modern Nails', 'Amazing fill in'],\n",
       " ['Goat cheese stuffed Peppadews', 'Malbec burger', 'Chocolate cake'],\n",
       " ['Disappointment with appearance',\n",
       "  'Overcrowded and packed',\n",
       "  'Decent chefs and food quality'],\n",
       " ['Spring rolls', 'Beef caldereta', 'Dinuguan'],\n",
       " ['Terrible seasoning', 'Same taste', 'Refund request'],\n",
       " ['Best value in Vegas', 'Great staff', 'Perfect bed'],\n",
       " ['Christmas Show dissatisfaction',\n",
       "  'Unimaginative narration',\n",
       "  'Nonstop music and nonstop activities'],\n",
       " ['Awful service', 'Dirty tables', 'Long waiting time'],\n",
       " ['Guest services', 'Parking situation', 'Hotel management'],\n",
       " ['Excellent food', 'Great service', 'Very friendly chef'],\n",
       " ['Great experience',\n",
       "  'Patricia had a great experience',\n",
       "  'Party downstairs disrupted sleep'],\n",
       " ['Glass Nickel restaurant', 'Late night delivery', 'Middleton area'],\n",
       " ['Love this place', 'Amazing shows', 'Service is second to none'],\n",
       " ['Hot dog', 'Great Depression', 'Costly ingredients'],\n",
       " ['Store meetings', 'Product recall', 'Rude salesperson'],\n",
       " ['Customer Retention', 'Oligopoly of Cox Cable', 'Live Person Interaction'],\n",
       " ['Fly in soy', 'Unapologetic waitress', 'Noisy bill'],\n",
       " ['Pumpkin Soup', 'Spicy', 'Tech Conference'],\n",
       " ['Food quality', 'Service experience', 'Tip expectations'],\n",
       " ['Bike Shop Customer Service', 'Shipping Costs', 'Bike Shop Quality'],\n",
       " ['High prices', 'Comparison to other stores', 'Pillow quality'],\n",
       " ['Cajun food', 'Rooftop dining', 'Live jazz'],\n",
       " ['Poor customer service', 'Long wait times', 'Incorrect order'],\n",
       " ['Thalis', 'Variety', 'Rice dishes'],\n",
       " ['Customer service', 'Clothes', 'Store'],\n",
       " ['Disgusted with service', 'Long wait times', 'Unsatisfactory venue'],\n",
       " ['Bad fish taste', 'Soggy texture', 'Unsatisfactory delivery order'],\n",
       " ['Bank account monitoring', 'Slow service', 'Police involvement'],\n",
       " ['Sin City heaven', 'Pan Roast', 'Happy hour'],\n",
       " ['Popped popcorn store', 'Variety of flavors', 'Nitrogen Freezing option'],\n",
       " ['Plating', 'Food', 'Restaurant'],\n",
       " ['Customer satisfaction', 'Atmosphere', 'Security issues'],\n",
       " ['Customer satisfaction', 'Property value', 'Customer service'],\n",
       " ['Exceptional service', 'Delicious food', 'High prices'],\n",
       " ['Long wait time', 'Rude waitress', 'Lack of customer respect'],\n",
       " ['Customer satisfaction', 'Great care for dogs', 'Caring and kind doctors'],\n",
       " ['Sour dough culture', 'Farm to table ingredients', 'Porchetta sandwich'],\n",
       " ['Outdoor seating', 'Live music', 'PNC ball game'],\n",
       " ['Ambiance', 'Service', 'Food'],\n",
       " ['Fredericks of Hollywood', 'Fashion Show Mall', 'Lingerie selection'],\n",
       " ['Service', 'Connectivity', 'Customer Support'],\n",
       " ['Good food', 'Excellent service', 'Local flavor'],\n",
       " ['Food quality', 'Service', 'Discrimination'],\n",
       " ['INCREDIBLY MINDBLOWINGL', 'LOUD', 'RENT'],\n",
       " ['Food quality', 'Order accuracy', 'Customer satisfaction'],\n",
       " ['Japanese buffet',\n",
       "  'Better than other one',\n",
       "  'Snow crag legs and fish varieties'],\n",
       " ['Great place for breakfast',\n",
       "  'Not your typical bacon and eggs',\n",
       "  'Borderline special'],\n",
       " ['Funny show', 'People not plants', 'Quality of the show'],\n",
       " ['Epic Columbus Day weekend',\n",
       "  'Party coordination',\n",
       "  'Clubbing experience in Vegas'],\n",
       " ['Awful', 'DoNotEatHere', 'LobsterBisque'],\n",
       " ['Fantastic place', 'Great prices', 'Good service'],\n",
       " ['Bad feeling', 'Horrible service', 'Food was horrible'],\n",
       " ['Falafel undercooked',\n",
       "  'Unappetizing cheese on greek fries',\n",
       "  'Better options for greek food'],\n",
       " ['Homemade tortillas', 'Best salad', 'Pork Barbacoa Salad'],\n",
       " ['Draft beer', 'Bartenders', 'Cheers atmosphere'],\n",
       " ['Mexican food', 'Best burritos', 'Service and people'],\n",
       " ['Excellent food', 'Bland dal', 'Iced chai'],\n",
       " ['Good service', 'Great food', 'Excellent care for daughter'],\n",
       " ['Poor service', 'Rude owner', 'Subpar buffet'],\n",
       " ['Food quality', 'Service', 'Price'],\n",
       " ['Best Italian sub', 'Great portions', 'Affordable price'],\n",
       " ['Food quality', 'Customer experience', 'Recommendation'],\n",
       " ['inconsistent pricing',\n",
       "  'poor service at the bar',\n",
       "  'lack of appreciation for customers'],\n",
       " ['Cobia and Cioppino', 'Oyster sampler', 'California roll'],\n",
       " ['Dim sum', 'Worst', 'Food quality'],\n",
       " ['Crowded restaurant', 'Rushed server', 'Unhealthy food'],\n",
       " ['Great place', 'Excellent wine list', 'Oyster issue'],\n",
       " ['Slow service', 'Non attentive service', 'Rude server'],\n",
       " ['Diamond Appraisal', 'Unfamiliar Office Space', 'Unanswered Appointment'],\n",
       " ['Great service', 'Solid food', 'Best Chinese food in Charlotte'],\n",
       " ['EAT', 'EAT', 'EAT'],\n",
       " ['Poor quality meats', 'Overpriced', 'Not going back'],\n",
       " ['worst experience ever', 'salsa spoiled', 'food poisoning'],\n",
       " ['Dim sum quality', 'Spareribs', 'Pork dumplings'],\n",
       " ['Omelet', 'Butter', 'Service'],\n",
       " ['Excellent sushi flavors',\n",
       "  'Fresh Mongolian Chicken',\n",
       "  'Hip and trendy atmosphere'],\n",
       " ['Customer dissatisfaction', 'Product quality', 'Value for money'],\n",
       " ['Terrible chicken', 'Soggy and wrong', 'Scratched off list'],\n",
       " ['Authentic French bistro', 'Fresh baguette', 'Caprese sandwich'],\n",
       " ['Great happy hour specials',\n",
       "  'Summer special',\n",
       "  'Free chocolate or cheese fondue'],\n",
       " ['Perfect Nails', 'Happy with pricing', 'Relatively fast'],\n",
       " ['Poor service at Round Corner', 'Long wait times', 'Missed waitress'],\n",
       " ['Excellent food quality', 'Attentive staff', 'Affordable prices'],\n",
       " ['Excellent customer service',\n",
       "  'High quality products',\n",
       "  'Cleanliness and friendliness'],\n",
       " ['Poorly cooked lobster', 'Dorm lounge', 'Red Sox pennants'],\n",
       " ['Relaxing environment', 'Personal jacuzzi', 'Absorbed lotion and oil'],\n",
       " ['Reliant Capitol', 'Unlisted', 'Earn my business'],\n",
       " ['Great pancakes', 'Good vegetarian breakfast', 'Friendly service'],\n",
       " ['Wet hay plate', 'Noheat', 'Yellow curry potatoes'],\n",
       " ['Service and conversation',\n",
       "  'Bartenders and their friendliness',\n",
       "  'Bus boys and their attentiveness'],\n",
       " ['Great local gem', 'Body scrub and massage', 'Relaxing Vichy shower'],\n",
       " ['Terrible service', 'Bad food', 'Filtered reviews'],\n",
       " ['Lively ambiance', 'Trendy staff', 'Slow food and drinks'],\n",
       " ['Chipotle', 'Braddah', 'Pig and mango corn salsa'],\n",
       " ['Poor food quality',\n",
       "  'Overpriced strawberries',\n",
       "  'Inadequate supermarket management'],\n",
       " ['Secret pizza after Marquee', 'Worth the wait', 'Jumbo Slice Pizza'],\n",
       " ['Bad service', 'Cold food', 'Unsatisfactory pizza'],\n",
       " ['Waiting in line', 'Sushi quality', 'Price competitiveness'],\n",
       " ['MyFavoriteBar', 'LasVegas', 'DiveBar'],\n",
       " ['Disappointment', 'Family day of pampering', 'Food quality'],\n",
       " ['Irish car bombs', 'Great customer service', 'Delish food'],\n",
       " ['Room key mix up', 'Room upgrade cost', 'Bed bugs in old towers'],\n",
       " ['Gammage scam', 'Wicked lottery', 'Unfair pricing'],\n",
       " ['Excellent show', 'Seamless transitions', 'Engaging audience interaction'],\n",
       " ['Patio experience', 'Barrio Queen', 'Mexican food and service'],\n",
       " ['Offensive review', 'Dishonest service', 'Poor food quality'],\n",
       " ['Addicting salad', 'Friendly staff', 'Baked Rigatony'],\n",
       " ['Green mold in beer',\n",
       "  'Food poisoning from spinach and artichoke dip',\n",
       "  'Health department report'],\n",
       " ['Customer dissatisfaction with test results',\n",
       "  'High cost of tests',\n",
       "  'Lack of communication from the veterinarian'],\n",
       " ['Ambivalent dining experience', 'Awful service', 'Decent food'],\n",
       " ['Interior design', 'Bar and DJ', 'Sound system and quality'],\n",
       " ['average place', 'horrible ribs', 'huge disappointment'],\n",
       " ['Emotional connection to the product',\n",
       "  'Product quality and taste',\n",
       "  'Limited seating availability'],\n",
       " ['Born And Raised', 'Cheers', 'Ahi Salad'],\n",
       " ['Shop owner', 'Staff', 'Selection of labels and styles'],\n",
       " ['Service', 'Food quality', 'Food variety'],\n",
       " ['Overcharged for add ons',\n",
       "  'Salad dressing on the side',\n",
       "  'Not told about extra charges'],\n",
       " ['Garcia', 'Valley', 'Good family memories'],\n",
       " ['Garlic Fries', 'Garlic Breath', 'Worth the Breath'],\n",
       " ['Seiko watch battery replacement',\n",
       "  'JCenny watch repair',\n",
       "  'Donaldson Watches'],\n",
       " ['Customer service', 'Product knowledge', 'Achieving customer satisfaction'],\n",
       " ['Long wait time', 'Overpriced food', 'Unsatisfactory food quality'],\n",
       " ['First Fridays madness',\n",
       "  'Unique items in the shop',\n",
       "  'Cool trinkets in the Phx'],\n",
       " ['Enjoyable atmosphere',\n",
       "  'Decadent Bone Marrow with Oxtail Jam',\n",
       "  'Well prepared Beef Cheek'],\n",
       " ['Racist and stereotypical logo',\n",
       "  'Food not representative of Chinese and Latino cultures',\n",
       "  'Unsatisfactory food quality and taste'],\n",
       " ['Personal feel', 'Inviting ambiance', 'Friendly staff'],\n",
       " ['Buffalo Wings', 'Wings', 'Fantastic Sauce'],\n",
       " ['Wonderful experience', 'Chef Rod', 'Heart of Italy Combination'],\n",
       " ['Freshly pressed fruit drinks', 'Signature cocktail', 'White sangria'],\n",
       " ['Cute sushi spot', 'Service slow', 'Specialty rolls'],\n",
       " ['Flowers delivery date', 'Customer service response', 'Order cancellation'],\n",
       " ['Service', 'Food', 'Comparison to Sunset Oyster Bar'],\n",
       " ['Rude driver', 'Speeds down narrow streets', 'Radio so loud'],\n",
       " ['Roger', 'Great', 'Professional'],\n",
       " ['Decided to come here based on Yelp reviews',\n",
       "  'Classic lunchboxes on the wall',\n",
       "  'Waffle ice cream sandwiches'],\n",
       " ['Long wait for reservations', 'Crab Rangoon Dip', 'CBCLT Burger'],\n",
       " ['Excellent food', 'Affordable prices', 'Great service'],\n",
       " ['Staff', 'Kindness', 'Compassion'],\n",
       " ['Resort fee', 'Steam room', 'Well appointed rooms'],\n",
       " ['Resurfacing rotors instead of replacing',\n",
       "  'Trickery in brake pricing',\n",
       "  'Family deal for back brakes'],\n",
       " ['Chicken fried steak', 'Food poisoning', 'Service'],\n",
       " ['Moroccan vintage ambiance',\n",
       "  'Friendly and helpful bartender',\n",
       "  'Crab bites and salmon burger'],\n",
       " ['Macayos', 'Authentic Mexican food', 'Baja sauce'],\n",
       " ['Food quality', 'Flavor profile', 'Fish sauce'],\n",
       " ['Town Square', 'Iced Coffee', 'Ebony and Jason'],\n",
       " ['Groupon promotion',\n",
       "  'Poor wheel cleaning',\n",
       "  'Unsatisfactory carpet mat cleaning'],\n",
       " ['Time warp banking', 'Free checking', 'Customer service'],\n",
       " ['AWESOME', 'Best part', 'Happy girl'],\n",
       " ['Unattended seating', 'Inadequate menu options', 'Cold food'],\n",
       " ['Hiking safety', 'Appropriate clothing', 'Water supply'],\n",
       " ['Apartment upgrade',\n",
       "  'Leasing office complaints',\n",
       "  'Apartment cleaning process'],\n",
       " ['Live music', 'Stiff drinks', 'Good service'],\n",
       " ['Great buffet option', 'Affordable prices', 'Friendly service'],\n",
       " ['Bread', 'Refrigerate', 'Dakota'],\n",
       " ['Great service', 'Mongolian beef', 'Great food'],\n",
       " ['Chinese food', 'Service', 'Lunch specials'],\n",
       " ['Construction noise', 'Unpleasant experience', 'Customer dissatisfaction'],\n",
       " ['High reviews for ER', 'Care is stellar', 'EDISINENESS'],\n",
       " ['Stag and hen reputation', 'Ales on sale', 'Older gentlemen regulars'],\n",
       " ['Room availability and check in process',\n",
       "  'Upselling and harassment by staff',\n",
       "  'Room quality and cleanliness'],\n",
       " ['Yard clean up', 'Rake and clean river rocks', 'Scheduling and pricing'],\n",
       " ['Temperature issue',\n",
       "  'Language barrier',\n",
       "  'Fast food service dissatisfaction'],\n",
       " ['Allegro', 'Late night eats', 'Gourmet meal options'],\n",
       " ['xtreme dissatisfaction',\n",
       "  'xtreme dissatisfaction',\n",
       "  'xtreme dissatisfaction'],\n",
       " ['Overpriced', 'Good flavor', 'Service'],\n",
       " ['Large portions', 'Prompt service', 'Kind waitress'],\n",
       " ['Rude and condescending customer service',\n",
       "  'Snobby comment about dress location',\n",
       "  'Price comparison with Dillards'],\n",
       " ['Late night snack availability', 'Restaurant decor', 'Service quality'],\n",
       " ['Decent pies and salads',\n",
       "  'Amazing service tableside',\n",
       "  'Halloween candy treat'],\n",
       " ['Emergency pet hospital wait time',\n",
       "  'Dog admission process',\n",
       "  'Patient prioritization'],\n",
       " ['Unmet expectations', 'Dry chicken and waffles', 'Food not worth it'],\n",
       " ['Best Buy', 'TVSection', 'Chelsea'],\n",
       " ['Calamari', 'Tri tip sliders', 'Service'],\n",
       " ['Homemade food', 'Arizona Benedict', 'Good food'],\n",
       " ['Reservation issues', 'Windy conditions', 'Cold interior'],\n",
       " ['Excellent service', 'Modern atmosphere', 'Variety of drink options'],\n",
       " ['Poor customer service',\n",
       "  'Inadequate maintenance',\n",
       "  'Unsatisfactory amenities'],\n",
       " ['Unbelievably bad service', 'Long waiting times', 'Lack of support staff'],\n",
       " ['Chicken sandwich', 'Barf on a bun', 'Customer satisfaction'],\n",
       " ['Caesar salad', 'Fries with truffles', 'Cajun meat sandwich'],\n",
       " ['Deli experience', 'Meat selection', 'Customer service'],\n",
       " ['Seafood buffet', 'High quality dishes', 'Service and ambiance'],\n",
       " ['Cheddar cheese', 'NOT Mexican', 'Cheese'],\n",
       " ['Carte Blanche', 'Montreal', 'Inventive cuisine'],\n",
       " ['Sports bar', 'Service', 'Drinks'],\n",
       " ['Jewelry Resale Experience',\n",
       "  'Customer Service',\n",
       "  'Fair Pricing and Trade In Policy'],\n",
       " ['Customer satisfaction', 'Central location', 'Return to location'],\n",
       " ['Amazing bartenders',\n",
       "  'Personalized service',\n",
       "  'Must visit multiple times for accurate review'],\n",
       " ['Great atmosphere', 'horrible service', 'wrong meals'],\n",
       " ['Smash fries', 'Tasty burgers', 'Fast food expectations'],\n",
       " ['Excellent customer service',\n",
       "  'High quality music',\n",
       "  'Memorable birthday celebration'],\n",
       " ['Horrible service', 'Horrible food', 'Undercooked seafood pasta'],\n",
       " ['Thai food', 'Take out', 'Customer satisfaction'],\n",
       " ['Customer dissatisfaction with security measures',\n",
       "  'Theft of money',\n",
       "  'Lack of communication from security personnel'],\n",
       " ['Friendliness and helpful nature of the driver',\n",
       "  'Timely arrival of the shuttle',\n",
       "  'Inept company and disorganized driver'],\n",
       " ['Art project', 'Charming and beaming CMU students', 'Art promotion'],\n",
       " ['Excellent everything',\n",
       "  'Classic family run Greek restaurant',\n",
       "  'Home made everything'],\n",
       " ['Bachelorette party', 'Room decor', 'Pool facilities'],\n",
       " ['Outdoor seating', 'Quiet atmosphere', 'Variety of wings'],\n",
       " ['Poor customer service', 'Long waiting time', 'Incorrect orders'],\n",
       " ['Affordable buffet', 'Breakfast offerings', 'Meals at the buffet'],\n",
       " ['Food quality', 'Cleanliness', 'Service'],\n",
       " ['Carefree weekend', 'Room quality', 'Cockroach incident'],\n",
       " ['subtractpoliticspoliticspoliticspoliticspoliticspoliticspoliticspoliticspolitics',\n",
       "  'subtractpoliticspoliticspoliticspoliticspoliticspoliticspoliticspoliticspolitics',\n",
       "  'subtractpoliticspoliticspoliticspoliticspoliticspoliticspoliticspoliticspolitics'],\n",
       " ['Groupon', 'Anniversary', 'Salad bar'],\n",
       " ['Quality of food', 'Rice', 'Chicken BBQ stick'],\n",
       " ['Unfriendly staff', 'Rude comments', 'Overpriced services'],\n",
       " ['Denny', 'Breakfast buffet', 'Overpriced'],\n",
       " ['poor customer service', 'unsatisfactory food quality', 'negative reviews'],\n",
       " ['Girls in uniform', 'Hamburgers', 'Beer selection'],\n",
       " ['Rude people at the airport',\n",
       "  'Insolent gate staff',\n",
       "  'Unimpressive atmosphere with gambling'],\n",
       " ['Staff Discrimination', 'Hostess Insults', 'Server Disrespect'],\n",
       " ['Super filling', 'Not a fan of the hummus', 'Awesome'],\n",
       " ['Movie theater', 'Casino', 'Central location'],\n",
       " ['Poor service', 'Disengaged wait staff', 'Dismissive wine description'],\n",
       " ['Line at the restaurant', 'Food quality', 'Atmosphere'],\n",
       " ['Horrible', 'Stay Away', 'Deceiving Looks'],\n",
       " ['NYstyle gourmet market', 'Random gifts', 'Amazing bakery'],\n",
       " ['Lighting', 'DJing', 'Club atmosphere'],\n",
       " ['Disappointed with Gordon Ramsey',\n",
       "  'Poor food quality',\n",
       "  'Unsatisfactory wait time'],\n",
       " ['Burger quality', 'Food temperature', 'Service quality'],\n",
       " ['Food quality', 'Service quality', 'Atmosphere'],\n",
       " ['Hotel quality', 'Room cleanliness', 'Rental car suggestion'],\n",
       " ['Atmosphere', 'Food', 'Service'],\n",
       " ['Family friendly', 'Suites', 'Great deal for the price'],\n",
       " ['Superficial membership', 'Customer service', 'Inventory'],\n",
       " ['Expensive for what you get',\n",
       "  'Hounds you to death',\n",
       "  'Meat is the main focus'],\n",
       " ['subtractpoliticspoliticspoliticspoliticspoliticspoliticspoliticspoliticspolitics',\n",
       "  'subtractpoliticspoliticspoliticspoliticspoliticspoliticspoliticspoliticspolitics',\n",
       "  'subtractpoliticspoliticspoliticspoliticspoliticspoliticspoliticspoliticspolitics'],\n",
       " ['Double quarter pounder with cheese',\n",
       "  'Double cheeseburger with extra onions',\n",
       "  'Charged for double cheeseburger without bag'],\n",
       " ['Cheap motel', 'Noisy environment', 'Uncomfortable temperature'],\n",
       " ['Los Dos', 'Machaca', 'Service'],\n",
       " ['pickup time', 'car availability', 'last minute notification'],\n",
       " ['Unsatisfactory customer service', 'Poor security', 'Boring atmosphere'],\n",
       " ['Full menu in lounge area',\n",
       "  'Lobster Tacos',\n",
       "  'Ahi Tuna with sauteed Asparagus'],\n",
       " ['Poor customer service',\n",
       "  'Unauthorized pets',\n",
       "  'High rent and additional fees'],\n",
       " ['Food quality', 'Service experience', 'Ambience and decor'],\n",
       " ['Friends card', 'Online registration', 'Maximize savings'],\n",
       " ['Empty place', 'Long wait', 'Terrible service'],\n",
       " ['Customer service at Bluegreen', 'Unused points', 'Lack of communication'],\n",
       " ['Unhealthy and blah taste', 'Small toppings', 'Weak sauce'],\n",
       " ['Poorly managed', 'Incompetent wait staff', 'Never come back'],\n",
       " ['Quick and cheap meal',\n",
       "  'Enjoyable orange chicken',\n",
       "  'Unenjoyable teriyaki chicken'],\n",
       " ['Excellent food', 'Reasonable prices', 'Outstanding service'],\n",
       " ['Unfair contract terms',\n",
       "  'Poor customer service',\n",
       "  'Inadequate product quality'],\n",
       " ['Best little secret', 'Great lunch', 'Elevates work day lunch'],\n",
       " ['Authenticity of Chinese restaurant',\n",
       "  'Main course rice',\n",
       "  'Price per person'],\n",
       " ['Slow drive thru',\n",
       "  'Order wrong',\n",
       "  'Terrible speaker at drive through order board'],\n",
       " ['Cold Stone Creamery dissatisfaction',\n",
       "  'Portion size issue',\n",
       "  'Unresponsive management'],\n",
       " ['Unique thin crust', 'Cheap price', 'Great find'],\n",
       " ['Excellent accommodations', 'Price', 'Check in process'],\n",
       " ['Great place', 'Atmosphere', 'Price'],\n",
       " ['Costco employee behavior',\n",
       "  'Costco membership rules',\n",
       "  'Customer service dissatisfaction'],\n",
       " ['Pizza quality', 'Salad quality', 'Service quality'],\n",
       " ['HHs pricing discrepancy',\n",
       "  'Unsatisfactory food quality',\n",
       "  'Unmet expectations'],\n",
       " ['Chicken Angelo', 'Mushroom', 'Artichoke'],\n",
       " ['Good restaurants',\n",
       "  'Service is always good',\n",
       "  'Clean rooms and comfortable beds'],\n",
       " ['Tree purchase', 'Spider mites', 'Customer dissatisfaction'],\n",
       " ['Unprofessional behavior of bartender',\n",
       "  'Rude and discriminatory comments',\n",
       "  'Negative impact on customer satisfaction'],\n",
       " ['Yardhouse', 'Beer', 'Delicious Innovated Foods'],\n",
       " ['Super attentive owner and staff',\n",
       "  'Fresh and flavorful sushi',\n",
       "  'Great location close to home'],\n",
       " ['Water pricing', 'Customer satisfaction', 'Not Starbucks fault'],\n",
       " ['Food quality', 'Service quality', 'Margaritas'],\n",
       " ['Comped drinks', 'Slow service', 'Meh experience'],\n",
       " ['Friendly atmosphere', 'Well organized menu', 'Fresh crepes'],\n",
       " ['customer satisfaction', 'positive feedback', 'excellent service'],\n",
       " ['Scuba shop', 'New scuba shop', 'Scuba diving experience'],\n",
       " ['Customer dissatisfaction with show quality',\n",
       "  'Unsatisfactory seating arrangement',\n",
       "  'Lack of passion in performer'],\n",
       " ['Customer dissatisfaction with haircut quality',\n",
       "  'Business practice of answering phone during haircut',\n",
       "  'Switching to a different salon for better service'],\n",
       " ['Great place', 'Large old house', 'Nice breakfasts'],\n",
       " ['Apartment Maintenance Issues',\n",
       "  'Ceiling Leak and Mold',\n",
       "  'Unresponsive Management'],\n",
       " ['Vegetarian pizza', 'Nutty fudge sundae', 'Yummmmmmmm'],\n",
       " ['Best place for Mexican food', 'Pork tacos', 'Nachos'],\n",
       " ['Wonderful place downtown',\n",
       "  'True Brave Souls',\n",
       "  'Great restaurant with conversation'],\n",
       " ['Cheap', 'Slow service', 'Bottom line'],\n",
       " ['Food quality control', 'Temperature of food', 'Customer satisfaction'],\n",
       " ['Olive Garden', 'Fettucini Alfredo', 'Breadsticks'],\n",
       " ['Scammed with private trainer sessions',\n",
       "  'Lack of training',\n",
       "  'Dirty and crowded sessions'],\n",
       " ['Poorly run Halloween contest',\n",
       "  'Inadequate customer service',\n",
       "  'Hostile attitude towards customers'],\n",
       " ['Food quality', 'Variety of dishes', 'Service'],\n",
       " ['Group happy hour spot',\n",
       "  'Sports bar fun',\n",
       "  'Good service and friendly staff'],\n",
       " ['Professionalism and budget management',\n",
       "  'Customized solutions',\n",
       "  'High standards and quality work'],\n",
       " ['Spacious and clean rooms', 'Comfortable beds', 'Perfect location'],\n",
       " ['Vietnamese restaurant', 'Roll', 'Pho'],\n",
       " ['Food', 'Service', 'Facility'],\n",
       " ['Jason Reuben sandwich', 'Service slow', 'Food quality atrocious'],\n",
       " ['BEST steakhouse', 'Filet', 'Family'],\n",
       " ['Crab legs', 'Disappointed with everything', 'Abrasive wait staff'],\n",
       " ['Poor service', 'Slow service', 'Incorrect orders'],\n",
       " ['Best Deal in Town', 'Jordan', 'HDTV'],\n",
       " ['Customer service', 'Quality', 'Optometrist'],\n",
       " ['Unwanted experience', 'Poor food quality', 'Average service'],\n",
       " ['Delicious coffee', 'Ahi sliders', 'Sesame crusted'],\n",
       " ['Late closing time', 'Unclear communication', 'Empty club'],\n",
       " ['Fantastic restaurant', 'Fernando was awesome', 'Cabo Flip Margaritas'],\n",
       " ['Harbor Freight store', 'Chinese crap tools', 'Service side'],\n",
       " ['Family friendly attractions in Vegas',\n",
       "  'Frozen Hot Chocolate',\n",
       "  'Food and drink options at Serendipity'],\n",
       " ['Customer satisfaction with grooming services',\n",
       "  'Importance of detailed report cards',\n",
       "  'Recommendation for other pet owners'],\n",
       " ['Customer dissatisfaction with food quality',\n",
       "  'Inconsistency in food preparation',\n",
       "  'Over dressing of salads'],\n",
       " ['Poor patient experience', 'Lack of medical staff', 'High medical costs'],\n",
       " ['Delicioso', 'Andale mi amgos', 'Delicioso'],\n",
       " ['Disgusting food', 'Expensive price', 'Good service'],\n",
       " ['Excellent place for shopping and dining at the miracle mile',\n",
       "  'Located towards the middle of the strip for easy access',\n",
       "  'Planet Hollywood Towers is not Mandalay Bay or Wynn'],\n",
       " ['DUMP', 'SUCKS', 'GROSS'],\n",
       " ['Arcadia Farms', 'Wedding dress fitting', 'Unsatisfactory service'],\n",
       " ['Liberty Diner', 'Food quality', 'Market comparison'],\n",
       " ['Freshness of food', 'Friendliness of staff', 'Service quality'],\n",
       " ['Expensive', 'Cleanliness', 'Customer Satisfaction'],\n",
       " ['Happy Hour', 'Excellent food', 'Excellent prices'],\n",
       " ['Top end kitchen stores', 'Made in China', 'High quality cooking toys'],\n",
       " ['Waiter service', 'Menu availability', 'Food quality'],\n",
       " ['Super spicy', 'Great friendly', 'Fast service'],\n",
       " ['Menu items', 'Quality of food', 'Service'],\n",
       " ['Food quality and variety',\n",
       "  'Customer service and satisfaction',\n",
       "  'Buffet management and organization'],\n",
       " ['Johnny Rockets location', 'Long wait time', 'Good food'],\n",
       " ['Bartender rudeness',\n",
       "  'Negative impact on family',\n",
       "  'Negative impact on business reputation'],\n",
       " ['Good time', 'Party of eight', 'Sushi chef'],\n",
       " ['Spirit Airlines baggage policy',\n",
       "  'Spirit Airlines fees and charges',\n",
       "  'Spirit Airlines MasterCard policy'],\n",
       " ['Excellent food quality',\n",
       "  'Great recommendations from the waiter',\n",
       "  'Buy one get one free coupon for lunch'],\n",
       " ['Wait time', 'Food quality', 'Patty flavor'],\n",
       " ['Tapas', 'Excellent service', 'Duck confit in filo dough'],\n",
       " ['Classic brunch food', 'Service slow', 'Pancakes size variation'],\n",
       " ['Vietnamese food', 'Pho', 'Good food'],\n",
       " ['Unimpressed with food quality',\n",
       "  'Drinks not brought out first',\n",
       "  'High prices for sandwiches'],\n",
       " ['Espresso Royale', 'Near campus', 'Friendly staff'],\n",
       " ['customer satisfaction', 'zebra man', 'fun'],\n",
       " ['Great service', 'Fajita quesadilla', 'Gigantic margaritas'],\n",
       " ['Expensive', 'Beautiful setting', 'Great experience'],\n",
       " ['Excellent pitas', 'Gyro', 'Highly recommend'],\n",
       " ['Location', 'Beer selection', 'Staff behavior'],\n",
       " ['Excellent service', 'Spring roll', 'Pho'],\n",
       " ['Best black and tans',\n",
       "  'Dim and cool atmosphere',\n",
       "  'Great place to meet friends and go to a game'],\n",
       " ['Terrible seating', 'Uncomfortable seats', 'Overcrowded theater'],\n",
       " ['Great diner', 'Hefty portions', 'Satisfaction'],\n",
       " ['Cracker Barrel customer service',\n",
       "  'Country Boy Breakfast',\n",
       "  'French toast special'],\n",
       " ['Best Sashimi and Sushi', 'Excellent Service', 'Warm Neighborhood Setting'],\n",
       " ['Party location', 'Service at the bar', 'Patio seating'],\n",
       " ['Overpriced tacos', 'Poorly cut lettuce', 'Unfriendly staff'],\n",
       " ['Honda repair', 'Fair and honest', 'Saturday availability'],\n",
       " ['Poor service', 'Unsatisfactory food', 'Issues with groupon'],\n",
       " ['Small place charm', 'Large disappointment', 'Customer satisfaction'],\n",
       " ['Mint Museum', 'Decor', 'Service'],\n",
       " ['Poor food quality', 'Unpleasant customer service', 'Delivery issues'],\n",
       " ['Haircut and style', 'Excitement and satisfaction', 'Service and pricing'],\n",
       " ['Mexican food place', 'Fries', 'Menu rethinking'],\n",
       " ['Horrible customer service',\n",
       "  'Forced to buy a drink',\n",
       "  'Wrong order and rude service'],\n",
       " ['Knowledgeable staff', 'Fantastic food', 'Enjoyable dining experience'],\n",
       " ['Service', 'Food', 'Communication'],\n",
       " ['Blow dry service', 'Stylist experience', 'Customer satisfaction'],\n",
       " ['Pizza quality', 'Price', 'Value for money'],\n",
       " ['Customer satisfaction', 'Dissatisfaction', 'Closure'],\n",
       " ['Great service', 'Pick up on the way home', 'Smores pizza'],\n",
       " ['Best juice', 'Wellness Drink', 'Perfect proportions'],\n",
       " ['Doughnut availability', 'Classic glaze availability', 'Management'],\n",
       " ['Great new spot', 'Central Scottsdale', 'Good Mexican food'],\n",
       " ['Wonderful experience',\n",
       "  'Friendly and helpful staff',\n",
       "  'High quality food presentation'],\n",
       " ['Pizza quality', 'Atmosphere', 'Nutritional guides'],\n",
       " ['Better parking at Paragon',\n",
       "  'Convenient parking location',\n",
       "  'Day After Christmas sale'],\n",
       " ['Food and Beers', 'Happy Hour', 'Great Place to Hangout'],\n",
       " ['Best Mediterranean restaurant', 'Kebabs', 'Madison'],\n",
       " ['Poor food quality', 'Lack of effort in preparation', 'Unpleasant ambiance'],\n",
       " ['Bed delivery delay', 'Unresponsive customer service', 'Bed not received'],\n",
       " ['Unsatisfactory food quality',\n",
       "  'Unsatisfactory service',\n",
       "  'Unsatisfactory value for money'],\n",
       " ['Carolina style sauces',\n",
       "  'Great beer selection',\n",
       "  'Hush puppies addicting and delicious'],\n",
       " ['Nostrano for lunch', 'Decor', 'Affogato'],\n",
       " ['Poor service', 'Nasty food', 'Hellish wait'],\n",
       " ['Unattentive server', 'Ignored customers', 'Poor customer service'],\n",
       " ['Poor customer service', 'Asian employees', 'Delayed service'],\n",
       " ['Good experience', 'Gas charge', 'Refund'],\n",
       " ['GameStop', 'Customer satisfaction', 'Good manager'],\n",
       " ['First time experience', 'Not good', 'Disappointment'],\n",
       " ['xtracts', 'xtracts', 'xtracts'],\n",
       " ['Delicious Mexican food', 'Lunch specials', 'Traditional Mexican food'],\n",
       " ['Subaru', 'Service', 'Loaner'],\n",
       " ['Friendly server', 'Amazing food', 'Busy spot'],\n",
       " ['Greasy Pit', 'Heart Disease', 'Taco Grease'],\n",
       " ['Car wash employee', 'Car maintenance', 'Customer satisfaction'],\n",
       " ['Great club experience',\n",
       "  'Longest wait for us at a club',\n",
       "  'Tao Beach is awesome'],\n",
       " ['Burger joint', 'Smashburger', 'Sauce options'],\n",
       " ['Poor maintenance',\n",
       "  'Cleanliness issues',\n",
       "  'Unsatisfactory customer experience'],\n",
       " ['Great in house made donuts',\n",
       "  'Good prices too',\n",
       "  'Highly recommend the original'],\n",
       " ['Great food', 'Combo value', 'Affordable prices'],\n",
       " ['buffet price', 'service', 'food variety'],\n",
       " ['Fries', 'Well done', 'Awesome'],\n",
       " ['BBQ pork and duck v roasted', 'Amazing rice dishes', 'Great Value'],\n",
       " ['Joe', 'Casual dining experience', 'Inconsistency in barbecue quality'],\n",
       " ['Great place for a retreat',\n",
       "  'Meditation and Spiritual cleansing',\n",
       "  'Terrific grounds and facilities'],\n",
       " ['Overpriced', 'Very slow service', 'Food was decent'],\n",
       " ['Earl of Sandwich location and parking',\n",
       "  'Favorite sandwich and praise for sauce',\n",
       "  'Price and value for money in Vegas']]"
      ]
     },
     "execution_count": 8,
     "metadata": {},
     "output_type": "execute_result"
    }
   ],
   "source": [
    "topics"
   ]
  },
  {
   "cell_type": "code",
   "execution_count": 9,
   "id": "154ea78e-9d04-43cf-90f9-113ccdae181b",
   "metadata": {},
   "outputs": [],
   "source": [
    "from guidance import models, system, user, assistant, gen, select\n",
    "llm = models.LlamaCppChat(\"../models/dolphin-2_6-phi-2.Q4_K_M.gguf\", n_gpu_layers=-1, n_threads=8, n_threads_batch=8, n_ctx=2048, chat_format=\"chatml\", echo=False)\n",
    "\n",
    "with system():\n",
    "    llm += \"Your are a helpful assistant.\""
   ]
  },
  {
   "cell_type": "code",
   "execution_count": 10,
   "id": "6321f05b-0080-4295-bb42-dc47b070a0b9",
   "metadata": {},
   "outputs": [],
   "source": [
    "from sentence_transformers import SentenceTransformer\n",
    "model = SentenceTransformer(\"all-MiniLM-L6-v2\")"
   ]
  },
  {
   "cell_type": "code",
   "execution_count": 28,
   "id": "b5891918-226e-4b57-b72a-4d91205e4dc6",
   "metadata": {},
   "outputs": [
    {
     "data": {
      "text/plain": [
       "[['GREAT food',\n",
       "  'Solid service',\n",
       "  'Would almost come here without a reason to travel'],\n",
       " ['Terrible service', 'Rude employees', 'Out of ingredients and bread issues'],\n",
       " ['Unhelpful and rude cash register manager',\n",
       "  'Friendly sales associate',\n",
       "  'Comparison to other retail stores'],\n",
       " ['Beer selection', 'Burger quality', 'Cocktail menu'],\n",
       " ['Fantasy tower remodel', 'Toilet quality', 'Mattress quality'],\n",
       " ['Construction issues',\n",
       "  'Room reservation problems',\n",
       "  'Customer service dissatisfaction'],\n",
       " ['Excellent staff', 'New York Style pizza', 'Match made in heaven'],\n",
       " ['Discount', 'Friendly staff', 'Tire rotation'],\n",
       " ['Arizona Car Wash Co', 'friendly people', 'thorough cleaning'],\n",
       " ['Friendly service', 'Incredible food', 'Tamales'],\n",
       " ['Seabass', 'Decent', 'Not recommended'],\n",
       " ['Table reservation confusion',\n",
       "  'VIP table experience',\n",
       "  'Excellent service and attention to detail'],\n",
       " ['Michael', 'Modern Nails', 'Amazing fill in'],\n",
       " ['Goat cheese stuffed Peppadews', 'Malbec burger', 'Chocolate cake'],\n",
       " ['Disappointment with appearance',\n",
       "  'Overcrowded and packed',\n",
       "  'Decent chefs and food quality'],\n",
       " ['Spring rolls', 'Beef caldereta', 'Dinuguan'],\n",
       " ['Terrible seasoning', 'Same taste', 'Refund request'],\n",
       " ['Best value in Vegas', 'Great staff', 'Perfect bed'],\n",
       " ['Christmas Show dissatisfaction',\n",
       "  'Unimaginative narration',\n",
       "  'Nonstop music and nonstop activities'],\n",
       " ['Awful service', 'Dirty tables', 'Long waiting time'],\n",
       " ['Guest services', 'Parking situation', 'Hotel management'],\n",
       " ['Excellent food', 'Great service', 'Very friendly chef'],\n",
       " ['Great experience',\n",
       "  'Patricia had a great experience',\n",
       "  'Party downstairs disrupted sleep'],\n",
       " ['Glass Nickel restaurant', 'Late night delivery', 'Middleton area'],\n",
       " ['Love this place', 'Amazing shows', 'Service is second to none'],\n",
       " ['Hot dog', 'Great Depression', 'Costly ingredients'],\n",
       " ['Store meetings', 'Product recall', 'Rude salesperson'],\n",
       " ['Customer Retention', 'Oligopoly of Cox Cable', 'Live Person Interaction'],\n",
       " ['Fly in soy', 'Unapologetic waitress', 'Noisy bill'],\n",
       " ['Pumpkin Soup', 'Spicy', 'Tech Conference'],\n",
       " ['Food quality', 'Service experience', 'Tip expectations'],\n",
       " ['Bike Shop Customer Service', 'Shipping Costs', 'Bike Shop Quality'],\n",
       " ['High prices', 'Comparison to other stores', 'Pillow quality'],\n",
       " ['Cajun food', 'Rooftop dining', 'Live jazz'],\n",
       " ['Poor customer service', 'Long wait times', 'Incorrect order'],\n",
       " ['Thalis', 'Variety', 'Rice dishes'],\n",
       " ['Customer service', 'Clothes', 'Store'],\n",
       " ['Disgusted with service', 'Long wait times', 'Unsatisfactory venue'],\n",
       " ['Bad fish taste', 'Soggy texture', 'Unsatisfactory delivery order'],\n",
       " ['Bank account monitoring', 'Slow service', 'Police involvement'],\n",
       " ['Sin City heaven', 'Pan Roast', 'Happy hour'],\n",
       " ['Popped popcorn store', 'Variety of flavors', 'Nitrogen Freezing option'],\n",
       " ['Plating', 'Food', 'Restaurant'],\n",
       " ['Customer satisfaction', 'Atmosphere', 'Security issues'],\n",
       " ['Customer satisfaction', 'Property value', 'Customer service'],\n",
       " ['Exceptional service', 'Delicious food', 'High prices'],\n",
       " ['Long wait time', 'Rude waitress', 'Lack of customer respect'],\n",
       " ['Customer satisfaction', 'Great care for dogs', 'Caring and kind doctors'],\n",
       " ['Sour dough culture', 'Farm to table ingredients', 'Porchetta sandwich'],\n",
       " ['Outdoor seating', 'Live music', 'PNC ball game'],\n",
       " ['Ambiance', 'Service', 'Food'],\n",
       " ['Fredericks of Hollywood', 'Fashion Show Mall', 'Lingerie selection'],\n",
       " ['Service', 'Connectivity', 'Customer Support'],\n",
       " ['Good food', 'Excellent service', 'Local flavor'],\n",
       " ['Food quality', 'Service', 'Discrimination'],\n",
       " ['INCREDIBLY MINDBLOWINGL', 'LOUD', 'RENT'],\n",
       " ['Food quality', 'Order accuracy', 'Customer satisfaction'],\n",
       " ['Japanese buffet',\n",
       "  'Better than other one',\n",
       "  'Snow crag legs and fish varieties'],\n",
       " ['Great place for breakfast',\n",
       "  'Not your typical bacon and eggs',\n",
       "  'Borderline special'],\n",
       " ['Funny show', 'People not plants', 'Quality of the show'],\n",
       " ['Epic Columbus Day weekend',\n",
       "  'Party coordination',\n",
       "  'Clubbing experience in Vegas'],\n",
       " ['Awful', 'DoNotEatHere', 'LobsterBisque'],\n",
       " ['Fantastic place', 'Great prices', 'Good service'],\n",
       " ['Bad feeling', 'Horrible service', 'Food was horrible'],\n",
       " ['Falafel undercooked',\n",
       "  'Unappetizing cheese on greek fries',\n",
       "  'Better options for greek food'],\n",
       " ['Homemade tortillas', 'Best salad', 'Pork Barbacoa Salad'],\n",
       " ['Draft beer', 'Bartenders', 'Cheers atmosphere'],\n",
       " ['Mexican food', 'Best burritos', 'Service and people'],\n",
       " ['Excellent food', 'Bland dal', 'Iced chai'],\n",
       " ['Good service', 'Great food', 'Excellent care for daughter'],\n",
       " ['Poor service', 'Rude owner', 'Subpar buffet'],\n",
       " ['Food quality', 'Service', 'Price'],\n",
       " ['Best Italian sub', 'Great portions', 'Affordable price'],\n",
       " ['Food quality', 'Customer experience', 'Recommendation'],\n",
       " ['inconsistent pricing',\n",
       "  'poor service at the bar',\n",
       "  'lack of appreciation for customers'],\n",
       " ['Cobia and Cioppino', 'Oyster sampler', 'California roll'],\n",
       " ['Dim sum', 'Worst', 'Food quality'],\n",
       " ['Crowded restaurant', 'Rushed server', 'Unhealthy food'],\n",
       " ['Great place', 'Excellent wine list', 'Oyster issue'],\n",
       " ['Slow service', 'Non attentive service', 'Rude server'],\n",
       " ['Diamond Appraisal', 'Unfamiliar Office Space', 'Unanswered Appointment'],\n",
       " ['Great service', 'Solid food', 'Best Chinese food in Charlotte'],\n",
       " ['EAT', 'EAT', 'EAT'],\n",
       " ['Poor quality meats', 'Overpriced', 'Not going back'],\n",
       " ['worst experience ever', 'salsa spoiled', 'food poisoning'],\n",
       " ['Dim sum quality', 'Spareribs', 'Pork dumplings'],\n",
       " ['Omelet', 'Butter', 'Service'],\n",
       " ['Excellent sushi flavors',\n",
       "  'Fresh Mongolian Chicken',\n",
       "  'Hip and trendy atmosphere'],\n",
       " ['Customer dissatisfaction', 'Product quality', 'Value for money'],\n",
       " ['Terrible chicken', 'Soggy and wrong', 'Scratched off list'],\n",
       " ['Authentic French bistro', 'Fresh baguette', 'Caprese sandwich'],\n",
       " ['Great happy hour specials',\n",
       "  'Summer special',\n",
       "  'Free chocolate or cheese fondue'],\n",
       " ['Perfect Nails', 'Happy with pricing', 'Relatively fast'],\n",
       " ['Poor service at Round Corner', 'Long wait times', 'Missed waitress'],\n",
       " ['Excellent food quality', 'Attentive staff', 'Affordable prices'],\n",
       " ['Excellent customer service',\n",
       "  'High quality products',\n",
       "  'Cleanliness and friendliness'],\n",
       " ['Poorly cooked lobster', 'Dorm lounge', 'Red Sox pennants'],\n",
       " ['Relaxing environment', 'Personal jacuzzi', 'Absorbed lotion and oil'],\n",
       " ['Reliant Capitol', 'Unlisted', 'Earn my business'],\n",
       " ['Great pancakes', 'Good vegetarian breakfast', 'Friendly service'],\n",
       " ['Wet hay plate', 'Noheat', 'Yellow curry potatoes'],\n",
       " ['Service and conversation',\n",
       "  'Bartenders and their friendliness',\n",
       "  'Bus boys and their attentiveness'],\n",
       " ['Great local gem', 'Body scrub and massage', 'Relaxing Vichy shower'],\n",
       " ['Terrible service', 'Bad food', 'Filtered reviews'],\n",
       " ['Lively ambiance', 'Trendy staff', 'Slow food and drinks'],\n",
       " ['Chipotle', 'Braddah', 'Pig and mango corn salsa'],\n",
       " ['Poor food quality',\n",
       "  'Overpriced strawberries',\n",
       "  'Inadequate supermarket management'],\n",
       " ['Secret pizza after Marquee', 'Worth the wait', 'Jumbo Slice Pizza'],\n",
       " ['Bad service', 'Cold food', 'Unsatisfactory pizza'],\n",
       " ['Waiting in line', 'Sushi quality', 'Price competitiveness'],\n",
       " ['MyFavoriteBar', 'LasVegas', 'DiveBar'],\n",
       " ['Disappointment', 'Family day of pampering', 'Food quality'],\n",
       " ['Irish car bombs', 'Great customer service', 'Delish food'],\n",
       " ['Room key mix up', 'Room upgrade cost', 'Bed bugs in old towers'],\n",
       " ['Gammage scam', 'Wicked lottery', 'Unfair pricing'],\n",
       " ['Excellent show', 'Seamless transitions', 'Engaging audience interaction'],\n",
       " ['Patio experience', 'Barrio Queen', 'Mexican food and service'],\n",
       " ['Offensive review', 'Dishonest service', 'Poor food quality'],\n",
       " ['Addicting salad', 'Friendly staff', 'Baked Rigatony'],\n",
       " ['Green mold in beer',\n",
       "  'Food poisoning from spinach and artichoke dip',\n",
       "  'Health department report'],\n",
       " ['Customer dissatisfaction with test results',\n",
       "  'High cost of tests',\n",
       "  'Lack of communication from the veterinarian'],\n",
       " ['Ambivalent dining experience', 'Awful service', 'Decent food'],\n",
       " ['Interior design', 'Bar and DJ', 'Sound system and quality'],\n",
       " ['average place', 'horrible ribs', 'huge disappointment'],\n",
       " ['Emotional connection to the product',\n",
       "  'Product quality and taste',\n",
       "  'Limited seating availability'],\n",
       " ['Born And Raised', 'Cheers', 'Ahi Salad'],\n",
       " ['Shop owner', 'Staff', 'Selection of labels and styles'],\n",
       " ['Service', 'Food quality', 'Food variety'],\n",
       " ['Overcharged for add ons',\n",
       "  'Salad dressing on the side',\n",
       "  'Not told about extra charges'],\n",
       " ['Garcia', 'Valley', 'Good family memories'],\n",
       " ['Garlic Fries', 'Garlic Breath', 'Worth the Breath'],\n",
       " ['Seiko watch battery replacement',\n",
       "  'JCenny watch repair',\n",
       "  'Donaldson Watches'],\n",
       " ['Customer service', 'Product knowledge', 'Achieving customer satisfaction'],\n",
       " ['Long wait time', 'Overpriced food', 'Unsatisfactory food quality'],\n",
       " ['First Fridays madness',\n",
       "  'Unique items in the shop',\n",
       "  'Cool trinkets in the Phx'],\n",
       " ['Enjoyable atmosphere',\n",
       "  'Decadent Bone Marrow with Oxtail Jam',\n",
       "  'Well prepared Beef Cheek'],\n",
       " ['Racist and stereotypical logo',\n",
       "  'Food not representative of Chinese and Latino cultures',\n",
       "  'Unsatisfactory food quality and taste'],\n",
       " ['Personal feel', 'Inviting ambiance', 'Friendly staff'],\n",
       " ['Buffalo Wings', 'Wings', 'Fantastic Sauce'],\n",
       " ['Wonderful experience', 'Chef Rod', 'Heart of Italy Combination'],\n",
       " ['Freshly pressed fruit drinks', 'Signature cocktail', 'White sangria'],\n",
       " ['Cute sushi spot', 'Service slow', 'Specialty rolls'],\n",
       " ['Flowers delivery date', 'Customer service response', 'Order cancellation'],\n",
       " ['Service', 'Food', 'Comparison to Sunset Oyster Bar'],\n",
       " ['Rude driver', 'Speeds down narrow streets', 'Radio so loud'],\n",
       " ['Roger', 'Great', 'Professional'],\n",
       " ['Decided to come here based on Yelp reviews',\n",
       "  'Classic lunchboxes on the wall',\n",
       "  'Waffle ice cream sandwiches'],\n",
       " ['Long wait for reservations', 'Crab Rangoon Dip', 'CBCLT Burger'],\n",
       " ['Excellent food', 'Affordable prices', 'Great service'],\n",
       " ['Staff', 'Kindness', 'Compassion'],\n",
       " ['Resort fee', 'Steam room', 'Well appointed rooms'],\n",
       " ['Resurfacing rotors instead of replacing',\n",
       "  'Trickery in brake pricing',\n",
       "  'Family deal for back brakes'],\n",
       " ['Chicken fried steak', 'Food poisoning', 'Service'],\n",
       " ['Moroccan vintage ambiance',\n",
       "  'Friendly and helpful bartender',\n",
       "  'Crab bites and salmon burger'],\n",
       " ['Macayos', 'Authentic Mexican food', 'Baja sauce'],\n",
       " ['Food quality', 'Flavor profile', 'Fish sauce'],\n",
       " ['Town Square', 'Iced Coffee', 'Ebony and Jason'],\n",
       " ['Groupon promotion',\n",
       "  'Poor wheel cleaning',\n",
       "  'Unsatisfactory carpet mat cleaning'],\n",
       " ['Time warp banking', 'Free checking', 'Customer service'],\n",
       " ['AWESOME', 'Best part', 'Happy girl'],\n",
       " ['Unattended seating', 'Inadequate menu options', 'Cold food'],\n",
       " ['Hiking safety', 'Appropriate clothing', 'Water supply'],\n",
       " ['Apartment upgrade',\n",
       "  'Leasing office complaints',\n",
       "  'Apartment cleaning process'],\n",
       " ['Live music', 'Stiff drinks', 'Good service'],\n",
       " ['Great buffet option', 'Affordable prices', 'Friendly service'],\n",
       " ['Bread', 'Refrigerate', 'Dakota'],\n",
       " ['Great service', 'Mongolian beef', 'Great food'],\n",
       " ['Chinese food', 'Service', 'Lunch specials'],\n",
       " ['Construction noise', 'Unpleasant experience', 'Customer dissatisfaction'],\n",
       " ['High reviews for ER', 'Care is stellar', 'EDISINENESS'],\n",
       " ['Stag and hen reputation', 'Ales on sale', 'Older gentlemen regulars'],\n",
       " ['Room availability and check in process',\n",
       "  'Upselling and harassment by staff',\n",
       "  'Room quality and cleanliness'],\n",
       " ['Yard clean up', 'Rake and clean river rocks', 'Scheduling and pricing'],\n",
       " ['Temperature issue',\n",
       "  'Language barrier',\n",
       "  'Fast food service dissatisfaction'],\n",
       " ['Allegro', 'Late night eats', 'Gourmet meal options'],\n",
       " ['xtreme dissatisfaction',\n",
       "  'xtreme dissatisfaction',\n",
       "  'xtreme dissatisfaction'],\n",
       " ['Overpriced', 'Good flavor', 'Service'],\n",
       " ['Large portions', 'Prompt service', 'Kind waitress'],\n",
       " ['Rude and condescending customer service',\n",
       "  'Snobby comment about dress location',\n",
       "  'Price comparison with Dillards'],\n",
       " ['Late night snack availability', 'Restaurant decor', 'Service quality'],\n",
       " ['Decent pies and salads',\n",
       "  'Amazing service tableside',\n",
       "  'Halloween candy treat'],\n",
       " ['Emergency pet hospital wait time',\n",
       "  'Dog admission process',\n",
       "  'Patient prioritization'],\n",
       " ['Unmet expectations', 'Dry chicken and waffles', 'Food not worth it'],\n",
       " ['Best Buy', 'TVSection', 'Chelsea'],\n",
       " ['Calamari', 'Tri tip sliders', 'Service'],\n",
       " ['Homemade food', 'Arizona Benedict', 'Good food'],\n",
       " ['Reservation issues', 'Windy conditions', 'Cold interior'],\n",
       " ['Excellent service', 'Modern atmosphere', 'Variety of drink options'],\n",
       " ['Poor customer service',\n",
       "  'Inadequate maintenance',\n",
       "  'Unsatisfactory amenities'],\n",
       " ['Unbelievably bad service', 'Long waiting times', 'Lack of support staff'],\n",
       " ['Chicken sandwich', 'Barf on a bun', 'Customer satisfaction'],\n",
       " ['Caesar salad', 'Fries with truffles', 'Cajun meat sandwich'],\n",
       " ['Deli experience', 'Meat selection', 'Customer service'],\n",
       " ['Seafood buffet', 'High quality dishes', 'Service and ambiance'],\n",
       " ['Cheddar cheese', 'NOT Mexican', 'Cheese'],\n",
       " ['Carte Blanche', 'Montreal', 'Inventive cuisine'],\n",
       " ['Sports bar', 'Service', 'Drinks'],\n",
       " ['Jewelry Resale Experience',\n",
       "  'Customer Service',\n",
       "  'Fair Pricing and Trade In Policy'],\n",
       " ['Customer satisfaction', 'Central location', 'Return to location'],\n",
       " ['Amazing bartenders',\n",
       "  'Personalized service',\n",
       "  'Must visit multiple times for accurate review'],\n",
       " ['Great atmosphere', 'horrible service', 'wrong meals'],\n",
       " ['Smash fries', 'Tasty burgers', 'Fast food expectations'],\n",
       " ['Excellent customer service',\n",
       "  'High quality music',\n",
       "  'Memorable birthday celebration'],\n",
       " ['Horrible service', 'Horrible food', 'Undercooked seafood pasta'],\n",
       " ['Thai food', 'Take out', 'Customer satisfaction'],\n",
       " ['Customer dissatisfaction with security measures',\n",
       "  'Theft of money',\n",
       "  'Lack of communication from security personnel'],\n",
       " ['Friendliness and helpful nature of the driver',\n",
       "  'Timely arrival of the shuttle',\n",
       "  'Inept company and disorganized driver'],\n",
       " ['Art project', 'Charming and beaming CMU students', 'Art promotion'],\n",
       " ['Excellent everything',\n",
       "  'Classic family run Greek restaurant',\n",
       "  'Home made everything'],\n",
       " ['Bachelorette party', 'Room decor', 'Pool facilities'],\n",
       " ['Outdoor seating', 'Quiet atmosphere', 'Variety of wings'],\n",
       " ['Poor customer service', 'Long waiting time', 'Incorrect orders'],\n",
       " ['Affordable buffet', 'Breakfast offerings', 'Meals at the buffet'],\n",
       " ['Food quality', 'Cleanliness', 'Service'],\n",
       " ['Carefree weekend', 'Room quality', 'Cockroach incident'],\n",
       " ['subtractpoliticspoliticspoliticspoliticspoliticspoliticspoliticspoliticspolitics',\n",
       "  'subtractpoliticspoliticspoliticspoliticspoliticspoliticspoliticspoliticspolitics',\n",
       "  'subtractpoliticspoliticspoliticspoliticspoliticspoliticspoliticspoliticspolitics'],\n",
       " ['Groupon', 'Anniversary', 'Salad bar'],\n",
       " ['Quality of food', 'Rice', 'Chicken BBQ stick'],\n",
       " ['Unfriendly staff', 'Rude comments', 'Overpriced services'],\n",
       " ['Denny', 'Breakfast buffet', 'Overpriced'],\n",
       " ['poor customer service', 'unsatisfactory food quality', 'negative reviews'],\n",
       " ['Girls in uniform', 'Hamburgers', 'Beer selection'],\n",
       " ['Rude people at the airport',\n",
       "  'Insolent gate staff',\n",
       "  'Unimpressive atmosphere with gambling'],\n",
       " ['Staff Discrimination', 'Hostess Insults', 'Server Disrespect'],\n",
       " ['Super filling', 'Not a fan of the hummus', 'Awesome'],\n",
       " ['Movie theater', 'Casino', 'Central location'],\n",
       " ['Poor service', 'Disengaged wait staff', 'Dismissive wine description'],\n",
       " ['Line at the restaurant', 'Food quality', 'Atmosphere'],\n",
       " ['Horrible', 'Stay Away', 'Deceiving Looks'],\n",
       " ['NYstyle gourmet market', 'Random gifts', 'Amazing bakery'],\n",
       " ['Lighting', 'DJing', 'Club atmosphere'],\n",
       " ['Disappointed with Gordon Ramsey',\n",
       "  'Poor food quality',\n",
       "  'Unsatisfactory wait time'],\n",
       " ['Burger quality', 'Food temperature', 'Service quality'],\n",
       " ['Food quality', 'Service quality', 'Atmosphere'],\n",
       " ['Hotel quality', 'Room cleanliness', 'Rental car suggestion'],\n",
       " ['Atmosphere', 'Food', 'Service'],\n",
       " ['Family friendly', 'Suites', 'Great deal for the price'],\n",
       " ['Superficial membership', 'Customer service', 'Inventory'],\n",
       " ['Expensive for what you get',\n",
       "  'Hounds you to death',\n",
       "  'Meat is the main focus'],\n",
       " ['subtractpoliticspoliticspoliticspoliticspoliticspoliticspoliticspoliticspolitics',\n",
       "  'subtractpoliticspoliticspoliticspoliticspoliticspoliticspoliticspoliticspolitics',\n",
       "  'subtractpoliticspoliticspoliticspoliticspoliticspoliticspoliticspoliticspolitics'],\n",
       " ['Double quarter pounder with cheese',\n",
       "  'Double cheeseburger with extra onions',\n",
       "  'Charged for double cheeseburger without bag'],\n",
       " ['Cheap motel', 'Noisy environment', 'Uncomfortable temperature'],\n",
       " ['Los Dos', 'Machaca', 'Service'],\n",
       " ['pickup time', 'car availability', 'last minute notification'],\n",
       " ['Unsatisfactory customer service', 'Poor security', 'Boring atmosphere'],\n",
       " ['Full menu in lounge area',\n",
       "  'Lobster Tacos',\n",
       "  'Ahi Tuna with sauteed Asparagus'],\n",
       " ['Poor customer service',\n",
       "  'Unauthorized pets',\n",
       "  'High rent and additional fees'],\n",
       " ['Food quality', 'Service experience', 'Ambience and decor'],\n",
       " ['Friends card', 'Online registration', 'Maximize savings'],\n",
       " ['Empty place', 'Long wait', 'Terrible service'],\n",
       " ['Customer service at Bluegreen', 'Unused points', 'Lack of communication'],\n",
       " ['Unhealthy and blah taste', 'Small toppings', 'Weak sauce'],\n",
       " ['Poorly managed', 'Incompetent wait staff', 'Never come back'],\n",
       " ['Quick and cheap meal',\n",
       "  'Enjoyable orange chicken',\n",
       "  'Unenjoyable teriyaki chicken'],\n",
       " ['Excellent food', 'Reasonable prices', 'Outstanding service'],\n",
       " ['Unfair contract terms',\n",
       "  'Poor customer service',\n",
       "  'Inadequate product quality'],\n",
       " ['Best little secret', 'Great lunch', 'Elevates work day lunch'],\n",
       " ['Authenticity of Chinese restaurant',\n",
       "  'Main course rice',\n",
       "  'Price per person'],\n",
       " ['Slow drive thru',\n",
       "  'Order wrong',\n",
       "  'Terrible speaker at drive through order board'],\n",
       " ['Cold Stone Creamery dissatisfaction',\n",
       "  'Portion size issue',\n",
       "  'Unresponsive management'],\n",
       " ['Unique thin crust', 'Cheap price', 'Great find'],\n",
       " ['Excellent accommodations', 'Price', 'Check in process'],\n",
       " ['Great place', 'Atmosphere', 'Price'],\n",
       " ['Costco employee behavior',\n",
       "  'Costco membership rules',\n",
       "  'Customer service dissatisfaction'],\n",
       " ['Pizza quality', 'Salad quality', 'Service quality'],\n",
       " ['HHs pricing discrepancy',\n",
       "  'Unsatisfactory food quality',\n",
       "  'Unmet expectations'],\n",
       " ['Chicken Angelo', 'Mushroom', 'Artichoke'],\n",
       " ['Good restaurants',\n",
       "  'Service is always good',\n",
       "  'Clean rooms and comfortable beds'],\n",
       " ['Tree purchase', 'Spider mites', 'Customer dissatisfaction'],\n",
       " ['Unprofessional behavior of bartender',\n",
       "  'Rude and discriminatory comments',\n",
       "  'Negative impact on customer satisfaction'],\n",
       " ['Yardhouse', 'Beer', 'Delicious Innovated Foods'],\n",
       " ['Super attentive owner and staff',\n",
       "  'Fresh and flavorful sushi',\n",
       "  'Great location close to home'],\n",
       " ['Water pricing', 'Customer satisfaction', 'Not Starbucks fault'],\n",
       " ['Food quality', 'Service quality', 'Margaritas'],\n",
       " ['Comped drinks', 'Slow service', 'Meh experience'],\n",
       " ['Friendly atmosphere', 'Well organized menu', 'Fresh crepes'],\n",
       " ['customer satisfaction', 'positive feedback', 'excellent service'],\n",
       " ['Scuba shop', 'New scuba shop', 'Scuba diving experience'],\n",
       " ['Customer dissatisfaction with show quality',\n",
       "  'Unsatisfactory seating arrangement',\n",
       "  'Lack of passion in performer'],\n",
       " ['Customer dissatisfaction with haircut quality',\n",
       "  'Business practice of answering phone during haircut',\n",
       "  'Switching to a different salon for better service'],\n",
       " ['Great place', 'Large old house', 'Nice breakfasts'],\n",
       " ['Apartment Maintenance Issues',\n",
       "  'Ceiling Leak and Mold',\n",
       "  'Unresponsive Management'],\n",
       " ['Vegetarian pizza', 'Nutty fudge sundae', 'Yummmmmmmm'],\n",
       " ['Best place for Mexican food', 'Pork tacos', 'Nachos'],\n",
       " ['Wonderful place downtown',\n",
       "  'True Brave Souls',\n",
       "  'Great restaurant with conversation'],\n",
       " ['Cheap', 'Slow service', 'Bottom line'],\n",
       " ['Food quality control', 'Temperature of food', 'Customer satisfaction'],\n",
       " ['Olive Garden', 'Fettucini Alfredo', 'Breadsticks'],\n",
       " ['Scammed with private trainer sessions',\n",
       "  'Lack of training',\n",
       "  'Dirty and crowded sessions'],\n",
       " ['Poorly run Halloween contest',\n",
       "  'Inadequate customer service',\n",
       "  'Hostile attitude towards customers'],\n",
       " ['Food quality', 'Variety of dishes', 'Service'],\n",
       " ['Group happy hour spot',\n",
       "  'Sports bar fun',\n",
       "  'Good service and friendly staff'],\n",
       " ['Professionalism and budget management',\n",
       "  'Customized solutions',\n",
       "  'High standards and quality work'],\n",
       " ['Spacious and clean rooms', 'Comfortable beds', 'Perfect location'],\n",
       " ['Vietnamese restaurant', 'Roll', 'Pho'],\n",
       " ['Food', 'Service', 'Facility'],\n",
       " ['Jason Reuben sandwich', 'Service slow', 'Food quality atrocious'],\n",
       " ['BEST steakhouse', 'Filet', 'Family'],\n",
       " ['Crab legs', 'Disappointed with everything', 'Abrasive wait staff'],\n",
       " ['Poor service', 'Slow service', 'Incorrect orders'],\n",
       " ['Best Deal in Town', 'Jordan', 'HDTV'],\n",
       " ['Customer service', 'Quality', 'Optometrist'],\n",
       " ['Unwanted experience', 'Poor food quality', 'Average service'],\n",
       " ['Delicious coffee', 'Ahi sliders', 'Sesame crusted'],\n",
       " ['Late closing time', 'Unclear communication', 'Empty club'],\n",
       " ['Fantastic restaurant', 'Fernando was awesome', 'Cabo Flip Margaritas'],\n",
       " ['Harbor Freight store', 'Chinese crap tools', 'Service side'],\n",
       " ['Family friendly attractions in Vegas',\n",
       "  'Frozen Hot Chocolate',\n",
       "  'Food and drink options at Serendipity'],\n",
       " ['Customer satisfaction with grooming services',\n",
       "  'Importance of detailed report cards',\n",
       "  'Recommendation for other pet owners'],\n",
       " ['Customer dissatisfaction with food quality',\n",
       "  'Inconsistency in food preparation',\n",
       "  'Over dressing of salads'],\n",
       " ['Poor patient experience', 'Lack of medical staff', 'High medical costs'],\n",
       " ['Delicioso', 'Andale mi amgos', 'Delicioso'],\n",
       " ['Disgusting food', 'Expensive price', 'Good service'],\n",
       " ['Excellent place for shopping and dining at the miracle mile',\n",
       "  'Located towards the middle of the strip for easy access',\n",
       "  'Planet Hollywood Towers is not Mandalay Bay or Wynn'],\n",
       " ['DUMP', 'SUCKS', 'GROSS'],\n",
       " ['Arcadia Farms', 'Wedding dress fitting', 'Unsatisfactory service'],\n",
       " ['Liberty Diner', 'Food quality', 'Market comparison'],\n",
       " ['Freshness of food', 'Friendliness of staff', 'Service quality'],\n",
       " ['Expensive', 'Cleanliness', 'Customer Satisfaction'],\n",
       " ['Happy Hour', 'Excellent food', 'Excellent prices'],\n",
       " ['Top end kitchen stores', 'Made in China', 'High quality cooking toys'],\n",
       " ['Waiter service', 'Menu availability', 'Food quality'],\n",
       " ['Super spicy', 'Great friendly', 'Fast service'],\n",
       " ['Menu items', 'Quality of food', 'Service'],\n",
       " ['Food quality and variety',\n",
       "  'Customer service and satisfaction',\n",
       "  'Buffet management and organization'],\n",
       " ['Johnny Rockets location', 'Long wait time', 'Good food'],\n",
       " ['Bartender rudeness',\n",
       "  'Negative impact on family',\n",
       "  'Negative impact on business reputation'],\n",
       " ['Good time', 'Party of eight', 'Sushi chef'],\n",
       " ['Spirit Airlines baggage policy',\n",
       "  'Spirit Airlines fees and charges',\n",
       "  'Spirit Airlines MasterCard policy'],\n",
       " ['Excellent food quality',\n",
       "  'Great recommendations from the waiter',\n",
       "  'Buy one get one free coupon for lunch'],\n",
       " ['Wait time', 'Food quality', 'Patty flavor'],\n",
       " ['Tapas', 'Excellent service', 'Duck confit in filo dough'],\n",
       " ['Classic brunch food', 'Service slow', 'Pancakes size variation'],\n",
       " ['Vietnamese food', 'Pho', 'Good food'],\n",
       " ['Unimpressed with food quality',\n",
       "  'Drinks not brought out first',\n",
       "  'High prices for sandwiches'],\n",
       " ['Espresso Royale', 'Near campus', 'Friendly staff'],\n",
       " ['customer satisfaction', 'zebra man', 'fun'],\n",
       " ['Great service', 'Fajita quesadilla', 'Gigantic margaritas'],\n",
       " ['Expensive', 'Beautiful setting', 'Great experience'],\n",
       " ['Excellent pitas', 'Gyro', 'Highly recommend'],\n",
       " ['Location', 'Beer selection', 'Staff behavior'],\n",
       " ['Excellent service', 'Spring roll', 'Pho'],\n",
       " ['Best black and tans',\n",
       "  'Dim and cool atmosphere',\n",
       "  'Great place to meet friends and go to a game'],\n",
       " ['Terrible seating', 'Uncomfortable seats', 'Overcrowded theater'],\n",
       " ['Great diner', 'Hefty portions', 'Satisfaction'],\n",
       " ['Cracker Barrel customer service',\n",
       "  'Country Boy Breakfast',\n",
       "  'French toast special'],\n",
       " ['Best Sashimi and Sushi', 'Excellent Service', 'Warm Neighborhood Setting'],\n",
       " ['Party location', 'Service at the bar', 'Patio seating'],\n",
       " ['Overpriced tacos', 'Poorly cut lettuce', 'Unfriendly staff'],\n",
       " ['Honda repair', 'Fair and honest', 'Saturday availability'],\n",
       " ['Poor service', 'Unsatisfactory food', 'Issues with groupon'],\n",
       " ['Small place charm', 'Large disappointment', 'Customer satisfaction'],\n",
       " ['Mint Museum', 'Decor', 'Service'],\n",
       " ['Poor food quality', 'Unpleasant customer service', 'Delivery issues'],\n",
       " ['Haircut and style', 'Excitement and satisfaction', 'Service and pricing'],\n",
       " ['Mexican food place', 'Fries', 'Menu rethinking'],\n",
       " ['Horrible customer service',\n",
       "  'Forced to buy a drink',\n",
       "  'Wrong order and rude service'],\n",
       " ['Knowledgeable staff', 'Fantastic food', 'Enjoyable dining experience'],\n",
       " ['Service', 'Food', 'Communication'],\n",
       " ['Blow dry service', 'Stylist experience', 'Customer satisfaction'],\n",
       " ['Pizza quality', 'Price', 'Value for money'],\n",
       " ['Customer satisfaction', 'Dissatisfaction', 'Closure'],\n",
       " ['Great service', 'Pick up on the way home', 'Smores pizza'],\n",
       " ['Best juice', 'Wellness Drink', 'Perfect proportions'],\n",
       " ['Doughnut availability', 'Classic glaze availability', 'Management'],\n",
       " ['Great new spot', 'Central Scottsdale', 'Good Mexican food'],\n",
       " ['Wonderful experience',\n",
       "  'Friendly and helpful staff',\n",
       "  'High quality food presentation'],\n",
       " ['Pizza quality', 'Atmosphere', 'Nutritional guides'],\n",
       " ['Better parking at Paragon',\n",
       "  'Convenient parking location',\n",
       "  'Day After Christmas sale'],\n",
       " ['Food and Beers', 'Happy Hour', 'Great Place to Hangout'],\n",
       " ['Best Mediterranean restaurant', 'Kebabs', 'Madison'],\n",
       " ['Poor food quality', 'Lack of effort in preparation', 'Unpleasant ambiance'],\n",
       " ['Bed delivery delay', 'Unresponsive customer service', 'Bed not received'],\n",
       " ['Unsatisfactory food quality',\n",
       "  'Unsatisfactory service',\n",
       "  'Unsatisfactory value for money'],\n",
       " ['Carolina style sauces',\n",
       "  'Great beer selection',\n",
       "  'Hush puppies addicting and delicious'],\n",
       " ['Nostrano for lunch', 'Decor', 'Affogato'],\n",
       " ['Poor service', 'Nasty food', 'Hellish wait'],\n",
       " ['Unattentive server', 'Ignored customers', 'Poor customer service'],\n",
       " ['Poor customer service', 'Asian employees', 'Delayed service'],\n",
       " ['Good experience', 'Gas charge', 'Refund'],\n",
       " ['GameStop', 'Customer satisfaction', 'Good manager'],\n",
       " ['First time experience', 'Not good', 'Disappointment'],\n",
       " ['xtracts', 'xtracts', 'xtracts'],\n",
       " ['Delicious Mexican food', 'Lunch specials', 'Traditional Mexican food'],\n",
       " ['Subaru', 'Service', 'Loaner'],\n",
       " ['Friendly server', 'Amazing food', 'Busy spot'],\n",
       " ['Greasy Pit', 'Heart Disease', 'Taco Grease'],\n",
       " ['Car wash employee', 'Car maintenance', 'Customer satisfaction'],\n",
       " ['Great club experience',\n",
       "  'Longest wait for us at a club',\n",
       "  'Tao Beach is awesome'],\n",
       " ['Burger joint', 'Smashburger', 'Sauce options'],\n",
       " ['Poor maintenance',\n",
       "  'Cleanliness issues',\n",
       "  'Unsatisfactory customer experience'],\n",
       " ['Great in house made donuts',\n",
       "  'Good prices too',\n",
       "  'Highly recommend the original'],\n",
       " ['Great food', 'Combo value', 'Affordable prices'],\n",
       " ['buffet price', 'service', 'food variety'],\n",
       " ['Fries', 'Well done', 'Awesome'],\n",
       " ['BBQ pork and duck v roasted', 'Amazing rice dishes', 'Great Value'],\n",
       " ['Joe', 'Casual dining experience', 'Inconsistency in barbecue quality'],\n",
       " ['Great place for a retreat',\n",
       "  'Meditation and Spiritual cleansing',\n",
       "  'Terrific grounds and facilities'],\n",
       " ['Overpriced', 'Very slow service', 'Food was decent'],\n",
       " ['Earl of Sandwich location and parking',\n",
       "  'Favorite sandwich and praise for sauce',\n",
       "  'Price and value for money in Vegas']]"
      ]
     },
     "execution_count": 28,
     "metadata": {},
     "output_type": "execute_result"
    }
   ],
   "source": [
    "topics"
   ]
  },
  {
   "cell_type": "code",
   "execution_count": 36,
   "id": "4e522907-be6b-466b-8b88-76a0f1456197",
   "metadata": {},
   "outputs": [
    {
     "name": "stderr",
     "output_type": "stream",
     "text": [
      "100%|██████████████████████████████████████████| 6/6 [00:00<00:00, 58525.17it/s]\n",
      "100%|███████████████████████████████████████████| 30/30 [00:00<00:00, 64.76it/s]\n",
      "100%|█████████████████████████████████████████| 160/160 [01:10<00:00,  2.26it/s]\n"
     ]
    }
   ],
   "source": [
    "import numpy as np\n",
    "from hnne import HNNE\n",
    "from tqdm import tqdm\n",
    "\n",
    "unique_topics = np.unique(np.array(topics).flatten())\n",
    "topic_embeddings = model.encode(unique_topics)\n",
    "\n",
    "hnne = HNNE()\n",
    "projection = hnne.fit_transform(topic_embeddings)\n",
    "\n",
    "partitions = hnne.hierarchy_parameters.partitions[:,::-1]\n",
    "partition_sizes = hnne.hierarchy_parameters.partition_sizes[::-1]\n",
    "number_of_levels = partitions.shape[1]\n",
    "\n",
    "max_cluster_size = round(np.mean(np.bincount(partitions[:,-1])))\n",
    "\n",
    "\n",
    "topic_mappings = []\n",
    "\n",
    "for partition_idx in range(number_of_levels):\n",
    "    partitioning = partitions[:, partition_idx]\n",
    "    clusters, cluster_sizes  = np.unique(partitioning, return_counts=True)\n",
    "    for cluster, cluster_size in tqdm(zip(clusters, cluster_sizes), total=len(clusters)):\n",
    "        if cluster == -1:\n",
    "            continue\n",
    "        if cluster_size > max_cluster_size and not partition_idx == (number_of_levels-1):\n",
    "            continue\n",
    "        tmp_llm = llm\n",
    "        cluster_indices = np.where(partitioning == cluster)[0]\n",
    "        cluster_topics = unique_topics[cluster_indices]\n",
    "        original_cluster_topics = cluster_topics\n",
    "        if len(cluster_topics) > max_cluster_size:\n",
    "            cluster_topics = np.random.choice(cluster_topics, size=max_cluster_size, replace=False)\n",
    "\n",
    "        prompt_template = (\n",
    "            \"Evaluate the following list of topics. Determine if they are semantically similar and not contradicting each other. \"\n",
    "            \"Provide a brief explanation for your decision. If they are similar, identify the most prototypical topic for the cluster. \"\n",
    "            \"Choose a prototypical topic that describes the overall concept well and is not too specific. If there is any nuances regarding sentiment, choose a neutral one, e.g., if there is cheap food or food choose food.\"\n",
    "            \"If they are not similar, briefly explain why.\\n\"\n",
    "            \"\\nExamples:\"\n",
    "            \"\\n- Topics: ['Fast Service', 'Quick Response', 'Speedy Delivery'] → Semantically Similar: yes, Explanation: because all topics relate to speed and efficiency. Most Prototypical Topic: Fast Service\"\n",
    "            \"\\n- Topics: ['Friendly Staff', 'Poor Hygiene', 'Tasty Food'] → Semantically Similar: no, Explanation: because the topics cover different aspects (staff behavior, cleanliness, and food quality) with no unifying theme.\"\n",
    "            \"\\n- Topics: ['Organic Ingredients', 'Fresh Produce', 'Local Farming'] → Semantically Similar: yes, Explanation: because all topics are related to natural and local food sourcing. Most Prototypical Topic: Organic Ingredients\"\n",
    "            \"\\n- Topics: ['Online Booking', 'Flight Delay', 'Airport Security'] → Semantically Similar: no, Explanation: because the topics cover different stages and aspects of air travel, without a central theme.\"\n",
    "            \"\\n- Topics: ['Budget Planning', 'Financial Advice', 'Investment Strategies', 'Saving Accounts'] → Semantically Similar: yes, Explanation: because all topics pertain to financial management and planning. Most Prototypical Topic: Financial Advice\"\n",
    "            \"\\n- Topics: ['Thriller Genre', 'Romantic Novels', 'Science Fiction'] → Semantically Similar: no, Explanation: because each topic refers to a distinct literary genre without overlap.\"\n",
    "            \"\\n- Topics: ['Renewable Energy', 'Solar Panels', 'Wind Turbines', 'Sustainable Resources'] → Semantically Similar: yes, Explanation: because all topics relate to sustainable and renewable energy sources. Most Prototypical Topic: Renewable Energy\"\n",
    "            \"\\n- Topics: ['Historical Landmarks', 'Museum Exhibits', 'Art Galleries'] → Semantically Similar: yes, Explanation: because all topics are connected to cultural and historical attractions. Most Prototypical Topic: Historical Landmarks\"\n",
    "            \"\\n\\nOriginal Topic List: {topics}\\n\"\n",
    "        )\n",
    "\n",
    "\n",
    "# Your existing code for using this template...\n",
    "\n",
    "\n",
    "\n",
    "        max_topics = len(cluster_topics)  # Set the maximum number of topics you want to allow\n",
    "    \n",
    "\n",
    "        with user():\n",
    "            tmp_llm += prompt_template.format(max_topics=max_topics, topics=str(cluster_topics))\n",
    "\n",
    "        with assistant():\n",
    "            tmp_llm += \"Semantically Similar: \" +  select([\"yes\", \"no\"], name=\"semantically_similar\") + \",  Explanation: \" + gen(max_tokens=30, stop=[\".\", \"\\n\", \"!\"])\n",
    "            if tmp_llm[\"semantically_similar\"] == \"yes\":   \n",
    "                tmp_llm += \"\\nMost Prototypical Topic: \" + select(cluster_topics, name=\"prototypical_topic\")\n",
    "\n",
    "                topic_mappings.append({\"old\": original_cluster_topics.tolist(), \"new\": tmp_llm[\"prototypical_topic\"]})\n",
    "                partitions[cluster_indices,partition_idx+1:] = -1\n",
    "        \n",
    "\n",
    "\n",
    "\n",
    "        "
   ]
  },
  {
   "cell_type": "code",
   "execution_count": 37,
   "id": "a049153d-e3a5-433b-b9f9-39c2d1bb5c9a",
   "metadata": {},
   "outputs": [
    {
     "name": "stdout",
     "output_type": "stream",
     "text": [
      "[{'old': ['AWESOME', 'Atmosphere', 'Cheers', 'Cheers atmosphere', 'Dim and cool atmosphere', 'Great atmosphere', 'Hip and trendy atmosphere', 'Modern atmosphere'], 'new': 'Atmosphere'}, {'old': ['Andale mi amgos', 'Authentic French bistro', 'Authentic Mexican food', 'Best burritos', 'Delicious Mexican food', 'Fajita quesadilla', 'French toast special', 'Fresh baguette', 'Good Mexican food', 'Mexican food', 'Mexican food and service', 'Mexican food place', 'NOT Mexican', 'Tamales', 'Traditional Mexican food'], 'new': 'Mexican food'}, {'old': ['Attentive staff', 'Excellent staff', 'Great staff'], 'new': 'Excellent staff'}, {'old': ['Best little secret', 'Best part', 'Decent', 'Decent chefs and food quality', 'Decent food', 'Decent pies and salads', 'Deli experience', 'Delicious food', 'Delish food', 'Doughnut availability', 'Excellent food', 'Excellent food quality', 'Excellent pitas', 'GREAT food', 'Good flavor', 'Good food', 'Greasy Pit', 'Great Place to Hangout', 'Great food', 'Great in house made donuts', 'Great lunch', 'Great place for breakfast', 'Great portions', 'Incredible food', 'Nostrano for lunch', 'Same taste', 'Sushi chef', 'Very friendly chef'], 'new': 'Best little secret'}, {'old': ['Born And Raised', 'Family', 'Family friendly', 'Good family memories', 'Negative impact on family', 'friendly people'], 'new': 'Family'}, {'old': ['Burger joint', 'Burger quality', 'CBCLT Burger', 'Donaldson Watches', 'Hamburgers', 'LasVegas', 'Malbec burger', 'Nachos', 'Patty flavor', 'Tasty burgers', 'Thalis'], 'new': 'Burger joint'}, {'old': ['Communication', 'Lack of communication', 'Lack of communication from security personnel', 'Lack of communication from the veterinarian', 'Live Person Interaction', 'Service and conversation'], 'new': 'Lack of communication'}, {'old': ['Customer Service', 'Customer experience', 'Excellent customer service', 'Fast service', 'Friendly service', 'Service is always good'], 'new': 'Customer Service'}, {'old': ['Delicious Innovated Foods', 'Inventive cuisine'], 'new': 'Delicious Innovated Foods'}, {'old': ['Delicious coffee', 'Espresso Royale', 'Iced Coffee', 'Iced chai', 'Not Starbucks fault'], 'new': 'Espresso Royale'}]\n"
     ]
    }
   ],
   "source": [
    "print(topic_mappings)"
   ]
  },
  {
   "cell_type": "code",
   "execution_count": 35,
   "id": "1af41283-446c-49bb-83c3-c5177b0f9f90",
   "metadata": {},
   "outputs": [],
   "source": [
    "# Creating a dictionary for easy lookup\n",
    "topic_lookup = {old_topic: mapping['new'] for mapping in topic_mappings for old_topic in mapping['old']}\n",
    "\n",
    "# Applying the mapping\n",
    "topics = [[topic_lookup.get(topic, topic) for topic in doc] for doc in topics]"
   ]
  },
  {
   "cell_type": "code",
   "execution_count": null,
   "id": "5433d0ec-1159-4335-8968-48d1121261ab",
   "metadata": {},
   "outputs": [],
   "source": []
  }
 ],
 "metadata": {
  "kernelspec": {
   "display_name": "Python 3 (ipykernel)",
   "language": "python",
   "name": "python3"
  },
  "language_info": {
   "codemirror_mode": {
    "name": "ipython",
    "version": 3
   },
   "file_extension": ".py",
   "mimetype": "text/x-python",
   "name": "python",
   "nbconvert_exporter": "python",
   "pygments_lexer": "ipython3",
   "version": "3.11.5"
  }
 },
 "nbformat": 4,
 "nbformat_minor": 5
}
